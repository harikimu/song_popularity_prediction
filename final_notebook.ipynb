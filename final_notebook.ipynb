{
 "cells": [
  {
   "cell_type": "markdown",
   "metadata": {},
   "source": [
    "# Song Popularity Prediction"
   ]
  },
  {
   "cell_type": "markdown",
   "metadata": {
    "ExecuteTime": {
     "end_time": "2021-05-24T00:03:15.139565Z",
     "start_time": "2021-05-24T00:03:15.130551Z"
    }
   },
   "source": [
    "***"
   ]
  },
  {
   "cell_type": "markdown",
   "metadata": {},
   "source": [
    "## TABLE OF CONTENTS "
   ]
  },
  {
   "cell_type": "markdown",
   "metadata": {},
   "source": [
    "*Click to jump to matching Markdown Header.*<br><br>\n",
    " \n",
    "- **[Introduction](#INTRODUCTION)<br>**\n",
    "- **[OBTAIN](#OBTAIN)**<br>\n",
    "- **[SCRUB/EXPLORE](#SCRUB/EXPLORE)**<br>\n",
    "- **[MODEL](#MODEL)**<br>\n",
    "- **[iNTERPRET](#iNTERPRET)**<br>\n",
    "- **[Conclusions/Recommendations](#CONCLUSIONS-&-RECOMMENDATIONS)<br>**\n",
    "___"
   ]
  },
  {
   "cell_type": "markdown",
   "metadata": {},
   "source": [
    "# INTRODUCTION"
   ]
  },
  {
   "cell_type": "markdown",
   "metadata": {},
   "source": [
    "With Apple Music announcing on May 17th that they will be providing lossless audio along with spatial audio by Dolby Atmos for their subscribers and Tidal continuously providing exclusive content from artists, the competition among audio streaming platforms is heating up. Spotify would like to stay competitive by being able to predict which songs are going to be popular ahead of time so that they can curate even better playlists and sign deals with up-and-coming artists to have exclusivity on their content. This would not only help retain the current subscribers but also help market the platform to new subscribers as well.\n",
    "\n",
    "For this project, we were hired by Spotify to develop a machine learning model that can accurately predict whether a song is going to be popular or not. In order to achieve this, we will be evaluating different machine learning models and will look at what attributes of a song are the most important for determining its popularity."
   ]
  },
  {
   "cell_type": "markdown",
   "metadata": {},
   "source": [
    "# OBTAIN"
   ]
  },
  {
   "cell_type": "markdown",
   "metadata": {},
   "source": [
    "We will be using a dataset from Kaggle (https://www.kaggle.com/zaheenhamidani/ultimate-spotify-tracks-db) that contains approximately 232,000 tracks and their attributes to train several machine learning models in order to find the common threads between popular songs."
   ]
  },
  {
   "cell_type": "code",
   "execution_count": 1,
   "metadata": {
    "ExecuteTime": {
     "end_time": "2021-05-31T00:05:08.277776Z",
     "start_time": "2021-05-31T00:05:07.647170Z"
    }
   },
   "outputs": [],
   "source": [
    "import pandas as pd"
   ]
  },
  {
   "cell_type": "code",
   "execution_count": 2,
   "metadata": {
    "ExecuteTime": {
     "end_time": "2021-05-31T00:05:09.153232Z",
     "start_time": "2021-05-31T00:05:08.279775Z"
    }
   },
   "outputs": [
    {
     "data": {
      "text/html": [
       "<div>\n",
       "<style scoped>\n",
       "    .dataframe tbody tr th:only-of-type {\n",
       "        vertical-align: middle;\n",
       "    }\n",
       "\n",
       "    .dataframe tbody tr th {\n",
       "        vertical-align: top;\n",
       "    }\n",
       "\n",
       "    .dataframe thead th {\n",
       "        text-align: right;\n",
       "    }\n",
       "</style>\n",
       "<table border=\"1\" class=\"dataframe\">\n",
       "  <thead>\n",
       "    <tr style=\"text-align: right;\">\n",
       "      <th></th>\n",
       "      <th>genre</th>\n",
       "      <th>artist_name</th>\n",
       "      <th>track_name</th>\n",
       "      <th>track_id</th>\n",
       "      <th>popularity</th>\n",
       "      <th>acousticness</th>\n",
       "      <th>danceability</th>\n",
       "      <th>duration_ms</th>\n",
       "      <th>energy</th>\n",
       "      <th>instrumentalness</th>\n",
       "      <th>key</th>\n",
       "      <th>liveness</th>\n",
       "      <th>loudness</th>\n",
       "      <th>mode</th>\n",
       "      <th>speechiness</th>\n",
       "      <th>tempo</th>\n",
       "      <th>time_signature</th>\n",
       "      <th>valence</th>\n",
       "    </tr>\n",
       "  </thead>\n",
       "  <tbody>\n",
       "    <tr>\n",
       "      <th>0</th>\n",
       "      <td>Movie</td>\n",
       "      <td>Henri Salvador</td>\n",
       "      <td>C'est beau de faire un Show</td>\n",
       "      <td>0BRjO6ga9RKCKjfDqeFgWV</td>\n",
       "      <td>0</td>\n",
       "      <td>0.611</td>\n",
       "      <td>0.389</td>\n",
       "      <td>99373</td>\n",
       "      <td>0.910</td>\n",
       "      <td>0.000</td>\n",
       "      <td>C#</td>\n",
       "      <td>0.3460</td>\n",
       "      <td>-1.828</td>\n",
       "      <td>Major</td>\n",
       "      <td>0.0525</td>\n",
       "      <td>166.969</td>\n",
       "      <td>4/4</td>\n",
       "      <td>0.814</td>\n",
       "    </tr>\n",
       "    <tr>\n",
       "      <th>1</th>\n",
       "      <td>Movie</td>\n",
       "      <td>Martin &amp; les fées</td>\n",
       "      <td>Perdu d'avance (par Gad Elmaleh)</td>\n",
       "      <td>0BjC1NfoEOOusryehmNudP</td>\n",
       "      <td>1</td>\n",
       "      <td>0.246</td>\n",
       "      <td>0.590</td>\n",
       "      <td>137373</td>\n",
       "      <td>0.737</td>\n",
       "      <td>0.000</td>\n",
       "      <td>F#</td>\n",
       "      <td>0.1510</td>\n",
       "      <td>-5.559</td>\n",
       "      <td>Minor</td>\n",
       "      <td>0.0868</td>\n",
       "      <td>174.003</td>\n",
       "      <td>4/4</td>\n",
       "      <td>0.816</td>\n",
       "    </tr>\n",
       "    <tr>\n",
       "      <th>2</th>\n",
       "      <td>Movie</td>\n",
       "      <td>Joseph Williams</td>\n",
       "      <td>Don't Let Me Be Lonely Tonight</td>\n",
       "      <td>0CoSDzoNIKCRs124s9uTVy</td>\n",
       "      <td>3</td>\n",
       "      <td>0.952</td>\n",
       "      <td>0.663</td>\n",
       "      <td>170267</td>\n",
       "      <td>0.131</td>\n",
       "      <td>0.000</td>\n",
       "      <td>C</td>\n",
       "      <td>0.1030</td>\n",
       "      <td>-13.879</td>\n",
       "      <td>Minor</td>\n",
       "      <td>0.0362</td>\n",
       "      <td>99.488</td>\n",
       "      <td>5/4</td>\n",
       "      <td>0.368</td>\n",
       "    </tr>\n",
       "    <tr>\n",
       "      <th>3</th>\n",
       "      <td>Movie</td>\n",
       "      <td>Henri Salvador</td>\n",
       "      <td>Dis-moi Monsieur Gordon Cooper</td>\n",
       "      <td>0Gc6TVm52BwZD07Ki6tIvf</td>\n",
       "      <td>0</td>\n",
       "      <td>0.703</td>\n",
       "      <td>0.240</td>\n",
       "      <td>152427</td>\n",
       "      <td>0.326</td>\n",
       "      <td>0.000</td>\n",
       "      <td>C#</td>\n",
       "      <td>0.0985</td>\n",
       "      <td>-12.178</td>\n",
       "      <td>Major</td>\n",
       "      <td>0.0395</td>\n",
       "      <td>171.758</td>\n",
       "      <td>4/4</td>\n",
       "      <td>0.227</td>\n",
       "    </tr>\n",
       "    <tr>\n",
       "      <th>4</th>\n",
       "      <td>Movie</td>\n",
       "      <td>Fabien Nataf</td>\n",
       "      <td>Ouverture</td>\n",
       "      <td>0IuslXpMROHdEPvSl1fTQK</td>\n",
       "      <td>4</td>\n",
       "      <td>0.950</td>\n",
       "      <td>0.331</td>\n",
       "      <td>82625</td>\n",
       "      <td>0.225</td>\n",
       "      <td>0.123</td>\n",
       "      <td>F</td>\n",
       "      <td>0.2020</td>\n",
       "      <td>-21.150</td>\n",
       "      <td>Major</td>\n",
       "      <td>0.0456</td>\n",
       "      <td>140.576</td>\n",
       "      <td>4/4</td>\n",
       "      <td>0.390</td>\n",
       "    </tr>\n",
       "  </tbody>\n",
       "</table>\n",
       "</div>"
      ],
      "text/plain": [
       "   genre        artist_name                        track_name  \\\n",
       "0  Movie     Henri Salvador       C'est beau de faire un Show   \n",
       "1  Movie  Martin & les fées  Perdu d'avance (par Gad Elmaleh)   \n",
       "2  Movie    Joseph Williams    Don't Let Me Be Lonely Tonight   \n",
       "3  Movie     Henri Salvador    Dis-moi Monsieur Gordon Cooper   \n",
       "4  Movie       Fabien Nataf                         Ouverture   \n",
       "\n",
       "                 track_id  popularity  acousticness  danceability  \\\n",
       "0  0BRjO6ga9RKCKjfDqeFgWV           0         0.611         0.389   \n",
       "1  0BjC1NfoEOOusryehmNudP           1         0.246         0.590   \n",
       "2  0CoSDzoNIKCRs124s9uTVy           3         0.952         0.663   \n",
       "3  0Gc6TVm52BwZD07Ki6tIvf           0         0.703         0.240   \n",
       "4  0IuslXpMROHdEPvSl1fTQK           4         0.950         0.331   \n",
       "\n",
       "   duration_ms  energy  instrumentalness key  liveness  loudness   mode  \\\n",
       "0        99373   0.910             0.000  C#    0.3460    -1.828  Major   \n",
       "1       137373   0.737             0.000  F#    0.1510    -5.559  Minor   \n",
       "2       170267   0.131             0.000   C    0.1030   -13.879  Minor   \n",
       "3       152427   0.326             0.000  C#    0.0985   -12.178  Major   \n",
       "4        82625   0.225             0.123   F    0.2020   -21.150  Major   \n",
       "\n",
       "   speechiness    tempo time_signature  valence  \n",
       "0       0.0525  166.969            4/4    0.814  \n",
       "1       0.0868  174.003            4/4    0.816  \n",
       "2       0.0362   99.488            5/4    0.368  \n",
       "3       0.0395  171.758            4/4    0.227  \n",
       "4       0.0456  140.576            4/4    0.390  "
      ]
     },
     "execution_count": 2,
     "metadata": {},
     "output_type": "execute_result"
    }
   ],
   "source": [
    "#importing data into a dataframe\n",
    "df = pd.read_csv('./data/SpotifyFeatures.csv')\n",
    "df.head()"
   ]
  },
  {
   "cell_type": "code",
   "execution_count": 3,
   "metadata": {
    "ExecuteTime": {
     "end_time": "2021-05-31T00:05:09.360122Z",
     "start_time": "2021-05-31T00:05:09.156231Z"
    }
   },
   "outputs": [
    {
     "data": {
      "text/html": [
       "<div>\n",
       "<style scoped>\n",
       "    .dataframe tbody tr th:only-of-type {\n",
       "        vertical-align: middle;\n",
       "    }\n",
       "\n",
       "    .dataframe tbody tr th {\n",
       "        vertical-align: top;\n",
       "    }\n",
       "\n",
       "    .dataframe thead th {\n",
       "        text-align: right;\n",
       "    }\n",
       "</style>\n",
       "<table border=\"1\" class=\"dataframe\">\n",
       "  <thead>\n",
       "    <tr style=\"text-align: right;\">\n",
       "      <th></th>\n",
       "      <th>popularity</th>\n",
       "      <th>acousticness</th>\n",
       "      <th>danceability</th>\n",
       "      <th>duration_ms</th>\n",
       "      <th>energy</th>\n",
       "      <th>instrumentalness</th>\n",
       "      <th>liveness</th>\n",
       "      <th>loudness</th>\n",
       "      <th>speechiness</th>\n",
       "      <th>tempo</th>\n",
       "      <th>valence</th>\n",
       "    </tr>\n",
       "  </thead>\n",
       "  <tbody>\n",
       "    <tr>\n",
       "      <th>count</th>\n",
       "      <td>232725.000000</td>\n",
       "      <td>232725.000000</td>\n",
       "      <td>232725.000000</td>\n",
       "      <td>2.327250e+05</td>\n",
       "      <td>232725.000000</td>\n",
       "      <td>232725.000000</td>\n",
       "      <td>232725.000000</td>\n",
       "      <td>232725.000000</td>\n",
       "      <td>232725.000000</td>\n",
       "      <td>232725.000000</td>\n",
       "      <td>232725.000000</td>\n",
       "    </tr>\n",
       "    <tr>\n",
       "      <th>mean</th>\n",
       "      <td>41.127502</td>\n",
       "      <td>0.368560</td>\n",
       "      <td>0.554364</td>\n",
       "      <td>2.351223e+05</td>\n",
       "      <td>0.570958</td>\n",
       "      <td>0.148301</td>\n",
       "      <td>0.215009</td>\n",
       "      <td>-9.569885</td>\n",
       "      <td>0.120765</td>\n",
       "      <td>117.666585</td>\n",
       "      <td>0.454917</td>\n",
       "    </tr>\n",
       "    <tr>\n",
       "      <th>std</th>\n",
       "      <td>18.189948</td>\n",
       "      <td>0.354768</td>\n",
       "      <td>0.185608</td>\n",
       "      <td>1.189359e+05</td>\n",
       "      <td>0.263456</td>\n",
       "      <td>0.302768</td>\n",
       "      <td>0.198273</td>\n",
       "      <td>5.998204</td>\n",
       "      <td>0.185518</td>\n",
       "      <td>30.898907</td>\n",
       "      <td>0.260065</td>\n",
       "    </tr>\n",
       "    <tr>\n",
       "      <th>min</th>\n",
       "      <td>0.000000</td>\n",
       "      <td>0.000000</td>\n",
       "      <td>0.056900</td>\n",
       "      <td>1.538700e+04</td>\n",
       "      <td>0.000020</td>\n",
       "      <td>0.000000</td>\n",
       "      <td>0.009670</td>\n",
       "      <td>-52.457000</td>\n",
       "      <td>0.022200</td>\n",
       "      <td>30.379000</td>\n",
       "      <td>0.000000</td>\n",
       "    </tr>\n",
       "    <tr>\n",
       "      <th>25%</th>\n",
       "      <td>29.000000</td>\n",
       "      <td>0.037600</td>\n",
       "      <td>0.435000</td>\n",
       "      <td>1.828570e+05</td>\n",
       "      <td>0.385000</td>\n",
       "      <td>0.000000</td>\n",
       "      <td>0.097400</td>\n",
       "      <td>-11.771000</td>\n",
       "      <td>0.036700</td>\n",
       "      <td>92.959000</td>\n",
       "      <td>0.237000</td>\n",
       "    </tr>\n",
       "    <tr>\n",
       "      <th>50%</th>\n",
       "      <td>43.000000</td>\n",
       "      <td>0.232000</td>\n",
       "      <td>0.571000</td>\n",
       "      <td>2.204270e+05</td>\n",
       "      <td>0.605000</td>\n",
       "      <td>0.000044</td>\n",
       "      <td>0.128000</td>\n",
       "      <td>-7.762000</td>\n",
       "      <td>0.050100</td>\n",
       "      <td>115.778000</td>\n",
       "      <td>0.444000</td>\n",
       "    </tr>\n",
       "    <tr>\n",
       "      <th>75%</th>\n",
       "      <td>55.000000</td>\n",
       "      <td>0.722000</td>\n",
       "      <td>0.692000</td>\n",
       "      <td>2.657680e+05</td>\n",
       "      <td>0.787000</td>\n",
       "      <td>0.035800</td>\n",
       "      <td>0.264000</td>\n",
       "      <td>-5.501000</td>\n",
       "      <td>0.105000</td>\n",
       "      <td>139.054000</td>\n",
       "      <td>0.660000</td>\n",
       "    </tr>\n",
       "    <tr>\n",
       "      <th>max</th>\n",
       "      <td>100.000000</td>\n",
       "      <td>0.996000</td>\n",
       "      <td>0.989000</td>\n",
       "      <td>5.552917e+06</td>\n",
       "      <td>0.999000</td>\n",
       "      <td>0.999000</td>\n",
       "      <td>1.000000</td>\n",
       "      <td>3.744000</td>\n",
       "      <td>0.967000</td>\n",
       "      <td>242.903000</td>\n",
       "      <td>1.000000</td>\n",
       "    </tr>\n",
       "  </tbody>\n",
       "</table>\n",
       "</div>"
      ],
      "text/plain": [
       "          popularity   acousticness   danceability   duration_ms  \\\n",
       "count  232725.000000  232725.000000  232725.000000  2.327250e+05   \n",
       "mean       41.127502       0.368560       0.554364  2.351223e+05   \n",
       "std        18.189948       0.354768       0.185608  1.189359e+05   \n",
       "min         0.000000       0.000000       0.056900  1.538700e+04   \n",
       "25%        29.000000       0.037600       0.435000  1.828570e+05   \n",
       "50%        43.000000       0.232000       0.571000  2.204270e+05   \n",
       "75%        55.000000       0.722000       0.692000  2.657680e+05   \n",
       "max       100.000000       0.996000       0.989000  5.552917e+06   \n",
       "\n",
       "              energy  instrumentalness       liveness       loudness  \\\n",
       "count  232725.000000     232725.000000  232725.000000  232725.000000   \n",
       "mean        0.570958          0.148301       0.215009      -9.569885   \n",
       "std         0.263456          0.302768       0.198273       5.998204   \n",
       "min         0.000020          0.000000       0.009670     -52.457000   \n",
       "25%         0.385000          0.000000       0.097400     -11.771000   \n",
       "50%         0.605000          0.000044       0.128000      -7.762000   \n",
       "75%         0.787000          0.035800       0.264000      -5.501000   \n",
       "max         0.999000          0.999000       1.000000       3.744000   \n",
       "\n",
       "         speechiness          tempo        valence  \n",
       "count  232725.000000  232725.000000  232725.000000  \n",
       "mean        0.120765     117.666585       0.454917  \n",
       "std         0.185518      30.898907       0.260065  \n",
       "min         0.022200      30.379000       0.000000  \n",
       "25%         0.036700      92.959000       0.237000  \n",
       "50%         0.050100     115.778000       0.444000  \n",
       "75%         0.105000     139.054000       0.660000  \n",
       "max         0.967000     242.903000       1.000000  "
      ]
     },
     "execution_count": 3,
     "metadata": {},
     "output_type": "execute_result"
    }
   ],
   "source": [
    "#looking at the stats of different columns\n",
    "df.describe()"
   ]
  },
  {
   "cell_type": "code",
   "execution_count": 4,
   "metadata": {
    "ExecuteTime": {
     "end_time": "2021-05-31T00:05:09.470035Z",
     "start_time": "2021-05-31T00:05:09.362116Z"
    }
   },
   "outputs": [
    {
     "name": "stdout",
     "output_type": "stream",
     "text": [
      "<class 'pandas.core.frame.DataFrame'>\n",
      "RangeIndex: 232725 entries, 0 to 232724\n",
      "Data columns (total 18 columns):\n",
      " #   Column            Non-Null Count   Dtype  \n",
      "---  ------            --------------   -----  \n",
      " 0   genre             232725 non-null  object \n",
      " 1   artist_name       232725 non-null  object \n",
      " 2   track_name        232725 non-null  object \n",
      " 3   track_id          232725 non-null  object \n",
      " 4   popularity        232725 non-null  int64  \n",
      " 5   acousticness      232725 non-null  float64\n",
      " 6   danceability      232725 non-null  float64\n",
      " 7   duration_ms       232725 non-null  int64  \n",
      " 8   energy            232725 non-null  float64\n",
      " 9   instrumentalness  232725 non-null  float64\n",
      " 10  key               232725 non-null  object \n",
      " 11  liveness          232725 non-null  float64\n",
      " 12  loudness          232725 non-null  float64\n",
      " 13  mode              232725 non-null  object \n",
      " 14  speechiness       232725 non-null  float64\n",
      " 15  tempo             232725 non-null  float64\n",
      " 16  time_signature    232725 non-null  object \n",
      " 17  valence           232725 non-null  float64\n",
      "dtypes: float64(9), int64(2), object(7)\n",
      "memory usage: 32.0+ MB\n"
     ]
    }
   ],
   "source": [
    "df.info()"
   ]
  },
  {
   "cell_type": "markdown",
   "metadata": {},
   "source": [
    "We once again see that we have 232,725 tracks in the dataset with both categorical and numerical columns. In order to use the information from the categorical columns ('genre', 'artist_name', 'track_name', 'track_id', 'key', 'mode', 'time_signature') we will either need to represent them numerically by feature engineering or drop them to be able to train the models."
   ]
  },
  {
   "cell_type": "code",
   "execution_count": 5,
   "metadata": {
    "ExecuteTime": {
     "end_time": "2021-05-31T00:05:10.205619Z",
     "start_time": "2021-05-31T00:05:09.474032Z"
    }
   },
   "outputs": [
    {
     "name": "stdout",
     "output_type": "stream",
     "text": [
      "Column: genre\n",
      "Comedy              9681\n",
      "Soundtrack          9646\n",
      "Indie               9543\n",
      "Jazz                9441\n",
      "Pop                 9386\n",
      "Electronic          9377\n",
      "Children’s Music    9353\n",
      "Folk                9299\n",
      "Hip-Hop             9295\n",
      "Rock                9272\n",
      "Alternative         9263\n",
      "Classical           9256\n",
      "Rap                 9232\n",
      "World               9096\n",
      "Soul                9089\n",
      "Blues               9023\n",
      "R&B                 8992\n",
      "Anime               8936\n",
      "Reggaeton           8927\n",
      "Ska                 8874\n",
      "Reggae              8771\n",
      "Dance               8701\n",
      "Country             8664\n",
      "Opera               8280\n",
      "Movie               7806\n",
      "Children's Music    5403\n",
      "A Capella            119\n",
      "Name: genre, dtype: int64\n",
      "--------------------\n",
      "Column: artist_name\n",
      "Giuseppe Verdi            1394\n",
      "Giacomo Puccini           1137\n",
      "Kimbo Children's Music     971\n",
      "Nobuo Uematsu              825\n",
      "Richard Wagner             804\n",
      "                          ... \n",
      "REYNA                        1\n",
      "Your Smith                   1\n",
      "Juliana Aquino               1\n",
      "Changmo                      1\n",
      "Cartel                       1\n",
      "Name: artist_name, Length: 14564, dtype: int64\n",
      "--------------------\n",
      "Column: track_name\n",
      "Home                                                 100\n",
      "You                                                   71\n",
      "Intro                                                 69\n",
      "Stay                                                  63\n",
      "Wake Up                                               59\n",
      "                                                    ... \n",
      "Sweet Little Angel - Live                              1\n",
      "Organ Donor Programs                                   1\n",
      "Bone People                                            1\n",
      "Tú Mereces                                             1\n",
      "Hope She Cheats On You (With A Basketball Player)      1\n",
      "Name: track_name, Length: 148615, dtype: int64\n",
      "--------------------\n",
      "Column: track_id\n",
      "0UE0RhnRaEYsiYgXpyLoZc    8\n",
      "6sVQNUvcVFTXvlk3ec0ngd    8\n",
      "6AIte2Iej1QKlaofpjCzW1    8\n",
      "3uSSjnDMmoyERaAK9KvpJR    8\n",
      "0wY9rA9fJkuESyYm9uzVK5    8\n",
      "                         ..\n",
      "2ENWi9dhKyuclKul6QaeLl    1\n",
      "0hORgg6aV6GgDn5VQfZpcl    1\n",
      "4UYkjmUTy0YCOotrNcz6uI    1\n",
      "3Z6ZB2rAjuqsErN2gWzojW    1\n",
      "64i7jAh24blhIrRuxMWK1U    1\n",
      "Name: track_id, Length: 176774, dtype: int64\n",
      "--------------------\n",
      "Column: popularity\n",
      "0      6312\n",
      "50     5415\n",
      "53     5414\n",
      "51     5401\n",
      "52     5342\n",
      "       ... \n",
      "96        8\n",
      "94        7\n",
      "99        4\n",
      "98        3\n",
      "100       2\n",
      "Name: popularity, Length: 101, dtype: int64\n",
      "--------------------\n",
      "Column: acousticness\n",
      "0.995000    851\n",
      "0.994000    701\n",
      "0.992000    682\n",
      "0.993000    646\n",
      "0.991000    597\n",
      "           ... \n",
      "0.000005      1\n",
      "0.000007      1\n",
      "0.000098      1\n",
      "0.000083      1\n",
      "0.000009      1\n",
      "Name: acousticness, Length: 4734, dtype: int64\n",
      "--------------------\n",
      "Column: danceability\n",
      "0.5970    558\n",
      "0.5470    544\n",
      "0.6100    542\n",
      "0.5890    542\n",
      "0.6220    540\n",
      "         ... \n",
      "0.0584      1\n",
      "0.0577      1\n",
      "0.0570      1\n",
      "0.0878      1\n",
      "0.0596      1\n",
      "Name: danceability, Length: 1295, dtype: int64\n",
      "--------------------\n",
      "Column: duration_ms\n",
      "240000    138\n",
      "180000    120\n",
      "192000    115\n",
      "216000     99\n",
      "200000     85\n",
      "         ... \n",
      "258851      1\n",
      "238377      1\n",
      "164064      1\n",
      "244522      1\n",
      "262144      1\n",
      "Name: duration_ms, Length: 70749, dtype: int64\n",
      "--------------------\n",
      "Column: energy\n",
      "0.721000    417\n",
      "0.675000    403\n",
      "0.720000    392\n",
      "0.686000    389\n",
      "0.738000    389\n",
      "           ... \n",
      "0.002230      1\n",
      "0.000216      1\n",
      "0.006110      1\n",
      "0.009910      1\n",
      "0.007330      1\n",
      "Name: energy, Length: 2517, dtype: int64\n",
      "--------------------\n",
      "Column: instrumentalness\n",
      "0.00000    79236\n",
      "0.91200      235\n",
      "0.91000      230\n",
      "0.91800      222\n",
      "0.92300      222\n",
      "           ...  \n",
      "0.00966        1\n",
      "0.99900        1\n",
      "0.00667        1\n",
      "0.99800        1\n",
      "0.00888        1\n",
      "Name: instrumentalness, Length: 5400, dtype: int64\n",
      "--------------------\n",
      "Column: key\n",
      "C     27583\n",
      "G     26390\n",
      "D     24077\n",
      "C#    23201\n",
      "A     22671\n",
      "F     20279\n",
      "B     17661\n",
      "E     17390\n",
      "A#    15526\n",
      "F#    15222\n",
      "G#    15159\n",
      "D#     7566\n",
      "Name: key, dtype: int64\n",
      "--------------------\n",
      "Column: liveness\n",
      "0.1110    2860\n",
      "0.1100    2702\n",
      "0.1080    2608\n",
      "0.1090    2537\n",
      "0.1070    2451\n",
      "          ... \n",
      "0.0240       1\n",
      "0.0185       1\n",
      "0.0200       1\n",
      "0.0177       1\n",
      "0.0143       1\n",
      "Name: liveness, Length: 1732, dtype: int64\n",
      "--------------------\n",
      "Column: loudness\n",
      "-5.318     57\n",
      "-5.460     52\n",
      "-5.131     51\n",
      "-5.428     51\n",
      "-6.611     50\n",
      "           ..\n",
      "-31.696     1\n",
      "-38.267     1\n",
      "-45.192     1\n",
      "-28.588     1\n",
      "-1.494      1\n",
      "Name: loudness, Length: 27923, dtype: int64\n",
      "--------------------\n",
      "Column: mode\n",
      "Major    151744\n",
      "Minor     80981\n",
      "Name: mode, dtype: int64\n",
      "--------------------\n",
      "Column: speechiness\n",
      "0.0374    663\n",
      "0.0332    654\n",
      "0.0337    652\n",
      "0.0363    650\n",
      "0.0343    642\n",
      "         ... \n",
      "0.6070      1\n",
      "0.6880      1\n",
      "0.6620      1\n",
      "0.6750      1\n",
      "0.6670      1\n",
      "Name: speechiness, Length: 1641, dtype: int64\n",
      "--------------------\n",
      "Column: tempo\n",
      "120.016    61\n",
      "100.003    60\n",
      "100.014    60\n",
      "120.008    59\n",
      "120.003    59\n",
      "           ..\n",
      "82.571      1\n",
      "94.596      1\n",
      "62.067      1\n",
      "91.555      1\n",
      "110.206     1\n",
      "Name: tempo, Length: 78512, dtype: int64\n",
      "--------------------\n",
      "Column: time_signature\n",
      "4/4    200760\n",
      "3/4     24111\n",
      "5/4      5238\n",
      "1/4      2608\n",
      "0/4         8\n",
      "Name: time_signature, dtype: int64\n",
      "--------------------\n",
      "Column: valence\n",
      "0.9610    479\n",
      "0.9620    403\n",
      "0.9630    368\n",
      "0.3700    363\n",
      "0.3580    363\n",
      "         ... \n",
      "0.0232      1\n",
      "0.0209      1\n",
      "0.9950      1\n",
      "0.0227      1\n",
      "0.0180      1\n",
      "Name: valence, Length: 1692, dtype: int64\n",
      "--------------------\n"
     ]
    }
   ],
   "source": [
    "#looking at different values contained within columns\n",
    "for col in df.columns:\n",
    "    print(f\"Column: {col}\")\n",
    "    print(df[col].value_counts())\n",
    "    print(\"--------------------\")"
   ]
  },
  {
   "cell_type": "markdown",
   "metadata": {},
   "source": [
    "There are a couple things that stand out in the value counts of the columns. First one is that we have the \"Children's Music\" genre showing up twice and we have duplicated values in the track_id column."
   ]
  },
  {
   "cell_type": "markdown",
   "metadata": {},
   "source": [
    "# SCRUB/EXPLORE"
   ]
  },
  {
   "cell_type": "markdown",
   "metadata": {},
   "source": [
    "## Addressing \"Children's Music\" Character Discrepancy"
   ]
  },
  {
   "cell_type": "code",
   "execution_count": 6,
   "metadata": {
    "ExecuteTime": {
     "end_time": "2021-05-31T00:05:10.236602Z",
     "start_time": "2021-05-31T00:05:10.207619Z"
    },
    "scrolled": true
   },
   "outputs": [
    {
     "data": {
      "text/plain": [
       "Comedy              9681\n",
       "Soundtrack          9646\n",
       "Indie               9543\n",
       "Jazz                9441\n",
       "Pop                 9386\n",
       "Electronic          9377\n",
       "Children’s Music    9353\n",
       "Folk                9299\n",
       "Hip-Hop             9295\n",
       "Rock                9272\n",
       "Alternative         9263\n",
       "Classical           9256\n",
       "Rap                 9232\n",
       "World               9096\n",
       "Soul                9089\n",
       "Blues               9023\n",
       "R&B                 8992\n",
       "Anime               8936\n",
       "Reggaeton           8927\n",
       "Ska                 8874\n",
       "Reggae              8771\n",
       "Dance               8701\n",
       "Country             8664\n",
       "Opera               8280\n",
       "Movie               7806\n",
       "Children's Music    5403\n",
       "A Capella            119\n",
       "Name: genre, dtype: int64"
      ]
     },
     "execution_count": 6,
     "metadata": {},
     "output_type": "execute_result"
    }
   ],
   "source": [
    "df['genre'].value_counts()"
   ]
  },
  {
   "cell_type": "markdown",
   "metadata": {},
   "source": [
    "There are 2 types of \"Children's Music\" values in the genres due to the character used for apostrophe. Since both of these values are meant to show the same thing we need to merge them and achieve consistency."
   ]
  },
  {
   "cell_type": "code",
   "execution_count": 7,
   "metadata": {
    "ExecuteTime": {
     "end_time": "2021-05-31T00:05:10.268580Z",
     "start_time": "2021-05-31T00:05:10.238598Z"
    }
   },
   "outputs": [],
   "source": [
    "df.loc[df['genre']==\"Children’s Music\",'genre']=\"Children's Music\""
   ]
  },
  {
   "cell_type": "code",
   "execution_count": 8,
   "metadata": {
    "ExecuteTime": {
     "end_time": "2021-05-31T00:05:10.313551Z",
     "start_time": "2021-05-31T00:05:10.273580Z"
    }
   },
   "outputs": [
    {
     "data": {
      "text/plain": [
       "Children's Music    14756\n",
       "Comedy               9681\n",
       "Soundtrack           9646\n",
       "Indie                9543\n",
       "Jazz                 9441\n",
       "Pop                  9386\n",
       "Electronic           9377\n",
       "Folk                 9299\n",
       "Hip-Hop              9295\n",
       "Rock                 9272\n",
       "Alternative          9263\n",
       "Classical            9256\n",
       "Rap                  9232\n",
       "World                9096\n",
       "Soul                 9089\n",
       "Blues                9023\n",
       "R&B                  8992\n",
       "Anime                8936\n",
       "Reggaeton            8927\n",
       "Ska                  8874\n",
       "Reggae               8771\n",
       "Dance                8701\n",
       "Country              8664\n",
       "Opera                8280\n",
       "Movie                7806\n",
       "A Capella             119\n",
       "Name: genre, dtype: int64"
      ]
     },
     "execution_count": 8,
     "metadata": {},
     "output_type": "execute_result"
    }
   ],
   "source": [
    "#verifying that the issue has been resolved\n",
    "df['genre'].value_counts()"
   ]
  },
  {
   "cell_type": "markdown",
   "metadata": {},
   "source": [
    "## Missing Values"
   ]
  },
  {
   "cell_type": "code",
   "execution_count": 9,
   "metadata": {
    "ExecuteTime": {
     "end_time": "2021-05-31T00:05:10.421486Z",
     "start_time": "2021-05-31T00:05:10.316550Z"
    }
   },
   "outputs": [
    {
     "data": {
      "text/plain": [
       "genre               0\n",
       "artist_name         0\n",
       "track_name          0\n",
       "track_id            0\n",
       "popularity          0\n",
       "acousticness        0\n",
       "danceability        0\n",
       "duration_ms         0\n",
       "energy              0\n",
       "instrumentalness    0\n",
       "key                 0\n",
       "liveness            0\n",
       "loudness            0\n",
       "mode                0\n",
       "speechiness         0\n",
       "tempo               0\n",
       "time_signature      0\n",
       "valence             0\n",
       "dtype: int64"
      ]
     },
     "execution_count": 9,
     "metadata": {},
     "output_type": "execute_result"
    }
   ],
   "source": [
    "#checking for missing values\n",
    "df.isna().sum()"
   ]
  },
  {
   "cell_type": "markdown",
   "metadata": {},
   "source": [
    "We don't have any missing values in our columns so we will move onto check for duplicated rows."
   ]
  },
  {
   "cell_type": "markdown",
   "metadata": {},
   "source": [
    "## Addressing Duplicated Tracks"
   ]
  },
  {
   "cell_type": "markdown",
   "metadata": {},
   "source": [
    "We need to take a look and find all duplicated tracks by using their unique id numbers."
   ]
  },
  {
   "cell_type": "code",
   "execution_count": 10,
   "metadata": {
    "ExecuteTime": {
     "end_time": "2021-05-31T00:05:10.530431Z",
     "start_time": "2021-05-31T00:05:10.423498Z"
    }
   },
   "outputs": [
    {
     "data": {
      "text/html": [
       "<div>\n",
       "<style scoped>\n",
       "    .dataframe tbody tr th:only-of-type {\n",
       "        vertical-align: middle;\n",
       "    }\n",
       "\n",
       "    .dataframe tbody tr th {\n",
       "        vertical-align: top;\n",
       "    }\n",
       "\n",
       "    .dataframe thead th {\n",
       "        text-align: right;\n",
       "    }\n",
       "</style>\n",
       "<table border=\"1\" class=\"dataframe\">\n",
       "  <thead>\n",
       "    <tr style=\"text-align: right;\">\n",
       "      <th></th>\n",
       "      <th>genre</th>\n",
       "      <th>artist_name</th>\n",
       "      <th>track_name</th>\n",
       "      <th>track_id</th>\n",
       "      <th>popularity</th>\n",
       "      <th>acousticness</th>\n",
       "      <th>danceability</th>\n",
       "      <th>duration_ms</th>\n",
       "      <th>energy</th>\n",
       "      <th>instrumentalness</th>\n",
       "      <th>key</th>\n",
       "      <th>liveness</th>\n",
       "      <th>loudness</th>\n",
       "      <th>mode</th>\n",
       "      <th>speechiness</th>\n",
       "      <th>tempo</th>\n",
       "      <th>time_signature</th>\n",
       "      <th>valence</th>\n",
       "    </tr>\n",
       "  </thead>\n",
       "  <tbody>\n",
       "    <tr>\n",
       "      <th>1348</th>\n",
       "      <td>Alternative</td>\n",
       "      <td>Doja Cat</td>\n",
       "      <td>Go To Town</td>\n",
       "      <td>6iOvnACn4ChlAw4lWUU4dd</td>\n",
       "      <td>64</td>\n",
       "      <td>0.07160</td>\n",
       "      <td>0.710</td>\n",
       "      <td>217813</td>\n",
       "      <td>0.710</td>\n",
       "      <td>0.000001</td>\n",
       "      <td>C</td>\n",
       "      <td>0.2060</td>\n",
       "      <td>-2.474</td>\n",
       "      <td>Major</td>\n",
       "      <td>0.0579</td>\n",
       "      <td>169.944</td>\n",
       "      <td>4/4</td>\n",
       "      <td>0.700</td>\n",
       "    </tr>\n",
       "    <tr>\n",
       "      <th>1385</th>\n",
       "      <td>Alternative</td>\n",
       "      <td>Frank Ocean</td>\n",
       "      <td>Seigfried</td>\n",
       "      <td>1BViPjTT585XAhkUUrkts0</td>\n",
       "      <td>61</td>\n",
       "      <td>0.97500</td>\n",
       "      <td>0.377</td>\n",
       "      <td>334570</td>\n",
       "      <td>0.255</td>\n",
       "      <td>0.000208</td>\n",
       "      <td>E</td>\n",
       "      <td>0.1020</td>\n",
       "      <td>-11.165</td>\n",
       "      <td>Minor</td>\n",
       "      <td>0.0387</td>\n",
       "      <td>125.004</td>\n",
       "      <td>5/4</td>\n",
       "      <td>0.370</td>\n",
       "    </tr>\n",
       "    <tr>\n",
       "      <th>1452</th>\n",
       "      <td>Alternative</td>\n",
       "      <td>Frank Ocean</td>\n",
       "      <td>Bad Religion</td>\n",
       "      <td>2pMPWE7PJH1PizfgGRMnR9</td>\n",
       "      <td>56</td>\n",
       "      <td>0.77900</td>\n",
       "      <td>0.276</td>\n",
       "      <td>175453</td>\n",
       "      <td>0.358</td>\n",
       "      <td>0.000003</td>\n",
       "      <td>A</td>\n",
       "      <td>0.0728</td>\n",
       "      <td>-7.684</td>\n",
       "      <td>Major</td>\n",
       "      <td>0.0443</td>\n",
       "      <td>81.977</td>\n",
       "      <td>4/4</td>\n",
       "      <td>0.130</td>\n",
       "    </tr>\n",
       "    <tr>\n",
       "      <th>1554</th>\n",
       "      <td>Alternative</td>\n",
       "      <td>Steve Lacy</td>\n",
       "      <td>Some</td>\n",
       "      <td>4riDfclV7kPDT9D58FpmHd</td>\n",
       "      <td>58</td>\n",
       "      <td>0.00548</td>\n",
       "      <td>0.784</td>\n",
       "      <td>118393</td>\n",
       "      <td>0.554</td>\n",
       "      <td>0.254000</td>\n",
       "      <td>G</td>\n",
       "      <td>0.0995</td>\n",
       "      <td>-6.417</td>\n",
       "      <td>Major</td>\n",
       "      <td>0.0300</td>\n",
       "      <td>104.010</td>\n",
       "      <td>4/4</td>\n",
       "      <td>0.634</td>\n",
       "    </tr>\n",
       "    <tr>\n",
       "      <th>1634</th>\n",
       "      <td>Alternative</td>\n",
       "      <td>tobi lou</td>\n",
       "      <td>Buff Baby</td>\n",
       "      <td>1F1QmI8TMHir9SUFrooq5F</td>\n",
       "      <td>59</td>\n",
       "      <td>0.19000</td>\n",
       "      <td>0.736</td>\n",
       "      <td>215385</td>\n",
       "      <td>0.643</td>\n",
       "      <td>0.000000</td>\n",
       "      <td>F</td>\n",
       "      <td>0.1060</td>\n",
       "      <td>-8.636</td>\n",
       "      <td>Major</td>\n",
       "      <td>0.0461</td>\n",
       "      <td>156.002</td>\n",
       "      <td>4/4</td>\n",
       "      <td>0.599</td>\n",
       "    </tr>\n",
       "    <tr>\n",
       "      <th>...</th>\n",
       "      <td>...</td>\n",
       "      <td>...</td>\n",
       "      <td>...</td>\n",
       "      <td>...</td>\n",
       "      <td>...</td>\n",
       "      <td>...</td>\n",
       "      <td>...</td>\n",
       "      <td>...</td>\n",
       "      <td>...</td>\n",
       "      <td>...</td>\n",
       "      <td>...</td>\n",
       "      <td>...</td>\n",
       "      <td>...</td>\n",
       "      <td>...</td>\n",
       "      <td>...</td>\n",
       "      <td>...</td>\n",
       "      <td>...</td>\n",
       "      <td>...</td>\n",
       "    </tr>\n",
       "    <tr>\n",
       "      <th>232715</th>\n",
       "      <td>Soul</td>\n",
       "      <td>Emily King</td>\n",
       "      <td>Down</td>\n",
       "      <td>5cA0vB8c9FMOVDWyJHgf26</td>\n",
       "      <td>42</td>\n",
       "      <td>0.55000</td>\n",
       "      <td>0.394</td>\n",
       "      <td>281853</td>\n",
       "      <td>0.346</td>\n",
       "      <td>0.000002</td>\n",
       "      <td>E</td>\n",
       "      <td>0.1290</td>\n",
       "      <td>-13.617</td>\n",
       "      <td>Major</td>\n",
       "      <td>0.0635</td>\n",
       "      <td>90.831</td>\n",
       "      <td>4/4</td>\n",
       "      <td>0.436</td>\n",
       "    </tr>\n",
       "    <tr>\n",
       "      <th>232718</th>\n",
       "      <td>Soul</td>\n",
       "      <td>Muddy Waters</td>\n",
       "      <td>I Just Want To Make Love To You - Electric Mud...</td>\n",
       "      <td>2HFczeynfKGiM9KF2z2K7K</td>\n",
       "      <td>43</td>\n",
       "      <td>0.01360</td>\n",
       "      <td>0.294</td>\n",
       "      <td>258267</td>\n",
       "      <td>0.739</td>\n",
       "      <td>0.004820</td>\n",
       "      <td>C</td>\n",
       "      <td>0.1380</td>\n",
       "      <td>-7.167</td>\n",
       "      <td>Major</td>\n",
       "      <td>0.0434</td>\n",
       "      <td>176.402</td>\n",
       "      <td>4/4</td>\n",
       "      <td>0.945</td>\n",
       "    </tr>\n",
       "    <tr>\n",
       "      <th>232720</th>\n",
       "      <td>Soul</td>\n",
       "      <td>Slave</td>\n",
       "      <td>Son Of Slide</td>\n",
       "      <td>2XGLdVl7lGeq8ksM6Al7jT</td>\n",
       "      <td>39</td>\n",
       "      <td>0.00384</td>\n",
       "      <td>0.687</td>\n",
       "      <td>326240</td>\n",
       "      <td>0.714</td>\n",
       "      <td>0.544000</td>\n",
       "      <td>D</td>\n",
       "      <td>0.0845</td>\n",
       "      <td>-10.626</td>\n",
       "      <td>Major</td>\n",
       "      <td>0.0316</td>\n",
       "      <td>115.542</td>\n",
       "      <td>4/4</td>\n",
       "      <td>0.962</td>\n",
       "    </tr>\n",
       "    <tr>\n",
       "      <th>232722</th>\n",
       "      <td>Soul</td>\n",
       "      <td>Muddy Waters</td>\n",
       "      <td>(I'm Your) Hoochie Coochie Man</td>\n",
       "      <td>2ziWXUmQLrXTiYjCg2fZ2t</td>\n",
       "      <td>47</td>\n",
       "      <td>0.90100</td>\n",
       "      <td>0.517</td>\n",
       "      <td>166960</td>\n",
       "      <td>0.419</td>\n",
       "      <td>0.000000</td>\n",
       "      <td>D</td>\n",
       "      <td>0.0945</td>\n",
       "      <td>-8.282</td>\n",
       "      <td>Major</td>\n",
       "      <td>0.1480</td>\n",
       "      <td>84.135</td>\n",
       "      <td>4/4</td>\n",
       "      <td>0.813</td>\n",
       "    </tr>\n",
       "    <tr>\n",
       "      <th>232723</th>\n",
       "      <td>Soul</td>\n",
       "      <td>R.LUM.R</td>\n",
       "      <td>With My Words</td>\n",
       "      <td>6EFsue2YbIG4Qkq8Zr9Rir</td>\n",
       "      <td>44</td>\n",
       "      <td>0.26200</td>\n",
       "      <td>0.745</td>\n",
       "      <td>222442</td>\n",
       "      <td>0.704</td>\n",
       "      <td>0.000000</td>\n",
       "      <td>A</td>\n",
       "      <td>0.3330</td>\n",
       "      <td>-7.137</td>\n",
       "      <td>Major</td>\n",
       "      <td>0.1460</td>\n",
       "      <td>100.031</td>\n",
       "      <td>4/4</td>\n",
       "      <td>0.489</td>\n",
       "    </tr>\n",
       "  </tbody>\n",
       "</table>\n",
       "<p>55951 rows × 18 columns</p>\n",
       "</div>"
      ],
      "text/plain": [
       "              genre   artist_name  \\\n",
       "1348    Alternative      Doja Cat   \n",
       "1385    Alternative   Frank Ocean   \n",
       "1452    Alternative   Frank Ocean   \n",
       "1554    Alternative    Steve Lacy   \n",
       "1634    Alternative      tobi lou   \n",
       "...             ...           ...   \n",
       "232715         Soul    Emily King   \n",
       "232718         Soul  Muddy Waters   \n",
       "232720         Soul         Slave   \n",
       "232722         Soul  Muddy Waters   \n",
       "232723         Soul       R.LUM.R   \n",
       "\n",
       "                                               track_name  \\\n",
       "1348                                           Go To Town   \n",
       "1385                                            Seigfried   \n",
       "1452                                         Bad Religion   \n",
       "1554                                                 Some   \n",
       "1634                                            Buff Baby   \n",
       "...                                                   ...   \n",
       "232715                                               Down   \n",
       "232718  I Just Want To Make Love To You - Electric Mud...   \n",
       "232720                                       Son Of Slide   \n",
       "232722                     (I'm Your) Hoochie Coochie Man   \n",
       "232723                                      With My Words   \n",
       "\n",
       "                      track_id  popularity  acousticness  danceability  \\\n",
       "1348    6iOvnACn4ChlAw4lWUU4dd          64       0.07160         0.710   \n",
       "1385    1BViPjTT585XAhkUUrkts0          61       0.97500         0.377   \n",
       "1452    2pMPWE7PJH1PizfgGRMnR9          56       0.77900         0.276   \n",
       "1554    4riDfclV7kPDT9D58FpmHd          58       0.00548         0.784   \n",
       "1634    1F1QmI8TMHir9SUFrooq5F          59       0.19000         0.736   \n",
       "...                        ...         ...           ...           ...   \n",
       "232715  5cA0vB8c9FMOVDWyJHgf26          42       0.55000         0.394   \n",
       "232718  2HFczeynfKGiM9KF2z2K7K          43       0.01360         0.294   \n",
       "232720  2XGLdVl7lGeq8ksM6Al7jT          39       0.00384         0.687   \n",
       "232722  2ziWXUmQLrXTiYjCg2fZ2t          47       0.90100         0.517   \n",
       "232723  6EFsue2YbIG4Qkq8Zr9Rir          44       0.26200         0.745   \n",
       "\n",
       "        duration_ms  energy  instrumentalness key  liveness  loudness   mode  \\\n",
       "1348         217813   0.710          0.000001   C    0.2060    -2.474  Major   \n",
       "1385         334570   0.255          0.000208   E    0.1020   -11.165  Minor   \n",
       "1452         175453   0.358          0.000003   A    0.0728    -7.684  Major   \n",
       "1554         118393   0.554          0.254000   G    0.0995    -6.417  Major   \n",
       "1634         215385   0.643          0.000000   F    0.1060    -8.636  Major   \n",
       "...             ...     ...               ...  ..       ...       ...    ...   \n",
       "232715       281853   0.346          0.000002   E    0.1290   -13.617  Major   \n",
       "232718       258267   0.739          0.004820   C    0.1380    -7.167  Major   \n",
       "232720       326240   0.714          0.544000   D    0.0845   -10.626  Major   \n",
       "232722       166960   0.419          0.000000   D    0.0945    -8.282  Major   \n",
       "232723       222442   0.704          0.000000   A    0.3330    -7.137  Major   \n",
       "\n",
       "        speechiness    tempo time_signature  valence  \n",
       "1348         0.0579  169.944            4/4    0.700  \n",
       "1385         0.0387  125.004            5/4    0.370  \n",
       "1452         0.0443   81.977            4/4    0.130  \n",
       "1554         0.0300  104.010            4/4    0.634  \n",
       "1634         0.0461  156.002            4/4    0.599  \n",
       "...             ...      ...            ...      ...  \n",
       "232715       0.0635   90.831            4/4    0.436  \n",
       "232718       0.0434  176.402            4/4    0.945  \n",
       "232720       0.0316  115.542            4/4    0.962  \n",
       "232722       0.1480   84.135            4/4    0.813  \n",
       "232723       0.1460  100.031            4/4    0.489  \n",
       "\n",
       "[55951 rows x 18 columns]"
      ]
     },
     "execution_count": 10,
     "metadata": {},
     "output_type": "execute_result"
    }
   ],
   "source": [
    "df[df['track_id'].duplicated()]"
   ]
  },
  {
   "cell_type": "markdown",
   "metadata": {},
   "source": [
    "We have 55,951 duplicated rows that we need to address. Before we can address these duplications though we need to see what the cause of the duplicates are."
   ]
  },
  {
   "cell_type": "code",
   "execution_count": 11,
   "metadata": {
    "ExecuteTime": {
     "end_time": "2021-05-31T00:05:10.578390Z",
     "start_time": "2021-05-31T00:05:10.532417Z"
    }
   },
   "outputs": [
    {
     "data": {
      "text/html": [
       "<div>\n",
       "<style scoped>\n",
       "    .dataframe tbody tr th:only-of-type {\n",
       "        vertical-align: middle;\n",
       "    }\n",
       "\n",
       "    .dataframe tbody tr th {\n",
       "        vertical-align: top;\n",
       "    }\n",
       "\n",
       "    .dataframe thead th {\n",
       "        text-align: right;\n",
       "    }\n",
       "</style>\n",
       "<table border=\"1\" class=\"dataframe\">\n",
       "  <thead>\n",
       "    <tr style=\"text-align: right;\">\n",
       "      <th></th>\n",
       "      <th>genre</th>\n",
       "      <th>artist_name</th>\n",
       "      <th>track_name</th>\n",
       "      <th>track_id</th>\n",
       "      <th>popularity</th>\n",
       "      <th>acousticness</th>\n",
       "      <th>danceability</th>\n",
       "      <th>duration_ms</th>\n",
       "      <th>energy</th>\n",
       "      <th>instrumentalness</th>\n",
       "      <th>key</th>\n",
       "      <th>liveness</th>\n",
       "      <th>loudness</th>\n",
       "      <th>mode</th>\n",
       "      <th>speechiness</th>\n",
       "      <th>tempo</th>\n",
       "      <th>time_signature</th>\n",
       "      <th>valence</th>\n",
       "    </tr>\n",
       "  </thead>\n",
       "  <tbody>\n",
       "    <tr>\n",
       "      <th>257</th>\n",
       "      <td>R&amp;B</td>\n",
       "      <td>Doja Cat</td>\n",
       "      <td>Go To Town</td>\n",
       "      <td>6iOvnACn4ChlAw4lWUU4dd</td>\n",
       "      <td>64</td>\n",
       "      <td>0.0716</td>\n",
       "      <td>0.71</td>\n",
       "      <td>217813</td>\n",
       "      <td>0.71</td>\n",
       "      <td>0.000001</td>\n",
       "      <td>C</td>\n",
       "      <td>0.206</td>\n",
       "      <td>-2.474</td>\n",
       "      <td>Major</td>\n",
       "      <td>0.0579</td>\n",
       "      <td>169.944</td>\n",
       "      <td>4/4</td>\n",
       "      <td>0.7</td>\n",
       "    </tr>\n",
       "    <tr>\n",
       "      <th>1348</th>\n",
       "      <td>Alternative</td>\n",
       "      <td>Doja Cat</td>\n",
       "      <td>Go To Town</td>\n",
       "      <td>6iOvnACn4ChlAw4lWUU4dd</td>\n",
       "      <td>64</td>\n",
       "      <td>0.0716</td>\n",
       "      <td>0.71</td>\n",
       "      <td>217813</td>\n",
       "      <td>0.71</td>\n",
       "      <td>0.000001</td>\n",
       "      <td>C</td>\n",
       "      <td>0.206</td>\n",
       "      <td>-2.474</td>\n",
       "      <td>Major</td>\n",
       "      <td>0.0579</td>\n",
       "      <td>169.944</td>\n",
       "      <td>4/4</td>\n",
       "      <td>0.7</td>\n",
       "    </tr>\n",
       "    <tr>\n",
       "      <th>77710</th>\n",
       "      <td>Children's Music</td>\n",
       "      <td>Doja Cat</td>\n",
       "      <td>Go To Town</td>\n",
       "      <td>6iOvnACn4ChlAw4lWUU4dd</td>\n",
       "      <td>64</td>\n",
       "      <td>0.0716</td>\n",
       "      <td>0.71</td>\n",
       "      <td>217813</td>\n",
       "      <td>0.71</td>\n",
       "      <td>0.000001</td>\n",
       "      <td>C</td>\n",
       "      <td>0.206</td>\n",
       "      <td>-2.474</td>\n",
       "      <td>Major</td>\n",
       "      <td>0.0579</td>\n",
       "      <td>169.944</td>\n",
       "      <td>4/4</td>\n",
       "      <td>0.7</td>\n",
       "    </tr>\n",
       "    <tr>\n",
       "      <th>93651</th>\n",
       "      <td>Indie</td>\n",
       "      <td>Doja Cat</td>\n",
       "      <td>Go To Town</td>\n",
       "      <td>6iOvnACn4ChlAw4lWUU4dd</td>\n",
       "      <td>64</td>\n",
       "      <td>0.0716</td>\n",
       "      <td>0.71</td>\n",
       "      <td>217813</td>\n",
       "      <td>0.71</td>\n",
       "      <td>0.000001</td>\n",
       "      <td>C</td>\n",
       "      <td>0.206</td>\n",
       "      <td>-2.474</td>\n",
       "      <td>Major</td>\n",
       "      <td>0.0579</td>\n",
       "      <td>169.944</td>\n",
       "      <td>4/4</td>\n",
       "      <td>0.7</td>\n",
       "    </tr>\n",
       "    <tr>\n",
       "      <th>113770</th>\n",
       "      <td>Pop</td>\n",
       "      <td>Doja Cat</td>\n",
       "      <td>Go To Town</td>\n",
       "      <td>6iOvnACn4ChlAw4lWUU4dd</td>\n",
       "      <td>64</td>\n",
       "      <td>0.0716</td>\n",
       "      <td>0.71</td>\n",
       "      <td>217813</td>\n",
       "      <td>0.71</td>\n",
       "      <td>0.000001</td>\n",
       "      <td>C</td>\n",
       "      <td>0.206</td>\n",
       "      <td>-2.474</td>\n",
       "      <td>Major</td>\n",
       "      <td>0.0579</td>\n",
       "      <td>169.944</td>\n",
       "      <td>4/4</td>\n",
       "      <td>0.7</td>\n",
       "    </tr>\n",
       "  </tbody>\n",
       "</table>\n",
       "</div>"
      ],
      "text/plain": [
       "                   genre artist_name  track_name                track_id  \\\n",
       "257                  R&B    Doja Cat  Go To Town  6iOvnACn4ChlAw4lWUU4dd   \n",
       "1348         Alternative    Doja Cat  Go To Town  6iOvnACn4ChlAw4lWUU4dd   \n",
       "77710   Children's Music    Doja Cat  Go To Town  6iOvnACn4ChlAw4lWUU4dd   \n",
       "93651              Indie    Doja Cat  Go To Town  6iOvnACn4ChlAw4lWUU4dd   \n",
       "113770               Pop    Doja Cat  Go To Town  6iOvnACn4ChlAw4lWUU4dd   \n",
       "\n",
       "        popularity  acousticness  danceability  duration_ms  energy  \\\n",
       "257             64        0.0716          0.71       217813    0.71   \n",
       "1348            64        0.0716          0.71       217813    0.71   \n",
       "77710           64        0.0716          0.71       217813    0.71   \n",
       "93651           64        0.0716          0.71       217813    0.71   \n",
       "113770          64        0.0716          0.71       217813    0.71   \n",
       "\n",
       "        instrumentalness key  liveness  loudness   mode  speechiness    tempo  \\\n",
       "257             0.000001   C     0.206    -2.474  Major       0.0579  169.944   \n",
       "1348            0.000001   C     0.206    -2.474  Major       0.0579  169.944   \n",
       "77710           0.000001   C     0.206    -2.474  Major       0.0579  169.944   \n",
       "93651           0.000001   C     0.206    -2.474  Major       0.0579  169.944   \n",
       "113770          0.000001   C     0.206    -2.474  Major       0.0579  169.944   \n",
       "\n",
       "       time_signature  valence  \n",
       "257               4/4      0.7  \n",
       "1348              4/4      0.7  \n",
       "77710             4/4      0.7  \n",
       "93651             4/4      0.7  \n",
       "113770            4/4      0.7  "
      ]
     },
     "execution_count": 11,
     "metadata": {},
     "output_type": "execute_result"
    }
   ],
   "source": [
    "#checking rows for duplicated ids to see differences\n",
    "df[df['track_id']=='6iOvnACn4ChlAw4lWUU4dd'] "
   ]
  },
  {
   "cell_type": "code",
   "execution_count": 12,
   "metadata": {
    "ExecuteTime": {
     "end_time": "2021-05-31T00:05:10.656338Z",
     "start_time": "2021-05-31T00:05:10.581386Z"
    }
   },
   "outputs": [
    {
     "data": {
      "text/html": [
       "<div>\n",
       "<style scoped>\n",
       "    .dataframe tbody tr th:only-of-type {\n",
       "        vertical-align: middle;\n",
       "    }\n",
       "\n",
       "    .dataframe tbody tr th {\n",
       "        vertical-align: top;\n",
       "    }\n",
       "\n",
       "    .dataframe thead th {\n",
       "        text-align: right;\n",
       "    }\n",
       "</style>\n",
       "<table border=\"1\" class=\"dataframe\">\n",
       "  <thead>\n",
       "    <tr style=\"text-align: right;\">\n",
       "      <th></th>\n",
       "      <th>genre</th>\n",
       "      <th>artist_name</th>\n",
       "      <th>track_name</th>\n",
       "      <th>track_id</th>\n",
       "      <th>popularity</th>\n",
       "      <th>acousticness</th>\n",
       "      <th>danceability</th>\n",
       "      <th>duration_ms</th>\n",
       "      <th>energy</th>\n",
       "      <th>instrumentalness</th>\n",
       "      <th>key</th>\n",
       "      <th>liveness</th>\n",
       "      <th>loudness</th>\n",
       "      <th>mode</th>\n",
       "      <th>speechiness</th>\n",
       "      <th>tempo</th>\n",
       "      <th>time_signature</th>\n",
       "      <th>valence</th>\n",
       "    </tr>\n",
       "  </thead>\n",
       "  <tbody>\n",
       "    <tr>\n",
       "      <th>179212</th>\n",
       "      <td>Jazz</td>\n",
       "      <td>Slave</td>\n",
       "      <td>Son Of Slide</td>\n",
       "      <td>2XGLdVl7lGeq8ksM6Al7jT</td>\n",
       "      <td>39</td>\n",
       "      <td>0.00384</td>\n",
       "      <td>0.687</td>\n",
       "      <td>326240</td>\n",
       "      <td>0.714</td>\n",
       "      <td>0.544</td>\n",
       "      <td>D</td>\n",
       "      <td>0.0845</td>\n",
       "      <td>-10.626</td>\n",
       "      <td>Major</td>\n",
       "      <td>0.0316</td>\n",
       "      <td>115.542</td>\n",
       "      <td>4/4</td>\n",
       "      <td>0.962</td>\n",
       "    </tr>\n",
       "    <tr>\n",
       "      <th>232720</th>\n",
       "      <td>Soul</td>\n",
       "      <td>Slave</td>\n",
       "      <td>Son Of Slide</td>\n",
       "      <td>2XGLdVl7lGeq8ksM6Al7jT</td>\n",
       "      <td>39</td>\n",
       "      <td>0.00384</td>\n",
       "      <td>0.687</td>\n",
       "      <td>326240</td>\n",
       "      <td>0.714</td>\n",
       "      <td>0.544</td>\n",
       "      <td>D</td>\n",
       "      <td>0.0845</td>\n",
       "      <td>-10.626</td>\n",
       "      <td>Major</td>\n",
       "      <td>0.0316</td>\n",
       "      <td>115.542</td>\n",
       "      <td>4/4</td>\n",
       "      <td>0.962</td>\n",
       "    </tr>\n",
       "  </tbody>\n",
       "</table>\n",
       "</div>"
      ],
      "text/plain": [
       "       genre artist_name    track_name                track_id  popularity  \\\n",
       "179212  Jazz       Slave  Son Of Slide  2XGLdVl7lGeq8ksM6Al7jT          39   \n",
       "232720  Soul       Slave  Son Of Slide  2XGLdVl7lGeq8ksM6Al7jT          39   \n",
       "\n",
       "        acousticness  danceability  duration_ms  energy  instrumentalness key  \\\n",
       "179212       0.00384         0.687       326240   0.714             0.544   D   \n",
       "232720       0.00384         0.687       326240   0.714             0.544   D   \n",
       "\n",
       "        liveness  loudness   mode  speechiness    tempo time_signature  \\\n",
       "179212    0.0845   -10.626  Major       0.0316  115.542            4/4   \n",
       "232720    0.0845   -10.626  Major       0.0316  115.542            4/4   \n",
       "\n",
       "        valence  \n",
       "179212    0.962  \n",
       "232720    0.962  "
      ]
     },
     "execution_count": 12,
     "metadata": {},
     "output_type": "execute_result"
    }
   ],
   "source": [
    "df[df['track_id']=='2XGLdVl7lGeq8ksM6Al7jT']"
   ]
  },
  {
   "cell_type": "code",
   "execution_count": 13,
   "metadata": {
    "ExecuteTime": {
     "end_time": "2021-05-31T00:05:10.702310Z",
     "start_time": "2021-05-31T00:05:10.659337Z"
    }
   },
   "outputs": [
    {
     "data": {
      "text/html": [
       "<div>\n",
       "<style scoped>\n",
       "    .dataframe tbody tr th:only-of-type {\n",
       "        vertical-align: middle;\n",
       "    }\n",
       "\n",
       "    .dataframe tbody tr th {\n",
       "        vertical-align: top;\n",
       "    }\n",
       "\n",
       "    .dataframe thead th {\n",
       "        text-align: right;\n",
       "    }\n",
       "</style>\n",
       "<table border=\"1\" class=\"dataframe\">\n",
       "  <thead>\n",
       "    <tr style=\"text-align: right;\">\n",
       "      <th></th>\n",
       "      <th>genre</th>\n",
       "      <th>artist_name</th>\n",
       "      <th>track_name</th>\n",
       "      <th>track_id</th>\n",
       "      <th>popularity</th>\n",
       "      <th>acousticness</th>\n",
       "      <th>danceability</th>\n",
       "      <th>duration_ms</th>\n",
       "      <th>energy</th>\n",
       "      <th>instrumentalness</th>\n",
       "      <th>key</th>\n",
       "      <th>liveness</th>\n",
       "      <th>loudness</th>\n",
       "      <th>mode</th>\n",
       "      <th>speechiness</th>\n",
       "      <th>tempo</th>\n",
       "      <th>time_signature</th>\n",
       "      <th>valence</th>\n",
       "    </tr>\n",
       "  </thead>\n",
       "  <tbody>\n",
       "    <tr>\n",
       "      <th>48555</th>\n",
       "      <td>Blues</td>\n",
       "      <td>Muddy Waters</td>\n",
       "      <td>I Just Want To Make Love To You - Electric Mud...</td>\n",
       "      <td>2HFczeynfKGiM9KF2z2K7K</td>\n",
       "      <td>35</td>\n",
       "      <td>0.0136</td>\n",
       "      <td>0.294</td>\n",
       "      <td>258267</td>\n",
       "      <td>0.739</td>\n",
       "      <td>0.00482</td>\n",
       "      <td>C</td>\n",
       "      <td>0.138</td>\n",
       "      <td>-7.167</td>\n",
       "      <td>Major</td>\n",
       "      <td>0.0434</td>\n",
       "      <td>176.402</td>\n",
       "      <td>4/4</td>\n",
       "      <td>0.945</td>\n",
       "    </tr>\n",
       "    <tr>\n",
       "      <th>232718</th>\n",
       "      <td>Soul</td>\n",
       "      <td>Muddy Waters</td>\n",
       "      <td>I Just Want To Make Love To You - Electric Mud...</td>\n",
       "      <td>2HFczeynfKGiM9KF2z2K7K</td>\n",
       "      <td>43</td>\n",
       "      <td>0.0136</td>\n",
       "      <td>0.294</td>\n",
       "      <td>258267</td>\n",
       "      <td>0.739</td>\n",
       "      <td>0.00482</td>\n",
       "      <td>C</td>\n",
       "      <td>0.138</td>\n",
       "      <td>-7.167</td>\n",
       "      <td>Major</td>\n",
       "      <td>0.0434</td>\n",
       "      <td>176.402</td>\n",
       "      <td>4/4</td>\n",
       "      <td>0.945</td>\n",
       "    </tr>\n",
       "  </tbody>\n",
       "</table>\n",
       "</div>"
      ],
      "text/plain": [
       "        genre   artist_name  \\\n",
       "48555   Blues  Muddy Waters   \n",
       "232718   Soul  Muddy Waters   \n",
       "\n",
       "                                               track_name  \\\n",
       "48555   I Just Want To Make Love To You - Electric Mud...   \n",
       "232718  I Just Want To Make Love To You - Electric Mud...   \n",
       "\n",
       "                      track_id  popularity  acousticness  danceability  \\\n",
       "48555   2HFczeynfKGiM9KF2z2K7K          35        0.0136         0.294   \n",
       "232718  2HFczeynfKGiM9KF2z2K7K          43        0.0136         0.294   \n",
       "\n",
       "        duration_ms  energy  instrumentalness key  liveness  loudness   mode  \\\n",
       "48555        258267   0.739           0.00482   C     0.138    -7.167  Major   \n",
       "232718       258267   0.739           0.00482   C     0.138    -7.167  Major   \n",
       "\n",
       "        speechiness    tempo time_signature  valence  \n",
       "48555        0.0434  176.402            4/4    0.945  \n",
       "232718       0.0434  176.402            4/4    0.945  "
      ]
     },
     "execution_count": 13,
     "metadata": {},
     "output_type": "execute_result"
    }
   ],
   "source": [
    "df[df['track_id']=='2HFczeynfKGiM9KF2z2K7K']\n"
   ]
  },
  {
   "cell_type": "markdown",
   "metadata": {},
   "source": [
    "We see that most of the attributes of the duplicated songs are the same except for 'popularity' and 'genre'. The 'popularity' column can be aggregated since it is a numerical column but the categorical column of 'genre' is a little bit trickier. What makes the most sense in this case would be to create different columns with the genre names and display with binary values whether a song belongs to that genre or not."
   ]
  },
  {
   "cell_type": "code",
   "execution_count": 14,
   "metadata": {
    "ExecuteTime": {
     "end_time": "2021-05-31T00:05:10.750281Z",
     "start_time": "2021-05-31T00:05:10.705309Z"
    }
   },
   "outputs": [],
   "source": [
    "#generating a list with the genre names\n",
    "genre_list = list(df['genre'].unique())"
   ]
  },
  {
   "cell_type": "code",
   "execution_count": 15,
   "metadata": {
    "ExecuteTime": {
     "end_time": "2021-05-31T00:05:11.209996Z",
     "start_time": "2021-05-31T00:05:10.753279Z"
    }
   },
   "outputs": [],
   "source": [
    "#creating the genre columns using the genre list\n",
    "for genre in genre_list:\n",
    "    df[genre] = (df['genre']==genre).astype('int')"
   ]
  },
  {
   "cell_type": "code",
   "execution_count": 16,
   "metadata": {
    "ExecuteTime": {
     "end_time": "2021-05-31T00:07:22.977937Z",
     "start_time": "2021-05-31T00:05:11.211994Z"
    }
   },
   "outputs": [],
   "source": [
    "#grouping by track_id number to get rid of duplicates and keeping the maximum values in each column.\n",
    "df=df.groupby(['track_id']).max()"
   ]
  },
  {
   "cell_type": "markdown",
   "metadata": {},
   "source": [
    "Above, we created the genre columns and merged the duplicated values keeping the maximum value in each column. This makes sense since the track that is being listened to is the same one. For example, if a track had popularity scores of 15, 25, 38 and 42 in its duplicated rows, we are keeping the best value of 42 by taking the max."
   ]
  },
  {
   "cell_type": "code",
   "execution_count": 17,
   "metadata": {
    "ExecuteTime": {
     "end_time": "2021-05-31T00:07:23.118850Z",
     "start_time": "2021-05-31T00:07:22.979936Z"
    }
   },
   "outputs": [
    {
     "data": {
      "text/html": [
       "<div>\n",
       "<style scoped>\n",
       "    .dataframe tbody tr th:only-of-type {\n",
       "        vertical-align: middle;\n",
       "    }\n",
       "\n",
       "    .dataframe tbody tr th {\n",
       "        vertical-align: top;\n",
       "    }\n",
       "\n",
       "    .dataframe thead th {\n",
       "        text-align: right;\n",
       "    }\n",
       "</style>\n",
       "<table border=\"1\" class=\"dataframe\">\n",
       "  <thead>\n",
       "    <tr style=\"text-align: right;\">\n",
       "      <th></th>\n",
       "      <th>artist_name</th>\n",
       "      <th>track_name</th>\n",
       "      <th>popularity</th>\n",
       "      <th>acousticness</th>\n",
       "      <th>danceability</th>\n",
       "      <th>duration_ms</th>\n",
       "      <th>energy</th>\n",
       "      <th>instrumentalness</th>\n",
       "      <th>key</th>\n",
       "      <th>liveness</th>\n",
       "      <th>...</th>\n",
       "      <th>Pop</th>\n",
       "      <th>Reggae</th>\n",
       "      <th>Reggaeton</th>\n",
       "      <th>Jazz</th>\n",
       "      <th>Rock</th>\n",
       "      <th>Ska</th>\n",
       "      <th>Comedy</th>\n",
       "      <th>Soul</th>\n",
       "      <th>Soundtrack</th>\n",
       "      <th>World</th>\n",
       "    </tr>\n",
       "    <tr>\n",
       "      <th>track_id</th>\n",
       "      <th></th>\n",
       "      <th></th>\n",
       "      <th></th>\n",
       "      <th></th>\n",
       "      <th></th>\n",
       "      <th></th>\n",
       "      <th></th>\n",
       "      <th></th>\n",
       "      <th></th>\n",
       "      <th></th>\n",
       "      <th></th>\n",
       "      <th></th>\n",
       "      <th></th>\n",
       "      <th></th>\n",
       "      <th></th>\n",
       "      <th></th>\n",
       "      <th></th>\n",
       "      <th></th>\n",
       "      <th></th>\n",
       "      <th></th>\n",
       "      <th></th>\n",
       "    </tr>\n",
       "  </thead>\n",
       "  <tbody>\n",
       "    <tr>\n",
       "      <th>00021Wy6AyMbLP2tqij86e</th>\n",
       "      <td>Capcom Sound Team</td>\n",
       "      <td>Zangief's Theme</td>\n",
       "      <td>13</td>\n",
       "      <td>0.234</td>\n",
       "      <td>0.617</td>\n",
       "      <td>169173</td>\n",
       "      <td>0.862</td>\n",
       "      <td>0.976000</td>\n",
       "      <td>G</td>\n",
       "      <td>0.1410</td>\n",
       "      <td>...</td>\n",
       "      <td>0</td>\n",
       "      <td>0</td>\n",
       "      <td>0</td>\n",
       "      <td>0</td>\n",
       "      <td>0</td>\n",
       "      <td>0</td>\n",
       "      <td>0</td>\n",
       "      <td>0</td>\n",
       "      <td>0</td>\n",
       "      <td>0</td>\n",
       "    </tr>\n",
       "    <tr>\n",
       "      <th>000CzNKC8PEt1yC3L8dqwV</th>\n",
       "      <td>Henri Salvador</td>\n",
       "      <td>Coeur Brisé à Prendre - Remastered</td>\n",
       "      <td>5</td>\n",
       "      <td>0.249</td>\n",
       "      <td>0.518</td>\n",
       "      <td>130653</td>\n",
       "      <td>0.805</td>\n",
       "      <td>0.000000</td>\n",
       "      <td>F</td>\n",
       "      <td>0.3330</td>\n",
       "      <td>...</td>\n",
       "      <td>0</td>\n",
       "      <td>0</td>\n",
       "      <td>0</td>\n",
       "      <td>0</td>\n",
       "      <td>0</td>\n",
       "      <td>0</td>\n",
       "      <td>0</td>\n",
       "      <td>0</td>\n",
       "      <td>0</td>\n",
       "      <td>0</td>\n",
       "    </tr>\n",
       "    <tr>\n",
       "      <th>000DfZJww8KiixTKuk9usJ</th>\n",
       "      <td>Mike Love</td>\n",
       "      <td>Earthlings</td>\n",
       "      <td>30</td>\n",
       "      <td>0.366</td>\n",
       "      <td>0.631</td>\n",
       "      <td>357573</td>\n",
       "      <td>0.513</td>\n",
       "      <td>0.000004</td>\n",
       "      <td>D</td>\n",
       "      <td>0.1090</td>\n",
       "      <td>...</td>\n",
       "      <td>0</td>\n",
       "      <td>1</td>\n",
       "      <td>0</td>\n",
       "      <td>0</td>\n",
       "      <td>0</td>\n",
       "      <td>0</td>\n",
       "      <td>0</td>\n",
       "      <td>0</td>\n",
       "      <td>0</td>\n",
       "      <td>0</td>\n",
       "    </tr>\n",
       "    <tr>\n",
       "      <th>000EWWBkYaREzsBplYjUag</th>\n",
       "      <td>Don Philippe</td>\n",
       "      <td>Fewerdolr</td>\n",
       "      <td>39</td>\n",
       "      <td>0.815</td>\n",
       "      <td>0.768</td>\n",
       "      <td>104924</td>\n",
       "      <td>0.137</td>\n",
       "      <td>0.922000</td>\n",
       "      <td>C#</td>\n",
       "      <td>0.1130</td>\n",
       "      <td>...</td>\n",
       "      <td>0</td>\n",
       "      <td>0</td>\n",
       "      <td>0</td>\n",
       "      <td>1</td>\n",
       "      <td>0</td>\n",
       "      <td>0</td>\n",
       "      <td>0</td>\n",
       "      <td>0</td>\n",
       "      <td>0</td>\n",
       "      <td>0</td>\n",
       "    </tr>\n",
       "    <tr>\n",
       "      <th>000xQL6tZNLJzIrtIgxqSl</th>\n",
       "      <td>ZAYN</td>\n",
       "      <td>Still Got Time</td>\n",
       "      <td>70</td>\n",
       "      <td>0.131</td>\n",
       "      <td>0.748</td>\n",
       "      <td>188491</td>\n",
       "      <td>0.627</td>\n",
       "      <td>0.000000</td>\n",
       "      <td>G</td>\n",
       "      <td>0.0852</td>\n",
       "      <td>...</td>\n",
       "      <td>1</td>\n",
       "      <td>0</td>\n",
       "      <td>0</td>\n",
       "      <td>0</td>\n",
       "      <td>0</td>\n",
       "      <td>0</td>\n",
       "      <td>0</td>\n",
       "      <td>0</td>\n",
       "      <td>0</td>\n",
       "      <td>0</td>\n",
       "    </tr>\n",
       "  </tbody>\n",
       "</table>\n",
       "<p>5 rows × 42 columns</p>\n",
       "</div>"
      ],
      "text/plain": [
       "                              artist_name                          track_name  \\\n",
       "track_id                                                                        \n",
       "00021Wy6AyMbLP2tqij86e  Capcom Sound Team                     Zangief's Theme   \n",
       "000CzNKC8PEt1yC3L8dqwV     Henri Salvador  Coeur Brisé à Prendre - Remastered   \n",
       "000DfZJww8KiixTKuk9usJ          Mike Love                          Earthlings   \n",
       "000EWWBkYaREzsBplYjUag       Don Philippe                           Fewerdolr   \n",
       "000xQL6tZNLJzIrtIgxqSl               ZAYN                      Still Got Time   \n",
       "\n",
       "                        popularity  acousticness  danceability  duration_ms  \\\n",
       "track_id                                                                      \n",
       "00021Wy6AyMbLP2tqij86e          13         0.234         0.617       169173   \n",
       "000CzNKC8PEt1yC3L8dqwV           5         0.249         0.518       130653   \n",
       "000DfZJww8KiixTKuk9usJ          30         0.366         0.631       357573   \n",
       "000EWWBkYaREzsBplYjUag          39         0.815         0.768       104924   \n",
       "000xQL6tZNLJzIrtIgxqSl          70         0.131         0.748       188491   \n",
       "\n",
       "                        energy  instrumentalness key  liveness  ...  Pop  \\\n",
       "track_id                                                        ...        \n",
       "00021Wy6AyMbLP2tqij86e   0.862          0.976000   G    0.1410  ...    0   \n",
       "000CzNKC8PEt1yC3L8dqwV   0.805          0.000000   F    0.3330  ...    0   \n",
       "000DfZJww8KiixTKuk9usJ   0.513          0.000004   D    0.1090  ...    0   \n",
       "000EWWBkYaREzsBplYjUag   0.137          0.922000  C#    0.1130  ...    0   \n",
       "000xQL6tZNLJzIrtIgxqSl   0.627          0.000000   G    0.0852  ...    1   \n",
       "\n",
       "                       Reggae  Reggaeton  Jazz Rock  Ska  Comedy  Soul  \\\n",
       "track_id                                                                 \n",
       "00021Wy6AyMbLP2tqij86e      0          0     0    0    0       0     0   \n",
       "000CzNKC8PEt1yC3L8dqwV      0          0     0    0    0       0     0   \n",
       "000DfZJww8KiixTKuk9usJ      1          0     0    0    0       0     0   \n",
       "000EWWBkYaREzsBplYjUag      0          0     1    0    0       0     0   \n",
       "000xQL6tZNLJzIrtIgxqSl      0          0     0    0    0       0     0   \n",
       "\n",
       "                        Soundtrack  World  \n",
       "track_id                                   \n",
       "00021Wy6AyMbLP2tqij86e           0      0  \n",
       "000CzNKC8PEt1yC3L8dqwV           0      0  \n",
       "000DfZJww8KiixTKuk9usJ           0      0  \n",
       "000EWWBkYaREzsBplYjUag           0      0  \n",
       "000xQL6tZNLJzIrtIgxqSl           0      0  \n",
       "\n",
       "[5 rows x 42 columns]"
      ]
     },
     "execution_count": 17,
     "metadata": {},
     "output_type": "execute_result"
    }
   ],
   "source": [
    "#removing redundant genre column\n",
    "df.drop('genre', axis=1, inplace=True)\n",
    "df.head()"
   ]
  },
  {
   "cell_type": "code",
   "execution_count": 18,
   "metadata": {
    "ExecuteTime": {
     "end_time": "2021-05-31T00:07:23.182812Z",
     "start_time": "2021-05-31T00:07:23.120849Z"
    }
   },
   "outputs": [
    {
     "data": {
      "text/html": [
       "<div>\n",
       "<style scoped>\n",
       "    .dataframe tbody tr th:only-of-type {\n",
       "        vertical-align: middle;\n",
       "    }\n",
       "\n",
       "    .dataframe tbody tr th {\n",
       "        vertical-align: top;\n",
       "    }\n",
       "\n",
       "    .dataframe thead th {\n",
       "        text-align: right;\n",
       "    }\n",
       "</style>\n",
       "<table border=\"1\" class=\"dataframe\">\n",
       "  <thead>\n",
       "    <tr style=\"text-align: right;\">\n",
       "      <th></th>\n",
       "      <th>artist_name</th>\n",
       "      <th>track_name</th>\n",
       "      <th>popularity</th>\n",
       "      <th>acousticness</th>\n",
       "      <th>danceability</th>\n",
       "      <th>duration_ms</th>\n",
       "      <th>energy</th>\n",
       "      <th>instrumentalness</th>\n",
       "      <th>key</th>\n",
       "      <th>liveness</th>\n",
       "      <th>...</th>\n",
       "      <th>Pop</th>\n",
       "      <th>Reggae</th>\n",
       "      <th>Reggaeton</th>\n",
       "      <th>Jazz</th>\n",
       "      <th>Rock</th>\n",
       "      <th>Ska</th>\n",
       "      <th>Comedy</th>\n",
       "      <th>Soul</th>\n",
       "      <th>Soundtrack</th>\n",
       "      <th>World</th>\n",
       "    </tr>\n",
       "    <tr>\n",
       "      <th>track_id</th>\n",
       "      <th></th>\n",
       "      <th></th>\n",
       "      <th></th>\n",
       "      <th></th>\n",
       "      <th></th>\n",
       "      <th></th>\n",
       "      <th></th>\n",
       "      <th></th>\n",
       "      <th></th>\n",
       "      <th></th>\n",
       "      <th></th>\n",
       "      <th></th>\n",
       "      <th></th>\n",
       "      <th></th>\n",
       "      <th></th>\n",
       "      <th></th>\n",
       "      <th></th>\n",
       "      <th></th>\n",
       "      <th></th>\n",
       "      <th></th>\n",
       "      <th></th>\n",
       "    </tr>\n",
       "  </thead>\n",
       "  <tbody>\n",
       "    <tr>\n",
       "      <th>6iOvnACn4ChlAw4lWUU4dd</th>\n",
       "      <td>Doja Cat</td>\n",
       "      <td>Go To Town</td>\n",
       "      <td>64</td>\n",
       "      <td>0.0716</td>\n",
       "      <td>0.71</td>\n",
       "      <td>217813</td>\n",
       "      <td>0.71</td>\n",
       "      <td>0.000001</td>\n",
       "      <td>C</td>\n",
       "      <td>0.206</td>\n",
       "      <td>...</td>\n",
       "      <td>1</td>\n",
       "      <td>0</td>\n",
       "      <td>0</td>\n",
       "      <td>0</td>\n",
       "      <td>0</td>\n",
       "      <td>0</td>\n",
       "      <td>0</td>\n",
       "      <td>0</td>\n",
       "      <td>0</td>\n",
       "      <td>0</td>\n",
       "    </tr>\n",
       "  </tbody>\n",
       "</table>\n",
       "<p>1 rows × 42 columns</p>\n",
       "</div>"
      ],
      "text/plain": [
       "                       artist_name  track_name  popularity  acousticness  \\\n",
       "track_id                                                                   \n",
       "6iOvnACn4ChlAw4lWUU4dd    Doja Cat  Go To Town          64        0.0716   \n",
       "\n",
       "                        danceability  duration_ms  energy  instrumentalness  \\\n",
       "track_id                                                                      \n",
       "6iOvnACn4ChlAw4lWUU4dd          0.71       217813    0.71          0.000001   \n",
       "\n",
       "                       key  liveness  ...  Pop Reggae  Reggaeton  Jazz Rock  \\\n",
       "track_id                              ...                                     \n",
       "6iOvnACn4ChlAw4lWUU4dd   C     0.206  ...    1      0          0     0    0   \n",
       "\n",
       "                        Ska  Comedy  Soul  Soundtrack  World  \n",
       "track_id                                                      \n",
       "6iOvnACn4ChlAw4lWUU4dd    0       0     0           0      0  \n",
       "\n",
       "[1 rows x 42 columns]"
      ]
     },
     "execution_count": 18,
     "metadata": {},
     "output_type": "execute_result"
    }
   ],
   "source": [
    "#verifying that duplicates have been eliminated\n",
    "df[df.index =='6iOvnACn4ChlAw4lWUU4dd']"
   ]
  },
  {
   "cell_type": "markdown",
   "metadata": {},
   "source": [
    "We successfully addressed the duplicates of each track by aggregating them to a single row."
   ]
  },
  {
   "cell_type": "code",
   "execution_count": 19,
   "metadata": {
    "ExecuteTime": {
     "end_time": "2021-05-31T00:07:23.291757Z",
     "start_time": "2021-05-31T00:07:23.185809Z"
    }
   },
   "outputs": [
    {
     "name": "stdout",
     "output_type": "stream",
     "text": [
      "<class 'pandas.core.frame.DataFrame'>\n",
      "Index: 176774 entries, 00021Wy6AyMbLP2tqij86e to 7zzbfi8fvHe6hm342GcNYl\n",
      "Data columns (total 42 columns):\n",
      " #   Column            Non-Null Count   Dtype  \n",
      "---  ------            --------------   -----  \n",
      " 0   artist_name       176774 non-null  object \n",
      " 1   track_name        176774 non-null  object \n",
      " 2   popularity        176774 non-null  int64  \n",
      " 3   acousticness      176774 non-null  float64\n",
      " 4   danceability      176774 non-null  float64\n",
      " 5   duration_ms       176774 non-null  int64  \n",
      " 6   energy            176774 non-null  float64\n",
      " 7   instrumentalness  176774 non-null  float64\n",
      " 8   key               176774 non-null  object \n",
      " 9   liveness          176774 non-null  float64\n",
      " 10  loudness          176774 non-null  float64\n",
      " 11  mode              176774 non-null  object \n",
      " 12  speechiness       176774 non-null  float64\n",
      " 13  tempo             176774 non-null  float64\n",
      " 14  time_signature    176774 non-null  object \n",
      " 15  valence           176774 non-null  float64\n",
      " 16  Movie             176774 non-null  int32  \n",
      " 17  R&B               176774 non-null  int32  \n",
      " 18  A Capella         176774 non-null  int32  \n",
      " 19  Alternative       176774 non-null  int32  \n",
      " 20  Country           176774 non-null  int32  \n",
      " 21  Dance             176774 non-null  int32  \n",
      " 22  Electronic        176774 non-null  int32  \n",
      " 23  Anime             176774 non-null  int32  \n",
      " 24  Folk              176774 non-null  int32  \n",
      " 25  Blues             176774 non-null  int32  \n",
      " 26  Opera             176774 non-null  int32  \n",
      " 27  Hip-Hop           176774 non-null  int32  \n",
      " 28  Children's Music  176774 non-null  int32  \n",
      " 29  Rap               176774 non-null  int32  \n",
      " 30  Indie             176774 non-null  int32  \n",
      " 31  Classical         176774 non-null  int32  \n",
      " 32  Pop               176774 non-null  int32  \n",
      " 33  Reggae            176774 non-null  int32  \n",
      " 34  Reggaeton         176774 non-null  int32  \n",
      " 35  Jazz              176774 non-null  int32  \n",
      " 36  Rock              176774 non-null  int32  \n",
      " 37  Ska               176774 non-null  int32  \n",
      " 38  Comedy            176774 non-null  int32  \n",
      " 39  Soul              176774 non-null  int32  \n",
      " 40  Soundtrack        176774 non-null  int32  \n",
      " 41  World             176774 non-null  int32  \n",
      "dtypes: float64(9), int32(26), int64(2), object(5)\n",
      "memory usage: 40.5+ MB\n"
     ]
    }
   ],
   "source": [
    "df.info()"
   ]
  },
  {
   "cell_type": "markdown",
   "metadata": {},
   "source": [
    "We now have 176,774 unique tracks in our dataset (down from 232,725)."
   ]
  },
  {
   "cell_type": "markdown",
   "metadata": {},
   "source": [
    "## Feature Engineering - is_popular"
   ]
  },
  {
   "cell_type": "markdown",
   "metadata": {},
   "source": [
    "Since our goal is to be able to identify which tracks will be popular, we need to feature engineer a new column by binarizing the popularity column. To be able to do this, we need to decide on a cut-off point of popularity score which if a song stays above this cut-off point it will be considered \"popular\" and if it stays below it will be considered \"not popular\". We can start off by taking a look at the distribution of the popularity score distribution."
   ]
  },
  {
   "cell_type": "code",
   "execution_count": 20,
   "metadata": {
    "ExecuteTime": {
     "end_time": "2021-05-31T00:07:24.402051Z",
     "start_time": "2021-05-31T00:07:23.293741Z"
    }
   },
   "outputs": [],
   "source": [
    "import matplotlib.pyplot as plt\n",
    "import seaborn as sns"
   ]
  },
  {
   "cell_type": "code",
   "execution_count": 21,
   "metadata": {
    "ExecuteTime": {
     "end_time": "2021-05-31T00:07:25.015679Z",
     "start_time": "2021-05-31T00:07:24.405050Z"
    }
   },
   "outputs": [
    {
     "data": {
      "text/plain": [
       "<AxesSubplot:xlabel='popularity', ylabel='Count'>"
      ]
     },
     "execution_count": 21,
     "metadata": {},
     "output_type": "execute_result"
    },
    {
     "data": {
      "image/png": "[encoded data removed]",
      "text/plain": [
       "<Figure size 432x288 with 1 Axes>"
      ]
     },
     "metadata": {
      "needs_background": "light"
     },
     "output_type": "display_data"
    }
   ],
   "source": [
    "#creating a histogram to see distribution of popularity scores in the dataset.\n",
    "sns.histplot(df['popularity'], bins='auto')"
   ]
  },
  {
   "cell_type": "markdown",
   "metadata": {},
   "source": [
    "From the above histogram we see that we have a bimodal distribution. One of the peaks is at 0, and the other one seems to be around 40. In order to better decide what's popular, we can take a look at the Top 50 songs' popularity scores (this data is also from 2019 similar to our main dataset to keep the analysis consistent.)"
   ]
  },
  {
   "cell_type": "markdown",
   "metadata": {},
   "source": [
    "### Top 50 Songs - 2019"
   ]
  },
  {
   "cell_type": "code",
   "execution_count": 22,
   "metadata": {
    "ExecuteTime": {
     "end_time": "2021-05-31T00:07:25.031678Z",
     "start_time": "2021-05-31T00:07:25.018667Z"
    }
   },
   "outputs": [],
   "source": [
    "#data from https://www.kaggle.com/leonardopena/top50spotify2019\n",
    "df_50 = pd.read_csv('data/top50.csv', encoding='latin1', index_col=0)"
   ]
  },
  {
   "cell_type": "code",
   "execution_count": 23,
   "metadata": {
    "ExecuteTime": {
     "end_time": "2021-05-31T00:07:25.063641Z",
     "start_time": "2021-05-31T00:07:25.036657Z"
    }
   },
   "outputs": [
    {
     "data": {
      "text/html": [
       "<div>\n",
       "<style scoped>\n",
       "    .dataframe tbody tr th:only-of-type {\n",
       "        vertical-align: middle;\n",
       "    }\n",
       "\n",
       "    .dataframe tbody tr th {\n",
       "        vertical-align: top;\n",
       "    }\n",
       "\n",
       "    .dataframe thead th {\n",
       "        text-align: right;\n",
       "    }\n",
       "</style>\n",
       "<table border=\"1\" class=\"dataframe\">\n",
       "  <thead>\n",
       "    <tr style=\"text-align: right;\">\n",
       "      <th></th>\n",
       "      <th>Track.Name</th>\n",
       "      <th>Artist.Name</th>\n",
       "      <th>Genre</th>\n",
       "      <th>Beats.Per.Minute</th>\n",
       "      <th>Energy</th>\n",
       "      <th>Danceability</th>\n",
       "      <th>Loudness..dB..</th>\n",
       "      <th>Liveness</th>\n",
       "      <th>Valence.</th>\n",
       "      <th>Length.</th>\n",
       "      <th>Acousticness..</th>\n",
       "      <th>Speechiness.</th>\n",
       "      <th>Popularity</th>\n",
       "    </tr>\n",
       "  </thead>\n",
       "  <tbody>\n",
       "    <tr>\n",
       "      <th>1</th>\n",
       "      <td>Señorita</td>\n",
       "      <td>Shawn Mendes</td>\n",
       "      <td>canadian pop</td>\n",
       "      <td>117</td>\n",
       "      <td>55</td>\n",
       "      <td>76</td>\n",
       "      <td>-6</td>\n",
       "      <td>8</td>\n",
       "      <td>75</td>\n",
       "      <td>191</td>\n",
       "      <td>4</td>\n",
       "      <td>3</td>\n",
       "      <td>79</td>\n",
       "    </tr>\n",
       "    <tr>\n",
       "      <th>2</th>\n",
       "      <td>China</td>\n",
       "      <td>Anuel AA</td>\n",
       "      <td>reggaeton flow</td>\n",
       "      <td>105</td>\n",
       "      <td>81</td>\n",
       "      <td>79</td>\n",
       "      <td>-4</td>\n",
       "      <td>8</td>\n",
       "      <td>61</td>\n",
       "      <td>302</td>\n",
       "      <td>8</td>\n",
       "      <td>9</td>\n",
       "      <td>92</td>\n",
       "    </tr>\n",
       "    <tr>\n",
       "      <th>3</th>\n",
       "      <td>boyfriend (with Social House)</td>\n",
       "      <td>Ariana Grande</td>\n",
       "      <td>dance pop</td>\n",
       "      <td>190</td>\n",
       "      <td>80</td>\n",
       "      <td>40</td>\n",
       "      <td>-4</td>\n",
       "      <td>16</td>\n",
       "      <td>70</td>\n",
       "      <td>186</td>\n",
       "      <td>12</td>\n",
       "      <td>46</td>\n",
       "      <td>85</td>\n",
       "    </tr>\n",
       "    <tr>\n",
       "      <th>4</th>\n",
       "      <td>Beautiful People (feat. Khalid)</td>\n",
       "      <td>Ed Sheeran</td>\n",
       "      <td>pop</td>\n",
       "      <td>93</td>\n",
       "      <td>65</td>\n",
       "      <td>64</td>\n",
       "      <td>-8</td>\n",
       "      <td>8</td>\n",
       "      <td>55</td>\n",
       "      <td>198</td>\n",
       "      <td>12</td>\n",
       "      <td>19</td>\n",
       "      <td>86</td>\n",
       "    </tr>\n",
       "    <tr>\n",
       "      <th>5</th>\n",
       "      <td>Goodbyes (Feat. Young Thug)</td>\n",
       "      <td>Post Malone</td>\n",
       "      <td>dfw rap</td>\n",
       "      <td>150</td>\n",
       "      <td>65</td>\n",
       "      <td>58</td>\n",
       "      <td>-4</td>\n",
       "      <td>11</td>\n",
       "      <td>18</td>\n",
       "      <td>175</td>\n",
       "      <td>45</td>\n",
       "      <td>7</td>\n",
       "      <td>94</td>\n",
       "    </tr>\n",
       "  </tbody>\n",
       "</table>\n",
       "</div>"
      ],
      "text/plain": [
       "                        Track.Name    Artist.Name           Genre  \\\n",
       "1                         Señorita   Shawn Mendes    canadian pop   \n",
       "2                            China       Anuel AA  reggaeton flow   \n",
       "3    boyfriend (with Social House)  Ariana Grande       dance pop   \n",
       "4  Beautiful People (feat. Khalid)     Ed Sheeran             pop   \n",
       "5      Goodbyes (Feat. Young Thug)    Post Malone         dfw rap   \n",
       "\n",
       "   Beats.Per.Minute  Energy  Danceability  Loudness..dB..  Liveness  Valence.  \\\n",
       "1               117      55            76              -6         8        75   \n",
       "2               105      81            79              -4         8        61   \n",
       "3               190      80            40              -4        16        70   \n",
       "4                93      65            64              -8         8        55   \n",
       "5               150      65            58              -4        11        18   \n",
       "\n",
       "   Length.  Acousticness..  Speechiness.  Popularity  \n",
       "1      191               4             3          79  \n",
       "2      302               8             9          92  \n",
       "3      186              12            46          85  \n",
       "4      198              12            19          86  \n",
       "5      175              45             7          94  "
      ]
     },
     "execution_count": 23,
     "metadata": {},
     "output_type": "execute_result"
    }
   ],
   "source": [
    "df_50.head()"
   ]
  },
  {
   "cell_type": "code",
   "execution_count": 24,
   "metadata": {
    "ExecuteTime": {
     "end_time": "2021-05-31T00:07:25.094622Z",
     "start_time": "2021-05-31T00:07:25.068638Z"
    }
   },
   "outputs": [
    {
     "data": {
      "text/plain": [
       "count    50.000000\n",
       "mean     87.500000\n",
       "std       4.491489\n",
       "min      70.000000\n",
       "25%      86.000000\n",
       "50%      88.000000\n",
       "75%      90.750000\n",
       "max      95.000000\n",
       "Name: Popularity, dtype: float64"
      ]
     },
     "execution_count": 24,
     "metadata": {},
     "output_type": "execute_result"
    }
   ],
   "source": [
    "#displaying stats information of Top 50 songs\n",
    "df_50['Popularity'].describe()"
   ]
  },
  {
   "cell_type": "markdown",
   "metadata": {},
   "source": [
    "Going back to our histogram we can draw vertical lines to see where these values fall into."
   ]
  },
  {
   "cell_type": "code",
   "execution_count": 25,
   "metadata": {
    "ExecuteTime": {
     "end_time": "2021-05-31T00:07:25.710236Z",
     "start_time": "2021-05-31T00:07:25.097619Z"
    }
   },
   "outputs": [
    {
     "data": {
      "image/png": "[encoded data removed]",
      "text/plain": [
       "<Figure size 432x288 with 1 Axes>"
      ]
     },
     "metadata": {
      "needs_background": "light"
     },
     "output_type": "display_data"
    }
   ],
   "source": [
    "fig, ax = plt.subplots()\n",
    "sns.histplot(df['popularity'], bins='auto', ax=ax)\n",
    "stats=['mean', '50%', 'min', 'max']\n",
    "for stat in stats:\n",
    "    ax.vlines(x=df_50['Popularity'].describe()[stat], ymin=0, ymax=6000, linestyles='dashed', colors='red', label=stat)"
   ]
  },
  {
   "cell_type": "markdown",
   "metadata": {},
   "source": [
    "We can see that there was a range of popularity scores in the Top 50 songs between 70 and 95. Which means that any song that is above a 70 theoretically could be a popular song. It doesn't make sense to use median or mean scores for our cutoff point in this case since then we would be disregarding all the songs that had lower values than 87.5 or 88 as unpopular which is untrue. In a previous iteration of this project, we proceeded modelling with the popularity score of 70 being the cutoff point and our models did not perform well since the cutoff point was based off of only 50 data points. Therefore we proceeded to look at a larger dataset to get a better sample size of popular songs."
   ]
  },
  {
   "cell_type": "markdown",
   "metadata": {},
   "source": [
    "### Top 100 Songs - 2019"
   ]
  },
  {
   "cell_type": "code",
   "execution_count": 26,
   "metadata": {
    "ExecuteTime": {
     "end_time": "2021-05-31T00:07:25.725246Z",
     "start_time": "2021-05-31T00:07:25.712237Z"
    }
   },
   "outputs": [],
   "source": [
    "#data from https://www.kaggle.com/reach2ashish/top-100-spotify-songs-2019\n",
    "df_100 = pd.read_csv('data/spotify_top_100_2019.csv')"
   ]
  },
  {
   "cell_type": "code",
   "execution_count": 27,
   "metadata": {
    "ExecuteTime": {
     "end_time": "2021-05-31T00:07:25.741217Z",
     "start_time": "2021-05-31T00:07:25.727241Z"
    }
   },
   "outputs": [
    {
     "data": {
      "text/plain": [
       "count    100.000000\n",
       "mean      72.020000\n",
       "std       14.088451\n",
       "min        4.000000\n",
       "25%       70.000000\n",
       "50%       74.500000\n",
       "75%       79.000000\n",
       "max       88.000000\n",
       "Name: popularity , dtype: float64"
      ]
     },
     "execution_count": 27,
     "metadata": {},
     "output_type": "execute_result"
    }
   ],
   "source": [
    "df_100['popularity '].describe()"
   ]
  },
  {
   "cell_type": "markdown",
   "metadata": {},
   "source": [
    "The minimum value of 4 for the popularity score on the Top 100 Songs chart seems like an outlier. Next, we'll visualize the spread of this column to confirm."
   ]
  },
  {
   "cell_type": "code",
   "execution_count": 28,
   "metadata": {
    "ExecuteTime": {
     "end_time": "2021-05-31T00:07:25.994074Z",
     "start_time": "2021-05-31T00:07:25.744215Z"
    }
   },
   "outputs": [
    {
     "data": {
      "text/plain": [
       "<AxesSubplot:xlabel='popularity ', ylabel='Count'>"
      ]
     },
     "execution_count": 28,
     "metadata": {},
     "output_type": "execute_result"
    },
    {
     "data": {
      "image/png": "[encoded data removed]",
      "text/plain": [
       "<Figure size 432x288 with 1 Axes>"
      ]
     },
     "metadata": {
      "needs_background": "light"
     },
     "output_type": "display_data"
    }
   ],
   "source": [
    "fig, ax = plt.subplots()\n",
    "sns.histplot(df_100['popularity '], bins='auto', ax=ax)"
   ]
  },
  {
   "cell_type": "markdown",
   "metadata": {},
   "source": [
    "As we imagined the scores within the range 0-25 seem like outliers. We can remove outliers from this dataset with the IQR method to get a better perspective on the data."
   ]
  },
  {
   "cell_type": "code",
   "execution_count": 29,
   "metadata": {
    "ExecuteTime": {
     "end_time": "2021-05-31T00:07:26.009065Z",
     "start_time": "2021-05-31T00:07:25.996059Z"
    }
   },
   "outputs": [],
   "source": [
    "#Outlier Removal with the IQR method\n",
    "\n",
    "def find_outliers_IQR(data, return_limits = False):\n",
    "    \"\"\"Use Tukey's Method of outlier removal AKA InterQuartile-Range Rule\n",
    "    and return boolean series where True indicates it is an outlier.\n",
    "    - Calculates the range between the 75% and 25% quartiles\n",
    "    - Outliers fall outside upper and lower limits, using a treshold of  1.5*IQR the 75% and 25% quartiles.\n",
    "\n",
    "    IQR Range Calculation:    \n",
    "        res = df.describe()\n",
    "        IQR = res['75%'] -  res['25%']\n",
    "        lower_limit = res['25%'] - 1.5*IQR\n",
    "        upper_limit = res['75%'] + 1.5*IQR\n",
    "\n",
    "    Args:\n",
    "        data (Series,or ndarray): data to test for outliers.\n",
    "\n",
    "    Returns:\n",
    "        [boolean Series]: A True/False for each row use to slice outliers.\n",
    "    \n",
    "    Adapted from Flatiron School Phase #2 Py Files.\n",
    "    URL = https://github.com/flatiron-school/Online-DS-FT-022221-Cohort-Notes/blob/master/py_files/functions_SG.py\n",
    "    \n",
    "    \"\"\"\n",
    "    df_b=data\n",
    "    res= df_b.describe()\n",
    "\n",
    "    IQR = res['75%'] -  res['25%']\n",
    "    lower_limit = res['25%'] - 1.5*IQR\n",
    "    upper_limit = res['75%'] + 1.5*IQR\n",
    "    \n",
    "    if return_limits:\n",
    "        return lower_limit, upper_limit\n",
    "    \n",
    "    else:\n",
    "        idx_outs = (df_b>upper_limit) | (df_b<lower_limit)\n",
    "        return idx_outs"
   ]
  },
  {
   "cell_type": "code",
   "execution_count": 30,
   "metadata": {
    "ExecuteTime": {
     "end_time": "2021-05-31T00:07:26.040031Z",
     "start_time": "2021-05-31T00:07:26.011063Z"
    }
   },
   "outputs": [
    {
     "name": "stdout",
     "output_type": "stream",
     "text": [
      "Minimum: 58\n",
      "Maximum: 88\n"
     ]
    }
   ],
   "source": [
    "#removing outliers from the popularity column\n",
    "df_100 = df_100[find_outliers_IQR(df_100['popularity '])==False]\n",
    "#displaying minimum & maxium values in popularity column \n",
    "print(\"Minimum:\", df_100['popularity '].min())\n",
    "print(\"Maximum:\", df_100['popularity '].max())"
   ]
  },
  {
   "cell_type": "code",
   "execution_count": 31,
   "metadata": {
    "ExecuteTime": {
     "end_time": "2021-05-31T00:07:26.322855Z",
     "start_time": "2021-05-31T00:07:26.042031Z"
    }
   },
   "outputs": [
    {
     "data": {
      "text/plain": [
       "<AxesSubplot:xlabel='popularity ', ylabel='Count'>"
      ]
     },
     "execution_count": 31,
     "metadata": {},
     "output_type": "execute_result"
    },
    {
     "data": {
      "image/png": "[encoded data removed]",
      "text/plain": [
       "<Figure size 432x288 with 1 Axes>"
      ]
     },
     "metadata": {
      "needs_background": "light"
     },
     "output_type": "display_data"
    }
   ],
   "source": [
    "fig, ax = plt.subplots()\n",
    "sns.histplot(df_100['popularity '], bins=15, ax=ax)"
   ]
  },
  {
   "cell_type": "code",
   "execution_count": 32,
   "metadata": {
    "ExecuteTime": {
     "end_time": "2021-05-31T00:07:27.011470Z",
     "start_time": "2021-05-31T00:07:26.324868Z"
    }
   },
   "outputs": [
    {
     "data": {
      "text/plain": [
       "<matplotlib.legend.Legend at 0x1ddd0f792b0>"
      ]
     },
     "execution_count": 32,
     "metadata": {},
     "output_type": "execute_result"
    },
    {
     "data": {
      "image/png": "[encoded data removed]",
      "text/plain": [
       "<Figure size 432x288 with 1 Axes>"
      ]
     },
     "metadata": {
      "needs_background": "light"
     },
     "output_type": "display_data"
    }
   ],
   "source": [
    "#visualizing the min and max popularity scores on the overall dataset histogram\n",
    "fig, ax = plt.subplots()\n",
    "sns.histplot(df['popularity'], bins='auto', ax=ax)\n",
    "ax.vlines(x=df_100['popularity '].min(), ymin=0, ymax=6000, linestyles='dashed', colors='red', label='min')\n",
    "ax.vlines(x=df_100['popularity '].max(), ymin=0, ymax=6000, linestyles='dashed', colors='red', label='max')\n",
    "plt.legend()"
   ]
  },
  {
   "cell_type": "markdown",
   "metadata": {},
   "source": [
    "As we can expect to see, the top 100 songs have a wider range and therefore a lower popularity score threshold compared to the top 50 songs. We will be defining a song being popular as being Top 100 worthy and therefore will establish our cutoff point at 58."
   ]
  },
  {
   "cell_type": "code",
   "execution_count": 33,
   "metadata": {
    "ExecuteTime": {
     "end_time": "2021-05-31T00:07:27.043420Z",
     "start_time": "2021-05-31T00:07:27.013425Z"
    }
   },
   "outputs": [
    {
     "data": {
      "text/html": [
       "<div>\n",
       "<style scoped>\n",
       "    .dataframe tbody tr th:only-of-type {\n",
       "        vertical-align: middle;\n",
       "    }\n",
       "\n",
       "    .dataframe tbody tr th {\n",
       "        vertical-align: top;\n",
       "    }\n",
       "\n",
       "    .dataframe thead th {\n",
       "        text-align: right;\n",
       "    }\n",
       "</style>\n",
       "<table border=\"1\" class=\"dataframe\">\n",
       "  <thead>\n",
       "    <tr style=\"text-align: right;\">\n",
       "      <th></th>\n",
       "      <th>artist_name</th>\n",
       "      <th>track_name</th>\n",
       "      <th>popularity</th>\n",
       "      <th>acousticness</th>\n",
       "      <th>danceability</th>\n",
       "      <th>duration_ms</th>\n",
       "      <th>energy</th>\n",
       "      <th>instrumentalness</th>\n",
       "      <th>key</th>\n",
       "      <th>liveness</th>\n",
       "      <th>...</th>\n",
       "      <th>Reggae</th>\n",
       "      <th>Reggaeton</th>\n",
       "      <th>Jazz</th>\n",
       "      <th>Rock</th>\n",
       "      <th>Ska</th>\n",
       "      <th>Comedy</th>\n",
       "      <th>Soul</th>\n",
       "      <th>Soundtrack</th>\n",
       "      <th>World</th>\n",
       "      <th>is_popular</th>\n",
       "    </tr>\n",
       "    <tr>\n",
       "      <th>track_id</th>\n",
       "      <th></th>\n",
       "      <th></th>\n",
       "      <th></th>\n",
       "      <th></th>\n",
       "      <th></th>\n",
       "      <th></th>\n",
       "      <th></th>\n",
       "      <th></th>\n",
       "      <th></th>\n",
       "      <th></th>\n",
       "      <th></th>\n",
       "      <th></th>\n",
       "      <th></th>\n",
       "      <th></th>\n",
       "      <th></th>\n",
       "      <th></th>\n",
       "      <th></th>\n",
       "      <th></th>\n",
       "      <th></th>\n",
       "      <th></th>\n",
       "      <th></th>\n",
       "    </tr>\n",
       "  </thead>\n",
       "  <tbody>\n",
       "    <tr>\n",
       "      <th>00021Wy6AyMbLP2tqij86e</th>\n",
       "      <td>Capcom Sound Team</td>\n",
       "      <td>Zangief's Theme</td>\n",
       "      <td>13</td>\n",
       "      <td>0.234</td>\n",
       "      <td>0.617</td>\n",
       "      <td>169173</td>\n",
       "      <td>0.862</td>\n",
       "      <td>0.976000</td>\n",
       "      <td>G</td>\n",
       "      <td>0.1410</td>\n",
       "      <td>...</td>\n",
       "      <td>0</td>\n",
       "      <td>0</td>\n",
       "      <td>0</td>\n",
       "      <td>0</td>\n",
       "      <td>0</td>\n",
       "      <td>0</td>\n",
       "      <td>0</td>\n",
       "      <td>0</td>\n",
       "      <td>0</td>\n",
       "      <td>0</td>\n",
       "    </tr>\n",
       "    <tr>\n",
       "      <th>000CzNKC8PEt1yC3L8dqwV</th>\n",
       "      <td>Henri Salvador</td>\n",
       "      <td>Coeur Brisé à Prendre - Remastered</td>\n",
       "      <td>5</td>\n",
       "      <td>0.249</td>\n",
       "      <td>0.518</td>\n",
       "      <td>130653</td>\n",
       "      <td>0.805</td>\n",
       "      <td>0.000000</td>\n",
       "      <td>F</td>\n",
       "      <td>0.3330</td>\n",
       "      <td>...</td>\n",
       "      <td>0</td>\n",
       "      <td>0</td>\n",
       "      <td>0</td>\n",
       "      <td>0</td>\n",
       "      <td>0</td>\n",
       "      <td>0</td>\n",
       "      <td>0</td>\n",
       "      <td>0</td>\n",
       "      <td>0</td>\n",
       "      <td>0</td>\n",
       "    </tr>\n",
       "    <tr>\n",
       "      <th>000DfZJww8KiixTKuk9usJ</th>\n",
       "      <td>Mike Love</td>\n",
       "      <td>Earthlings</td>\n",
       "      <td>30</td>\n",
       "      <td>0.366</td>\n",
       "      <td>0.631</td>\n",
       "      <td>357573</td>\n",
       "      <td>0.513</td>\n",
       "      <td>0.000004</td>\n",
       "      <td>D</td>\n",
       "      <td>0.1090</td>\n",
       "      <td>...</td>\n",
       "      <td>1</td>\n",
       "      <td>0</td>\n",
       "      <td>0</td>\n",
       "      <td>0</td>\n",
       "      <td>0</td>\n",
       "      <td>0</td>\n",
       "      <td>0</td>\n",
       "      <td>0</td>\n",
       "      <td>0</td>\n",
       "      <td>0</td>\n",
       "    </tr>\n",
       "    <tr>\n",
       "      <th>000EWWBkYaREzsBplYjUag</th>\n",
       "      <td>Don Philippe</td>\n",
       "      <td>Fewerdolr</td>\n",
       "      <td>39</td>\n",
       "      <td>0.815</td>\n",
       "      <td>0.768</td>\n",
       "      <td>104924</td>\n",
       "      <td>0.137</td>\n",
       "      <td>0.922000</td>\n",
       "      <td>C#</td>\n",
       "      <td>0.1130</td>\n",
       "      <td>...</td>\n",
       "      <td>0</td>\n",
       "      <td>0</td>\n",
       "      <td>1</td>\n",
       "      <td>0</td>\n",
       "      <td>0</td>\n",
       "      <td>0</td>\n",
       "      <td>0</td>\n",
       "      <td>0</td>\n",
       "      <td>0</td>\n",
       "      <td>0</td>\n",
       "    </tr>\n",
       "    <tr>\n",
       "      <th>000xQL6tZNLJzIrtIgxqSl</th>\n",
       "      <td>ZAYN</td>\n",
       "      <td>Still Got Time</td>\n",
       "      <td>70</td>\n",
       "      <td>0.131</td>\n",
       "      <td>0.748</td>\n",
       "      <td>188491</td>\n",
       "      <td>0.627</td>\n",
       "      <td>0.000000</td>\n",
       "      <td>G</td>\n",
       "      <td>0.0852</td>\n",
       "      <td>...</td>\n",
       "      <td>0</td>\n",
       "      <td>0</td>\n",
       "      <td>0</td>\n",
       "      <td>0</td>\n",
       "      <td>0</td>\n",
       "      <td>0</td>\n",
       "      <td>0</td>\n",
       "      <td>0</td>\n",
       "      <td>0</td>\n",
       "      <td>1</td>\n",
       "    </tr>\n",
       "  </tbody>\n",
       "</table>\n",
       "<p>5 rows × 43 columns</p>\n",
       "</div>"
      ],
      "text/plain": [
       "                              artist_name                          track_name  \\\n",
       "track_id                                                                        \n",
       "00021Wy6AyMbLP2tqij86e  Capcom Sound Team                     Zangief's Theme   \n",
       "000CzNKC8PEt1yC3L8dqwV     Henri Salvador  Coeur Brisé à Prendre - Remastered   \n",
       "000DfZJww8KiixTKuk9usJ          Mike Love                          Earthlings   \n",
       "000EWWBkYaREzsBplYjUag       Don Philippe                           Fewerdolr   \n",
       "000xQL6tZNLJzIrtIgxqSl               ZAYN                      Still Got Time   \n",
       "\n",
       "                        popularity  acousticness  danceability  duration_ms  \\\n",
       "track_id                                                                      \n",
       "00021Wy6AyMbLP2tqij86e          13         0.234         0.617       169173   \n",
       "000CzNKC8PEt1yC3L8dqwV           5         0.249         0.518       130653   \n",
       "000DfZJww8KiixTKuk9usJ          30         0.366         0.631       357573   \n",
       "000EWWBkYaREzsBplYjUag          39         0.815         0.768       104924   \n",
       "000xQL6tZNLJzIrtIgxqSl          70         0.131         0.748       188491   \n",
       "\n",
       "                        energy  instrumentalness key  liveness  ...  Reggae  \\\n",
       "track_id                                                        ...           \n",
       "00021Wy6AyMbLP2tqij86e   0.862          0.976000   G    0.1410  ...       0   \n",
       "000CzNKC8PEt1yC3L8dqwV   0.805          0.000000   F    0.3330  ...       0   \n",
       "000DfZJww8KiixTKuk9usJ   0.513          0.000004   D    0.1090  ...       1   \n",
       "000EWWBkYaREzsBplYjUag   0.137          0.922000  C#    0.1130  ...       0   \n",
       "000xQL6tZNLJzIrtIgxqSl   0.627          0.000000   G    0.0852  ...       0   \n",
       "\n",
       "                       Reggaeton  Jazz  Rock Ska  Comedy  Soul  Soundtrack  \\\n",
       "track_id                                                                     \n",
       "00021Wy6AyMbLP2tqij86e         0     0     0   0       0     0           0   \n",
       "000CzNKC8PEt1yC3L8dqwV         0     0     0   0       0     0           0   \n",
       "000DfZJww8KiixTKuk9usJ         0     0     0   0       0     0           0   \n",
       "000EWWBkYaREzsBplYjUag         0     1     0   0       0     0           0   \n",
       "000xQL6tZNLJzIrtIgxqSl         0     0     0   0       0     0           0   \n",
       "\n",
       "                        World  is_popular  \n",
       "track_id                                   \n",
       "00021Wy6AyMbLP2tqij86e      0           0  \n",
       "000CzNKC8PEt1yC3L8dqwV      0           0  \n",
       "000DfZJww8KiixTKuk9usJ      0           0  \n",
       "000EWWBkYaREzsBplYjUag      0           0  \n",
       "000xQL6tZNLJzIrtIgxqSl      0           1  \n",
       "\n",
       "[5 rows x 43 columns]"
      ]
     },
     "execution_count": 33,
     "metadata": {},
     "output_type": "execute_result"
    }
   ],
   "source": [
    "#creating is_popular column with our cutoff point\n",
    "df['is_popular']=(df['popularity']>=58).astype('int')\n",
    "df.head()"
   ]
  },
  {
   "cell_type": "code",
   "execution_count": 34,
   "metadata": {
    "ExecuteTime": {
     "end_time": "2021-05-31T00:07:27.121360Z",
     "start_time": "2021-05-31T00:07:27.046419Z"
    }
   },
   "outputs": [
    {
     "data": {
      "text/html": [
       "<div>\n",
       "<style scoped>\n",
       "    .dataframe tbody tr th:only-of-type {\n",
       "        vertical-align: middle;\n",
       "    }\n",
       "\n",
       "    .dataframe tbody tr th {\n",
       "        vertical-align: top;\n",
       "    }\n",
       "\n",
       "    .dataframe thead th {\n",
       "        text-align: right;\n",
       "    }\n",
       "</style>\n",
       "<table border=\"1\" class=\"dataframe\">\n",
       "  <thead>\n",
       "    <tr style=\"text-align: right;\">\n",
       "      <th></th>\n",
       "      <th>acousticness</th>\n",
       "      <th>danceability</th>\n",
       "      <th>duration_ms</th>\n",
       "      <th>energy</th>\n",
       "      <th>instrumentalness</th>\n",
       "      <th>key</th>\n",
       "      <th>liveness</th>\n",
       "      <th>loudness</th>\n",
       "      <th>mode</th>\n",
       "      <th>speechiness</th>\n",
       "      <th>...</th>\n",
       "      <th>Reggae</th>\n",
       "      <th>Reggaeton</th>\n",
       "      <th>Jazz</th>\n",
       "      <th>Rock</th>\n",
       "      <th>Ska</th>\n",
       "      <th>Comedy</th>\n",
       "      <th>Soul</th>\n",
       "      <th>Soundtrack</th>\n",
       "      <th>World</th>\n",
       "      <th>is_popular</th>\n",
       "    </tr>\n",
       "    <tr>\n",
       "      <th>track_id</th>\n",
       "      <th></th>\n",
       "      <th></th>\n",
       "      <th></th>\n",
       "      <th></th>\n",
       "      <th></th>\n",
       "      <th></th>\n",
       "      <th></th>\n",
       "      <th></th>\n",
       "      <th></th>\n",
       "      <th></th>\n",
       "      <th></th>\n",
       "      <th></th>\n",
       "      <th></th>\n",
       "      <th></th>\n",
       "      <th></th>\n",
       "      <th></th>\n",
       "      <th></th>\n",
       "      <th></th>\n",
       "      <th></th>\n",
       "      <th></th>\n",
       "      <th></th>\n",
       "    </tr>\n",
       "  </thead>\n",
       "  <tbody>\n",
       "    <tr>\n",
       "      <th>00021Wy6AyMbLP2tqij86e</th>\n",
       "      <td>0.234</td>\n",
       "      <td>0.617</td>\n",
       "      <td>169173</td>\n",
       "      <td>0.862</td>\n",
       "      <td>0.976000</td>\n",
       "      <td>G</td>\n",
       "      <td>0.1410</td>\n",
       "      <td>-12.855</td>\n",
       "      <td>Major</td>\n",
       "      <td>0.0514</td>\n",
       "      <td>...</td>\n",
       "      <td>0</td>\n",
       "      <td>0</td>\n",
       "      <td>0</td>\n",
       "      <td>0</td>\n",
       "      <td>0</td>\n",
       "      <td>0</td>\n",
       "      <td>0</td>\n",
       "      <td>0</td>\n",
       "      <td>0</td>\n",
       "      <td>0</td>\n",
       "    </tr>\n",
       "    <tr>\n",
       "      <th>000CzNKC8PEt1yC3L8dqwV</th>\n",
       "      <td>0.249</td>\n",
       "      <td>0.518</td>\n",
       "      <td>130653</td>\n",
       "      <td>0.805</td>\n",
       "      <td>0.000000</td>\n",
       "      <td>F</td>\n",
       "      <td>0.3330</td>\n",
       "      <td>-6.248</td>\n",
       "      <td>Major</td>\n",
       "      <td>0.0407</td>\n",
       "      <td>...</td>\n",
       "      <td>0</td>\n",
       "      <td>0</td>\n",
       "      <td>0</td>\n",
       "      <td>0</td>\n",
       "      <td>0</td>\n",
       "      <td>0</td>\n",
       "      <td>0</td>\n",
       "      <td>0</td>\n",
       "      <td>0</td>\n",
       "      <td>0</td>\n",
       "    </tr>\n",
       "    <tr>\n",
       "      <th>000DfZJww8KiixTKuk9usJ</th>\n",
       "      <td>0.366</td>\n",
       "      <td>0.631</td>\n",
       "      <td>357573</td>\n",
       "      <td>0.513</td>\n",
       "      <td>0.000004</td>\n",
       "      <td>D</td>\n",
       "      <td>0.1090</td>\n",
       "      <td>-6.376</td>\n",
       "      <td>Major</td>\n",
       "      <td>0.0293</td>\n",
       "      <td>...</td>\n",
       "      <td>1</td>\n",
       "      <td>0</td>\n",
       "      <td>0</td>\n",
       "      <td>0</td>\n",
       "      <td>0</td>\n",
       "      <td>0</td>\n",
       "      <td>0</td>\n",
       "      <td>0</td>\n",
       "      <td>0</td>\n",
       "      <td>0</td>\n",
       "    </tr>\n",
       "    <tr>\n",
       "      <th>000EWWBkYaREzsBplYjUag</th>\n",
       "      <td>0.815</td>\n",
       "      <td>0.768</td>\n",
       "      <td>104924</td>\n",
       "      <td>0.137</td>\n",
       "      <td>0.922000</td>\n",
       "      <td>C#</td>\n",
       "      <td>0.1130</td>\n",
       "      <td>-13.284</td>\n",
       "      <td>Minor</td>\n",
       "      <td>0.0747</td>\n",
       "      <td>...</td>\n",
       "      <td>0</td>\n",
       "      <td>0</td>\n",
       "      <td>1</td>\n",
       "      <td>0</td>\n",
       "      <td>0</td>\n",
       "      <td>0</td>\n",
       "      <td>0</td>\n",
       "      <td>0</td>\n",
       "      <td>0</td>\n",
       "      <td>0</td>\n",
       "    </tr>\n",
       "    <tr>\n",
       "      <th>000xQL6tZNLJzIrtIgxqSl</th>\n",
       "      <td>0.131</td>\n",
       "      <td>0.748</td>\n",
       "      <td>188491</td>\n",
       "      <td>0.627</td>\n",
       "      <td>0.000000</td>\n",
       "      <td>G</td>\n",
       "      <td>0.0852</td>\n",
       "      <td>-6.029</td>\n",
       "      <td>Major</td>\n",
       "      <td>0.0644</td>\n",
       "      <td>...</td>\n",
       "      <td>0</td>\n",
       "      <td>0</td>\n",
       "      <td>0</td>\n",
       "      <td>0</td>\n",
       "      <td>0</td>\n",
       "      <td>0</td>\n",
       "      <td>0</td>\n",
       "      <td>0</td>\n",
       "      <td>0</td>\n",
       "      <td>1</td>\n",
       "    </tr>\n",
       "  </tbody>\n",
       "</table>\n",
       "<p>5 rows × 40 columns</p>\n",
       "</div>"
      ],
      "text/plain": [
       "                        acousticness  danceability  duration_ms  energy  \\\n",
       "track_id                                                                  \n",
       "00021Wy6AyMbLP2tqij86e         0.234         0.617       169173   0.862   \n",
       "000CzNKC8PEt1yC3L8dqwV         0.249         0.518       130653   0.805   \n",
       "000DfZJww8KiixTKuk9usJ         0.366         0.631       357573   0.513   \n",
       "000EWWBkYaREzsBplYjUag         0.815         0.768       104924   0.137   \n",
       "000xQL6tZNLJzIrtIgxqSl         0.131         0.748       188491   0.627   \n",
       "\n",
       "                        instrumentalness key  liveness  loudness   mode  \\\n",
       "track_id                                                                  \n",
       "00021Wy6AyMbLP2tqij86e          0.976000   G    0.1410   -12.855  Major   \n",
       "000CzNKC8PEt1yC3L8dqwV          0.000000   F    0.3330    -6.248  Major   \n",
       "000DfZJww8KiixTKuk9usJ          0.000004   D    0.1090    -6.376  Major   \n",
       "000EWWBkYaREzsBplYjUag          0.922000  C#    0.1130   -13.284  Minor   \n",
       "000xQL6tZNLJzIrtIgxqSl          0.000000   G    0.0852    -6.029  Major   \n",
       "\n",
       "                        speechiness  ...  Reggae Reggaeton  Jazz  Rock  Ska  \\\n",
       "track_id                             ...                                      \n",
       "00021Wy6AyMbLP2tqij86e       0.0514  ...       0         0     0     0    0   \n",
       "000CzNKC8PEt1yC3L8dqwV       0.0407  ...       0         0     0     0    0   \n",
       "000DfZJww8KiixTKuk9usJ       0.0293  ...       1         0     0     0    0   \n",
       "000EWWBkYaREzsBplYjUag       0.0747  ...       0         0     1     0    0   \n",
       "000xQL6tZNLJzIrtIgxqSl       0.0644  ...       0         0     0     0    0   \n",
       "\n",
       "                        Comedy  Soul  Soundtrack  World  is_popular  \n",
       "track_id                                                             \n",
       "00021Wy6AyMbLP2tqij86e       0     0           0      0           0  \n",
       "000CzNKC8PEt1yC3L8dqwV       0     0           0      0           0  \n",
       "000DfZJww8KiixTKuk9usJ       0     0           0      0           0  \n",
       "000EWWBkYaREzsBplYjUag       0     0           0      0           0  \n",
       "000xQL6tZNLJzIrtIgxqSl       0     0           0      0           1  \n",
       "\n",
       "[5 rows x 40 columns]"
      ]
     },
     "execution_count": 34,
     "metadata": {},
     "output_type": "execute_result"
    }
   ],
   "source": [
    "#dropping popularity score column since we will not be using it\n",
    "df.drop(['popularity', 'artist_name', 'track_name'], axis=1, inplace=True)\n",
    "df.head()"
   ]
  },
  {
   "cell_type": "markdown",
   "metadata": {},
   "source": [
    "We dropped popularity scores since we already binarized that column, but additionally we are dropping 'artist_name' and 'track_name' since we are looking at the anatomy of a song and not who sings it or what it's called. The goal is to identify songs that will become popular without being affected by the artist's name since we would also like to find songs from up-and-coming artists."
   ]
  },
  {
   "cell_type": "markdown",
   "metadata": {},
   "source": [
    "## train_test_split"
   ]
  },
  {
   "cell_type": "code",
   "execution_count": 35,
   "metadata": {
    "ExecuteTime": {
     "end_time": "2021-05-31T00:07:27.953844Z",
     "start_time": "2021-05-31T00:07:27.123356Z"
    }
   },
   "outputs": [],
   "source": [
    "#splitting the data to training and test sets in order to be able to measure performance\n",
    "from sklearn.model_selection import train_test_split\n",
    "y=df['is_popular']\n",
    "X=df.drop('is_popular',axis=1)\n",
    "\n",
    "X_train, X_test, y_train, y_test = train_test_split(X, y, test_size=0.30, random_state=42)"
   ]
  },
  {
   "cell_type": "markdown",
   "metadata": {},
   "source": [
    "## One Hot Encoding the Categorical Columns"
   ]
  },
  {
   "cell_type": "markdown",
   "metadata": {},
   "source": [
    "We still have categorical columns that need one hot encoding. Namely, these columns are 'key', 'mode' and 'time_signature'."
   ]
  },
  {
   "cell_type": "code",
   "execution_count": 36,
   "metadata": {
    "ExecuteTime": {
     "end_time": "2021-05-31T00:07:28.142736Z",
     "start_time": "2021-05-31T00:07:27.955851Z"
    }
   },
   "outputs": [
    {
     "data": {
      "text/plain": [
       "acousticness         4734\n",
       "danceability         1295\n",
       "duration_ms         70749\n",
       "energy               2517\n",
       "instrumentalness     5400\n",
       "key                    12\n",
       "liveness             1732\n",
       "loudness            27923\n",
       "mode                    2\n",
       "speechiness          1641\n",
       "tempo               78509\n",
       "time_signature          5\n",
       "valence              1692\n",
       "Movie                   2\n",
       "R&B                     2\n",
       "A Capella               2\n",
       "Alternative             2\n",
       "Country                 2\n",
       "Dance                   2\n",
       "Electronic              2\n",
       "Anime                   2\n",
       "Folk                    2\n",
       "Blues                   2\n",
       "Opera                   2\n",
       "Hip-Hop                 2\n",
       "Children's Music        2\n",
       "Rap                     2\n",
       "Indie                   2\n",
       "Classical               2\n",
       "Pop                     2\n",
       "Reggae                  2\n",
       "Reggaeton               2\n",
       "Jazz                    2\n",
       "Rock                    2\n",
       "Ska                     2\n",
       "Comedy                  2\n",
       "Soul                    2\n",
       "Soundtrack              2\n",
       "World                   2\n",
       "is_popular              2\n",
       "dtype: int64"
      ]
     },
     "execution_count": 36,
     "metadata": {},
     "output_type": "execute_result"
    }
   ],
   "source": [
    "#Check to see how many more columns we will be creating by OHE the cat_cols.\n",
    "df.nunique()"
   ]
  },
  {
   "cell_type": "markdown",
   "metadata": {},
   "source": [
    "We will be creating 2 (mode) + 5 (time_signature) + key (12) - 3 (drop_first) = 16 columns."
   ]
  },
  {
   "cell_type": "code",
   "execution_count": 37,
   "metadata": {
    "ExecuteTime": {
     "end_time": "2021-05-31T00:07:28.158712Z",
     "start_time": "2021-05-31T00:07:28.145720Z"
    }
   },
   "outputs": [],
   "source": [
    "#define categorical columns\n",
    "cat_cols = ['key', 'mode', 'time_signature']"
   ]
  },
  {
   "cell_type": "code",
   "execution_count": 38,
   "metadata": {
    "ExecuteTime": {
     "end_time": "2021-05-31T00:07:28.378575Z",
     "start_time": "2021-05-31T00:07:28.161710Z"
    }
   },
   "outputs": [],
   "source": [
    "#One hot encoding the dataframes\n",
    "from sklearn.preprocessing import OneHotEncoder\n",
    "\n",
    "encoder=OneHotEncoder(sparse=False, drop='first')\n",
    "#Training set\n",
    "data_ohe_train = encoder.fit_transform(X_train[cat_cols])\n",
    "df_ohe_train = pd.DataFrame(data_ohe_train, columns=encoder.get_feature_names(cat_cols), index=X_train.index)\n",
    "\n",
    "#Testing set\n",
    "data_ohe_test = encoder.transform(X_test[cat_cols])\n",
    "df_ohe_test = pd.DataFrame(data_ohe_test, columns=encoder.get_feature_names(cat_cols), index=X_test.index)"
   ]
  },
  {
   "cell_type": "code",
   "execution_count": 39,
   "metadata": {
    "ExecuteTime": {
     "end_time": "2021-05-31T00:07:28.425545Z",
     "start_time": "2021-05-31T00:07:28.380573Z"
    },
    "scrolled": true
   },
   "outputs": [
    {
     "data": {
      "text/html": [
       "<div>\n",
       "<style scoped>\n",
       "    .dataframe tbody tr th:only-of-type {\n",
       "        vertical-align: middle;\n",
       "    }\n",
       "\n",
       "    .dataframe tbody tr th {\n",
       "        vertical-align: top;\n",
       "    }\n",
       "\n",
       "    .dataframe thead th {\n",
       "        text-align: right;\n",
       "    }\n",
       "</style>\n",
       "<table border=\"1\" class=\"dataframe\">\n",
       "  <thead>\n",
       "    <tr style=\"text-align: right;\">\n",
       "      <th></th>\n",
       "      <th>key_A#</th>\n",
       "      <th>key_B</th>\n",
       "      <th>key_C</th>\n",
       "      <th>key_C#</th>\n",
       "      <th>key_D</th>\n",
       "      <th>key_D#</th>\n",
       "      <th>key_E</th>\n",
       "      <th>key_F</th>\n",
       "      <th>key_F#</th>\n",
       "      <th>key_G</th>\n",
       "      <th>key_G#</th>\n",
       "      <th>mode_Minor</th>\n",
       "      <th>time_signature_1/4</th>\n",
       "      <th>time_signature_3/4</th>\n",
       "      <th>time_signature_4/4</th>\n",
       "      <th>time_signature_5/4</th>\n",
       "    </tr>\n",
       "    <tr>\n",
       "      <th>track_id</th>\n",
       "      <th></th>\n",
       "      <th></th>\n",
       "      <th></th>\n",
       "      <th></th>\n",
       "      <th></th>\n",
       "      <th></th>\n",
       "      <th></th>\n",
       "      <th></th>\n",
       "      <th></th>\n",
       "      <th></th>\n",
       "      <th></th>\n",
       "      <th></th>\n",
       "      <th></th>\n",
       "      <th></th>\n",
       "      <th></th>\n",
       "      <th></th>\n",
       "    </tr>\n",
       "  </thead>\n",
       "  <tbody>\n",
       "    <tr>\n",
       "      <th>5SbN8lXhPno4BRrFb9yqkF</th>\n",
       "      <td>0.0</td>\n",
       "      <td>0.0</td>\n",
       "      <td>1.0</td>\n",
       "      <td>0.0</td>\n",
       "      <td>0.0</td>\n",
       "      <td>0.0</td>\n",
       "      <td>0.0</td>\n",
       "      <td>0.0</td>\n",
       "      <td>0.0</td>\n",
       "      <td>0.0</td>\n",
       "      <td>0.0</td>\n",
       "      <td>0.0</td>\n",
       "      <td>0.0</td>\n",
       "      <td>0.0</td>\n",
       "      <td>1.0</td>\n",
       "      <td>0.0</td>\n",
       "    </tr>\n",
       "    <tr>\n",
       "      <th>34n3eoeqVaXAgtMqy8Ncyz</th>\n",
       "      <td>0.0</td>\n",
       "      <td>0.0</td>\n",
       "      <td>0.0</td>\n",
       "      <td>1.0</td>\n",
       "      <td>0.0</td>\n",
       "      <td>0.0</td>\n",
       "      <td>0.0</td>\n",
       "      <td>0.0</td>\n",
       "      <td>0.0</td>\n",
       "      <td>0.0</td>\n",
       "      <td>0.0</td>\n",
       "      <td>0.0</td>\n",
       "      <td>0.0</td>\n",
       "      <td>0.0</td>\n",
       "      <td>1.0</td>\n",
       "      <td>0.0</td>\n",
       "    </tr>\n",
       "    <tr>\n",
       "      <th>3QbxHo2OTwBVDZbaJaMniP</th>\n",
       "      <td>1.0</td>\n",
       "      <td>0.0</td>\n",
       "      <td>0.0</td>\n",
       "      <td>0.0</td>\n",
       "      <td>0.0</td>\n",
       "      <td>0.0</td>\n",
       "      <td>0.0</td>\n",
       "      <td>0.0</td>\n",
       "      <td>0.0</td>\n",
       "      <td>0.0</td>\n",
       "      <td>0.0</td>\n",
       "      <td>0.0</td>\n",
       "      <td>0.0</td>\n",
       "      <td>0.0</td>\n",
       "      <td>1.0</td>\n",
       "      <td>0.0</td>\n",
       "    </tr>\n",
       "    <tr>\n",
       "      <th>6Y8aA0SWBMB5XTZIXlDpYv</th>\n",
       "      <td>0.0</td>\n",
       "      <td>0.0</td>\n",
       "      <td>0.0</td>\n",
       "      <td>0.0</td>\n",
       "      <td>0.0</td>\n",
       "      <td>0.0</td>\n",
       "      <td>0.0</td>\n",
       "      <td>0.0</td>\n",
       "      <td>0.0</td>\n",
       "      <td>0.0</td>\n",
       "      <td>0.0</td>\n",
       "      <td>0.0</td>\n",
       "      <td>0.0</td>\n",
       "      <td>0.0</td>\n",
       "      <td>1.0</td>\n",
       "      <td>0.0</td>\n",
       "    </tr>\n",
       "    <tr>\n",
       "      <th>16h3GCdEJ9lgiOyox4LJQA</th>\n",
       "      <td>0.0</td>\n",
       "      <td>0.0</td>\n",
       "      <td>0.0</td>\n",
       "      <td>0.0</td>\n",
       "      <td>0.0</td>\n",
       "      <td>0.0</td>\n",
       "      <td>0.0</td>\n",
       "      <td>0.0</td>\n",
       "      <td>0.0</td>\n",
       "      <td>1.0</td>\n",
       "      <td>0.0</td>\n",
       "      <td>0.0</td>\n",
       "      <td>0.0</td>\n",
       "      <td>0.0</td>\n",
       "      <td>1.0</td>\n",
       "      <td>0.0</td>\n",
       "    </tr>\n",
       "    <tr>\n",
       "      <th>...</th>\n",
       "      <td>...</td>\n",
       "      <td>...</td>\n",
       "      <td>...</td>\n",
       "      <td>...</td>\n",
       "      <td>...</td>\n",
       "      <td>...</td>\n",
       "      <td>...</td>\n",
       "      <td>...</td>\n",
       "      <td>...</td>\n",
       "      <td>...</td>\n",
       "      <td>...</td>\n",
       "      <td>...</td>\n",
       "      <td>...</td>\n",
       "      <td>...</td>\n",
       "      <td>...</td>\n",
       "      <td>...</td>\n",
       "    </tr>\n",
       "    <tr>\n",
       "      <th>5H23I3K3TUXQMsLg2FzCiY</th>\n",
       "      <td>0.0</td>\n",
       "      <td>1.0</td>\n",
       "      <td>0.0</td>\n",
       "      <td>0.0</td>\n",
       "      <td>0.0</td>\n",
       "      <td>0.0</td>\n",
       "      <td>0.0</td>\n",
       "      <td>0.0</td>\n",
       "      <td>0.0</td>\n",
       "      <td>0.0</td>\n",
       "      <td>0.0</td>\n",
       "      <td>0.0</td>\n",
       "      <td>0.0</td>\n",
       "      <td>0.0</td>\n",
       "      <td>1.0</td>\n",
       "      <td>0.0</td>\n",
       "    </tr>\n",
       "    <tr>\n",
       "      <th>4YnYtYWBmDM8YjfMMK0cqs</th>\n",
       "      <td>0.0</td>\n",
       "      <td>0.0</td>\n",
       "      <td>0.0</td>\n",
       "      <td>1.0</td>\n",
       "      <td>0.0</td>\n",
       "      <td>0.0</td>\n",
       "      <td>0.0</td>\n",
       "      <td>0.0</td>\n",
       "      <td>0.0</td>\n",
       "      <td>0.0</td>\n",
       "      <td>0.0</td>\n",
       "      <td>0.0</td>\n",
       "      <td>0.0</td>\n",
       "      <td>0.0</td>\n",
       "      <td>1.0</td>\n",
       "      <td>0.0</td>\n",
       "    </tr>\n",
       "    <tr>\n",
       "      <th>5o5xTG5Mh3JAm2BZv4nOI7</th>\n",
       "      <td>0.0</td>\n",
       "      <td>0.0</td>\n",
       "      <td>0.0</td>\n",
       "      <td>0.0</td>\n",
       "      <td>1.0</td>\n",
       "      <td>0.0</td>\n",
       "      <td>0.0</td>\n",
       "      <td>0.0</td>\n",
       "      <td>0.0</td>\n",
       "      <td>0.0</td>\n",
       "      <td>0.0</td>\n",
       "      <td>0.0</td>\n",
       "      <td>0.0</td>\n",
       "      <td>0.0</td>\n",
       "      <td>1.0</td>\n",
       "      <td>0.0</td>\n",
       "    </tr>\n",
       "    <tr>\n",
       "      <th>6T1oL7ed1wUEqlCR1iCpIR</th>\n",
       "      <td>0.0</td>\n",
       "      <td>0.0</td>\n",
       "      <td>0.0</td>\n",
       "      <td>0.0</td>\n",
       "      <td>0.0</td>\n",
       "      <td>0.0</td>\n",
       "      <td>0.0</td>\n",
       "      <td>0.0</td>\n",
       "      <td>0.0</td>\n",
       "      <td>1.0</td>\n",
       "      <td>0.0</td>\n",
       "      <td>0.0</td>\n",
       "      <td>0.0</td>\n",
       "      <td>0.0</td>\n",
       "      <td>1.0</td>\n",
       "      <td>0.0</td>\n",
       "    </tr>\n",
       "    <tr>\n",
       "      <th>5MnEYPkZ5HC7BQ988kBKqp</th>\n",
       "      <td>0.0</td>\n",
       "      <td>0.0</td>\n",
       "      <td>0.0</td>\n",
       "      <td>0.0</td>\n",
       "      <td>0.0</td>\n",
       "      <td>0.0</td>\n",
       "      <td>0.0</td>\n",
       "      <td>0.0</td>\n",
       "      <td>1.0</td>\n",
       "      <td>0.0</td>\n",
       "      <td>0.0</td>\n",
       "      <td>1.0</td>\n",
       "      <td>0.0</td>\n",
       "      <td>0.0</td>\n",
       "      <td>1.0</td>\n",
       "      <td>0.0</td>\n",
       "    </tr>\n",
       "  </tbody>\n",
       "</table>\n",
       "<p>123741 rows × 16 columns</p>\n",
       "</div>"
      ],
      "text/plain": [
       "                        key_A#  key_B  key_C  key_C#  key_D  key_D#  key_E  \\\n",
       "track_id                                                                     \n",
       "5SbN8lXhPno4BRrFb9yqkF     0.0    0.0    1.0     0.0    0.0     0.0    0.0   \n",
       "34n3eoeqVaXAgtMqy8Ncyz     0.0    0.0    0.0     1.0    0.0     0.0    0.0   \n",
       "3QbxHo2OTwBVDZbaJaMniP     1.0    0.0    0.0     0.0    0.0     0.0    0.0   \n",
       "6Y8aA0SWBMB5XTZIXlDpYv     0.0    0.0    0.0     0.0    0.0     0.0    0.0   \n",
       "16h3GCdEJ9lgiOyox4LJQA     0.0    0.0    0.0     0.0    0.0     0.0    0.0   \n",
       "...                        ...    ...    ...     ...    ...     ...    ...   \n",
       "5H23I3K3TUXQMsLg2FzCiY     0.0    1.0    0.0     0.0    0.0     0.0    0.0   \n",
       "4YnYtYWBmDM8YjfMMK0cqs     0.0    0.0    0.0     1.0    0.0     0.0    0.0   \n",
       "5o5xTG5Mh3JAm2BZv4nOI7     0.0    0.0    0.0     0.0    1.0     0.0    0.0   \n",
       "6T1oL7ed1wUEqlCR1iCpIR     0.0    0.0    0.0     0.0    0.0     0.0    0.0   \n",
       "5MnEYPkZ5HC7BQ988kBKqp     0.0    0.0    0.0     0.0    0.0     0.0    0.0   \n",
       "\n",
       "                        key_F  key_F#  key_G  key_G#  mode_Minor  \\\n",
       "track_id                                                           \n",
       "5SbN8lXhPno4BRrFb9yqkF    0.0     0.0    0.0     0.0         0.0   \n",
       "34n3eoeqVaXAgtMqy8Ncyz    0.0     0.0    0.0     0.0         0.0   \n",
       "3QbxHo2OTwBVDZbaJaMniP    0.0     0.0    0.0     0.0         0.0   \n",
       "6Y8aA0SWBMB5XTZIXlDpYv    0.0     0.0    0.0     0.0         0.0   \n",
       "16h3GCdEJ9lgiOyox4LJQA    0.0     0.0    1.0     0.0         0.0   \n",
       "...                       ...     ...    ...     ...         ...   \n",
       "5H23I3K3TUXQMsLg2FzCiY    0.0     0.0    0.0     0.0         0.0   \n",
       "4YnYtYWBmDM8YjfMMK0cqs    0.0     0.0    0.0     0.0         0.0   \n",
       "5o5xTG5Mh3JAm2BZv4nOI7    0.0     0.0    0.0     0.0         0.0   \n",
       "6T1oL7ed1wUEqlCR1iCpIR    0.0     0.0    1.0     0.0         0.0   \n",
       "5MnEYPkZ5HC7BQ988kBKqp    0.0     1.0    0.0     0.0         1.0   \n",
       "\n",
       "                        time_signature_1/4  time_signature_3/4  \\\n",
       "track_id                                                         \n",
       "5SbN8lXhPno4BRrFb9yqkF                 0.0                 0.0   \n",
       "34n3eoeqVaXAgtMqy8Ncyz                 0.0                 0.0   \n",
       "3QbxHo2OTwBVDZbaJaMniP                 0.0                 0.0   \n",
       "6Y8aA0SWBMB5XTZIXlDpYv                 0.0                 0.0   \n",
       "16h3GCdEJ9lgiOyox4LJQA                 0.0                 0.0   \n",
       "...                                    ...                 ...   \n",
       "5H23I3K3TUXQMsLg2FzCiY                 0.0                 0.0   \n",
       "4YnYtYWBmDM8YjfMMK0cqs                 0.0                 0.0   \n",
       "5o5xTG5Mh3JAm2BZv4nOI7                 0.0                 0.0   \n",
       "6T1oL7ed1wUEqlCR1iCpIR                 0.0                 0.0   \n",
       "5MnEYPkZ5HC7BQ988kBKqp                 0.0                 0.0   \n",
       "\n",
       "                        time_signature_4/4  time_signature_5/4  \n",
       "track_id                                                        \n",
       "5SbN8lXhPno4BRrFb9yqkF                 1.0                 0.0  \n",
       "34n3eoeqVaXAgtMqy8Ncyz                 1.0                 0.0  \n",
       "3QbxHo2OTwBVDZbaJaMniP                 1.0                 0.0  \n",
       "6Y8aA0SWBMB5XTZIXlDpYv                 1.0                 0.0  \n",
       "16h3GCdEJ9lgiOyox4LJQA                 1.0                 0.0  \n",
       "...                                    ...                 ...  \n",
       "5H23I3K3TUXQMsLg2FzCiY                 1.0                 0.0  \n",
       "4YnYtYWBmDM8YjfMMK0cqs                 1.0                 0.0  \n",
       "5o5xTG5Mh3JAm2BZv4nOI7                 1.0                 0.0  \n",
       "6T1oL7ed1wUEqlCR1iCpIR                 1.0                 0.0  \n",
       "5MnEYPkZ5HC7BQ988kBKqp                 1.0                 0.0  \n",
       "\n",
       "[123741 rows x 16 columns]"
      ]
     },
     "execution_count": 39,
     "metadata": {},
     "output_type": "execute_result"
    }
   ],
   "source": [
    "pd.set_option(\"display.max_columns\", None)\n",
    "df_ohe_train"
   ]
  },
  {
   "cell_type": "code",
   "execution_count": 40,
   "metadata": {
    "ExecuteTime": {
     "end_time": "2021-05-31T00:07:28.614430Z",
     "start_time": "2021-05-31T00:07:28.428544Z"
    },
    "scrolled": false
   },
   "outputs": [
    {
     "data": {
      "text/html": [
       "<div>\n",
       "<style scoped>\n",
       "    .dataframe tbody tr th:only-of-type {\n",
       "        vertical-align: middle;\n",
       "    }\n",
       "\n",
       "    .dataframe tbody tr th {\n",
       "        vertical-align: top;\n",
       "    }\n",
       "\n",
       "    .dataframe thead th {\n",
       "        text-align: right;\n",
       "    }\n",
       "</style>\n",
       "<table border=\"1\" class=\"dataframe\">\n",
       "  <thead>\n",
       "    <tr style=\"text-align: right;\">\n",
       "      <th></th>\n",
       "      <th>acousticness</th>\n",
       "      <th>danceability</th>\n",
       "      <th>duration_ms</th>\n",
       "      <th>energy</th>\n",
       "      <th>instrumentalness</th>\n",
       "      <th>liveness</th>\n",
       "      <th>loudness</th>\n",
       "      <th>speechiness</th>\n",
       "      <th>tempo</th>\n",
       "      <th>valence</th>\n",
       "      <th>Movie</th>\n",
       "      <th>R&amp;B</th>\n",
       "      <th>A Capella</th>\n",
       "      <th>Alternative</th>\n",
       "      <th>Country</th>\n",
       "      <th>Dance</th>\n",
       "      <th>Electronic</th>\n",
       "      <th>Anime</th>\n",
       "      <th>Folk</th>\n",
       "      <th>Blues</th>\n",
       "      <th>Opera</th>\n",
       "      <th>Hip-Hop</th>\n",
       "      <th>Children's Music</th>\n",
       "      <th>Rap</th>\n",
       "      <th>Indie</th>\n",
       "      <th>Classical</th>\n",
       "      <th>Pop</th>\n",
       "      <th>Reggae</th>\n",
       "      <th>Reggaeton</th>\n",
       "      <th>Jazz</th>\n",
       "      <th>Rock</th>\n",
       "      <th>Ska</th>\n",
       "      <th>Comedy</th>\n",
       "      <th>Soul</th>\n",
       "      <th>Soundtrack</th>\n",
       "      <th>World</th>\n",
       "      <th>key_A#</th>\n",
       "      <th>key_B</th>\n",
       "      <th>key_C</th>\n",
       "      <th>key_C#</th>\n",
       "      <th>key_D</th>\n",
       "      <th>key_D#</th>\n",
       "      <th>key_E</th>\n",
       "      <th>key_F</th>\n",
       "      <th>key_F#</th>\n",
       "      <th>key_G</th>\n",
       "      <th>key_G#</th>\n",
       "      <th>mode_Minor</th>\n",
       "      <th>time_signature_1/4</th>\n",
       "      <th>time_signature_3/4</th>\n",
       "      <th>time_signature_4/4</th>\n",
       "      <th>time_signature_5/4</th>\n",
       "    </tr>\n",
       "    <tr>\n",
       "      <th>track_id</th>\n",
       "      <th></th>\n",
       "      <th></th>\n",
       "      <th></th>\n",
       "      <th></th>\n",
       "      <th></th>\n",
       "      <th></th>\n",
       "      <th></th>\n",
       "      <th></th>\n",
       "      <th></th>\n",
       "      <th></th>\n",
       "      <th></th>\n",
       "      <th></th>\n",
       "      <th></th>\n",
       "      <th></th>\n",
       "      <th></th>\n",
       "      <th></th>\n",
       "      <th></th>\n",
       "      <th></th>\n",
       "      <th></th>\n",
       "      <th></th>\n",
       "      <th></th>\n",
       "      <th></th>\n",
       "      <th></th>\n",
       "      <th></th>\n",
       "      <th></th>\n",
       "      <th></th>\n",
       "      <th></th>\n",
       "      <th></th>\n",
       "      <th></th>\n",
       "      <th></th>\n",
       "      <th></th>\n",
       "      <th></th>\n",
       "      <th></th>\n",
       "      <th></th>\n",
       "      <th></th>\n",
       "      <th></th>\n",
       "      <th></th>\n",
       "      <th></th>\n",
       "      <th></th>\n",
       "      <th></th>\n",
       "      <th></th>\n",
       "      <th></th>\n",
       "      <th></th>\n",
       "      <th></th>\n",
       "      <th></th>\n",
       "      <th></th>\n",
       "      <th></th>\n",
       "      <th></th>\n",
       "      <th></th>\n",
       "      <th></th>\n",
       "      <th></th>\n",
       "      <th></th>\n",
       "    </tr>\n",
       "  </thead>\n",
       "  <tbody>\n",
       "    <tr>\n",
       "      <th>5H23I3K3TUXQMsLg2FzCiY</th>\n",
       "      <td>0.23100</td>\n",
       "      <td>0.461</td>\n",
       "      <td>326680</td>\n",
       "      <td>0.252</td>\n",
       "      <td>0.000084</td>\n",
       "      <td>0.106</td>\n",
       "      <td>-17.082</td>\n",
       "      <td>0.2740</td>\n",
       "      <td>74.768</td>\n",
       "      <td>0.481</td>\n",
       "      <td>0</td>\n",
       "      <td>0</td>\n",
       "      <td>0</td>\n",
       "      <td>0</td>\n",
       "      <td>0</td>\n",
       "      <td>0</td>\n",
       "      <td>0</td>\n",
       "      <td>0</td>\n",
       "      <td>0</td>\n",
       "      <td>0</td>\n",
       "      <td>0</td>\n",
       "      <td>0</td>\n",
       "      <td>0</td>\n",
       "      <td>0</td>\n",
       "      <td>0</td>\n",
       "      <td>0</td>\n",
       "      <td>0</td>\n",
       "      <td>1</td>\n",
       "      <td>0</td>\n",
       "      <td>0</td>\n",
       "      <td>0</td>\n",
       "      <td>0</td>\n",
       "      <td>0</td>\n",
       "      <td>0</td>\n",
       "      <td>0</td>\n",
       "      <td>0</td>\n",
       "      <td>0.0</td>\n",
       "      <td>1.0</td>\n",
       "      <td>0.0</td>\n",
       "      <td>0.0</td>\n",
       "      <td>0.0</td>\n",
       "      <td>0.0</td>\n",
       "      <td>0.0</td>\n",
       "      <td>0.0</td>\n",
       "      <td>0.0</td>\n",
       "      <td>0.0</td>\n",
       "      <td>0.0</td>\n",
       "      <td>0.0</td>\n",
       "      <td>0.0</td>\n",
       "      <td>0.0</td>\n",
       "      <td>1.0</td>\n",
       "      <td>0.0</td>\n",
       "    </tr>\n",
       "    <tr>\n",
       "      <th>4YnYtYWBmDM8YjfMMK0cqs</th>\n",
       "      <td>0.00571</td>\n",
       "      <td>0.309</td>\n",
       "      <td>201947</td>\n",
       "      <td>0.820</td>\n",
       "      <td>0.000368</td>\n",
       "      <td>0.159</td>\n",
       "      <td>-4.844</td>\n",
       "      <td>0.0636</td>\n",
       "      <td>174.762</td>\n",
       "      <td>0.399</td>\n",
       "      <td>0</td>\n",
       "      <td>0</td>\n",
       "      <td>0</td>\n",
       "      <td>0</td>\n",
       "      <td>0</td>\n",
       "      <td>0</td>\n",
       "      <td>0</td>\n",
       "      <td>0</td>\n",
       "      <td>0</td>\n",
       "      <td>0</td>\n",
       "      <td>0</td>\n",
       "      <td>0</td>\n",
       "      <td>0</td>\n",
       "      <td>0</td>\n",
       "      <td>0</td>\n",
       "      <td>0</td>\n",
       "      <td>0</td>\n",
       "      <td>0</td>\n",
       "      <td>0</td>\n",
       "      <td>0</td>\n",
       "      <td>0</td>\n",
       "      <td>1</td>\n",
       "      <td>0</td>\n",
       "      <td>0</td>\n",
       "      <td>0</td>\n",
       "      <td>0</td>\n",
       "      <td>0.0</td>\n",
       "      <td>0.0</td>\n",
       "      <td>0.0</td>\n",
       "      <td>1.0</td>\n",
       "      <td>0.0</td>\n",
       "      <td>0.0</td>\n",
       "      <td>0.0</td>\n",
       "      <td>0.0</td>\n",
       "      <td>0.0</td>\n",
       "      <td>0.0</td>\n",
       "      <td>0.0</td>\n",
       "      <td>0.0</td>\n",
       "      <td>0.0</td>\n",
       "      <td>0.0</td>\n",
       "      <td>1.0</td>\n",
       "      <td>0.0</td>\n",
       "    </tr>\n",
       "    <tr>\n",
       "      <th>5o5xTG5Mh3JAm2BZv4nOI7</th>\n",
       "      <td>0.01210</td>\n",
       "      <td>0.691</td>\n",
       "      <td>265587</td>\n",
       "      <td>0.834</td>\n",
       "      <td>0.001480</td>\n",
       "      <td>0.115</td>\n",
       "      <td>-4.378</td>\n",
       "      <td>0.0432</td>\n",
       "      <td>129.982</td>\n",
       "      <td>0.330</td>\n",
       "      <td>0</td>\n",
       "      <td>0</td>\n",
       "      <td>0</td>\n",
       "      <td>0</td>\n",
       "      <td>0</td>\n",
       "      <td>0</td>\n",
       "      <td>0</td>\n",
       "      <td>0</td>\n",
       "      <td>0</td>\n",
       "      <td>0</td>\n",
       "      <td>0</td>\n",
       "      <td>0</td>\n",
       "      <td>0</td>\n",
       "      <td>0</td>\n",
       "      <td>0</td>\n",
       "      <td>0</td>\n",
       "      <td>0</td>\n",
       "      <td>0</td>\n",
       "      <td>1</td>\n",
       "      <td>0</td>\n",
       "      <td>0</td>\n",
       "      <td>0</td>\n",
       "      <td>0</td>\n",
       "      <td>0</td>\n",
       "      <td>0</td>\n",
       "      <td>0</td>\n",
       "      <td>0.0</td>\n",
       "      <td>0.0</td>\n",
       "      <td>0.0</td>\n",
       "      <td>0.0</td>\n",
       "      <td>1.0</td>\n",
       "      <td>0.0</td>\n",
       "      <td>0.0</td>\n",
       "      <td>0.0</td>\n",
       "      <td>0.0</td>\n",
       "      <td>0.0</td>\n",
       "      <td>0.0</td>\n",
       "      <td>0.0</td>\n",
       "      <td>0.0</td>\n",
       "      <td>0.0</td>\n",
       "      <td>1.0</td>\n",
       "      <td>0.0</td>\n",
       "    </tr>\n",
       "    <tr>\n",
       "      <th>6T1oL7ed1wUEqlCR1iCpIR</th>\n",
       "      <td>0.35500</td>\n",
       "      <td>0.364</td>\n",
       "      <td>224387</td>\n",
       "      <td>0.733</td>\n",
       "      <td>0.000007</td>\n",
       "      <td>0.981</td>\n",
       "      <td>-5.071</td>\n",
       "      <td>0.0299</td>\n",
       "      <td>145.394</td>\n",
       "      <td>0.244</td>\n",
       "      <td>0</td>\n",
       "      <td>0</td>\n",
       "      <td>0</td>\n",
       "      <td>0</td>\n",
       "      <td>1</td>\n",
       "      <td>0</td>\n",
       "      <td>0</td>\n",
       "      <td>0</td>\n",
       "      <td>0</td>\n",
       "      <td>0</td>\n",
       "      <td>0</td>\n",
       "      <td>0</td>\n",
       "      <td>0</td>\n",
       "      <td>0</td>\n",
       "      <td>0</td>\n",
       "      <td>0</td>\n",
       "      <td>0</td>\n",
       "      <td>0</td>\n",
       "      <td>0</td>\n",
       "      <td>0</td>\n",
       "      <td>0</td>\n",
       "      <td>0</td>\n",
       "      <td>0</td>\n",
       "      <td>0</td>\n",
       "      <td>0</td>\n",
       "      <td>0</td>\n",
       "      <td>0.0</td>\n",
       "      <td>0.0</td>\n",
       "      <td>0.0</td>\n",
       "      <td>0.0</td>\n",
       "      <td>0.0</td>\n",
       "      <td>0.0</td>\n",
       "      <td>0.0</td>\n",
       "      <td>0.0</td>\n",
       "      <td>0.0</td>\n",
       "      <td>1.0</td>\n",
       "      <td>0.0</td>\n",
       "      <td>0.0</td>\n",
       "      <td>0.0</td>\n",
       "      <td>0.0</td>\n",
       "      <td>1.0</td>\n",
       "      <td>0.0</td>\n",
       "    </tr>\n",
       "    <tr>\n",
       "      <th>5MnEYPkZ5HC7BQ988kBKqp</th>\n",
       "      <td>0.01190</td>\n",
       "      <td>0.478</td>\n",
       "      <td>211800</td>\n",
       "      <td>0.695</td>\n",
       "      <td>0.000000</td>\n",
       "      <td>0.119</td>\n",
       "      <td>-5.923</td>\n",
       "      <td>0.0529</td>\n",
       "      <td>89.801</td>\n",
       "      <td>0.297</td>\n",
       "      <td>0</td>\n",
       "      <td>1</td>\n",
       "      <td>0</td>\n",
       "      <td>0</td>\n",
       "      <td>0</td>\n",
       "      <td>0</td>\n",
       "      <td>0</td>\n",
       "      <td>0</td>\n",
       "      <td>0</td>\n",
       "      <td>0</td>\n",
       "      <td>0</td>\n",
       "      <td>0</td>\n",
       "      <td>0</td>\n",
       "      <td>0</td>\n",
       "      <td>0</td>\n",
       "      <td>0</td>\n",
       "      <td>0</td>\n",
       "      <td>0</td>\n",
       "      <td>0</td>\n",
       "      <td>0</td>\n",
       "      <td>0</td>\n",
       "      <td>0</td>\n",
       "      <td>0</td>\n",
       "      <td>0</td>\n",
       "      <td>0</td>\n",
       "      <td>0</td>\n",
       "      <td>0.0</td>\n",
       "      <td>0.0</td>\n",
       "      <td>0.0</td>\n",
       "      <td>0.0</td>\n",
       "      <td>0.0</td>\n",
       "      <td>0.0</td>\n",
       "      <td>0.0</td>\n",
       "      <td>0.0</td>\n",
       "      <td>1.0</td>\n",
       "      <td>0.0</td>\n",
       "      <td>0.0</td>\n",
       "      <td>1.0</td>\n",
       "      <td>0.0</td>\n",
       "      <td>0.0</td>\n",
       "      <td>1.0</td>\n",
       "      <td>0.0</td>\n",
       "    </tr>\n",
       "  </tbody>\n",
       "</table>\n",
       "</div>"
      ],
      "text/plain": [
       "                        acousticness  danceability  duration_ms  energy  \\\n",
       "track_id                                                                  \n",
       "5H23I3K3TUXQMsLg2FzCiY       0.23100         0.461       326680   0.252   \n",
       "4YnYtYWBmDM8YjfMMK0cqs       0.00571         0.309       201947   0.820   \n",
       "5o5xTG5Mh3JAm2BZv4nOI7       0.01210         0.691       265587   0.834   \n",
       "6T1oL7ed1wUEqlCR1iCpIR       0.35500         0.364       224387   0.733   \n",
       "5MnEYPkZ5HC7BQ988kBKqp       0.01190         0.478       211800   0.695   \n",
       "\n",
       "                        instrumentalness  liveness  loudness  speechiness  \\\n",
       "track_id                                                                    \n",
       "5H23I3K3TUXQMsLg2FzCiY          0.000084     0.106   -17.082       0.2740   \n",
       "4YnYtYWBmDM8YjfMMK0cqs          0.000368     0.159    -4.844       0.0636   \n",
       "5o5xTG5Mh3JAm2BZv4nOI7          0.001480     0.115    -4.378       0.0432   \n",
       "6T1oL7ed1wUEqlCR1iCpIR          0.000007     0.981    -5.071       0.0299   \n",
       "5MnEYPkZ5HC7BQ988kBKqp          0.000000     0.119    -5.923       0.0529   \n",
       "\n",
       "                          tempo  valence  Movie  R&B  A Capella  Alternative  \\\n",
       "track_id                                                                       \n",
       "5H23I3K3TUXQMsLg2FzCiY   74.768    0.481      0    0          0            0   \n",
       "4YnYtYWBmDM8YjfMMK0cqs  174.762    0.399      0    0          0            0   \n",
       "5o5xTG5Mh3JAm2BZv4nOI7  129.982    0.330      0    0          0            0   \n",
       "6T1oL7ed1wUEqlCR1iCpIR  145.394    0.244      0    0          0            0   \n",
       "5MnEYPkZ5HC7BQ988kBKqp   89.801    0.297      0    1          0            0   \n",
       "\n",
       "                        Country  Dance  Electronic  Anime  Folk  Blues  Opera  \\\n",
       "track_id                                                                        \n",
       "5H23I3K3TUXQMsLg2FzCiY        0      0           0      0     0      0      0   \n",
       "4YnYtYWBmDM8YjfMMK0cqs        0      0           0      0     0      0      0   \n",
       "5o5xTG5Mh3JAm2BZv4nOI7        0      0           0      0     0      0      0   \n",
       "6T1oL7ed1wUEqlCR1iCpIR        1      0           0      0     0      0      0   \n",
       "5MnEYPkZ5HC7BQ988kBKqp        0      0           0      0     0      0      0   \n",
       "\n",
       "                        Hip-Hop  Children's Music  Rap  Indie  Classical  Pop  \\\n",
       "track_id                                                                        \n",
       "5H23I3K3TUXQMsLg2FzCiY        0                 0    0      0          0    0   \n",
       "4YnYtYWBmDM8YjfMMK0cqs        0                 0    0      0          0    0   \n",
       "5o5xTG5Mh3JAm2BZv4nOI7        0                 0    0      0          0    0   \n",
       "6T1oL7ed1wUEqlCR1iCpIR        0                 0    0      0          0    0   \n",
       "5MnEYPkZ5HC7BQ988kBKqp        0                 0    0      0          0    0   \n",
       "\n",
       "                        Reggae  Reggaeton  Jazz  Rock  Ska  Comedy  Soul  \\\n",
       "track_id                                                                   \n",
       "5H23I3K3TUXQMsLg2FzCiY       1          0     0     0    0       0     0   \n",
       "4YnYtYWBmDM8YjfMMK0cqs       0          0     0     0    1       0     0   \n",
       "5o5xTG5Mh3JAm2BZv4nOI7       0          1     0     0    0       0     0   \n",
       "6T1oL7ed1wUEqlCR1iCpIR       0          0     0     0    0       0     0   \n",
       "5MnEYPkZ5HC7BQ988kBKqp       0          0     0     0    0       0     0   \n",
       "\n",
       "                        Soundtrack  World  key_A#  key_B  key_C  key_C#  \\\n",
       "track_id                                                                  \n",
       "5H23I3K3TUXQMsLg2FzCiY           0      0     0.0    1.0    0.0     0.0   \n",
       "4YnYtYWBmDM8YjfMMK0cqs           0      0     0.0    0.0    0.0     1.0   \n",
       "5o5xTG5Mh3JAm2BZv4nOI7           0      0     0.0    0.0    0.0     0.0   \n",
       "6T1oL7ed1wUEqlCR1iCpIR           0      0     0.0    0.0    0.0     0.0   \n",
       "5MnEYPkZ5HC7BQ988kBKqp           0      0     0.0    0.0    0.0     0.0   \n",
       "\n",
       "                        key_D  key_D#  key_E  key_F  key_F#  key_G  key_G#  \\\n",
       "track_id                                                                     \n",
       "5H23I3K3TUXQMsLg2FzCiY    0.0     0.0    0.0    0.0     0.0    0.0     0.0   \n",
       "4YnYtYWBmDM8YjfMMK0cqs    0.0     0.0    0.0    0.0     0.0    0.0     0.0   \n",
       "5o5xTG5Mh3JAm2BZv4nOI7    1.0     0.0    0.0    0.0     0.0    0.0     0.0   \n",
       "6T1oL7ed1wUEqlCR1iCpIR    0.0     0.0    0.0    0.0     0.0    1.0     0.0   \n",
       "5MnEYPkZ5HC7BQ988kBKqp    0.0     0.0    0.0    0.0     1.0    0.0     0.0   \n",
       "\n",
       "                        mode_Minor  time_signature_1/4  time_signature_3/4  \\\n",
       "track_id                                                                     \n",
       "5H23I3K3TUXQMsLg2FzCiY         0.0                 0.0                 0.0   \n",
       "4YnYtYWBmDM8YjfMMK0cqs         0.0                 0.0                 0.0   \n",
       "5o5xTG5Mh3JAm2BZv4nOI7         0.0                 0.0                 0.0   \n",
       "6T1oL7ed1wUEqlCR1iCpIR         0.0                 0.0                 0.0   \n",
       "5MnEYPkZ5HC7BQ988kBKqp         1.0                 0.0                 0.0   \n",
       "\n",
       "                        time_signature_4/4  time_signature_5/4  \n",
       "track_id                                                        \n",
       "5H23I3K3TUXQMsLg2FzCiY                 1.0                 0.0  \n",
       "4YnYtYWBmDM8YjfMMK0cqs                 1.0                 0.0  \n",
       "5o5xTG5Mh3JAm2BZv4nOI7                 1.0                 0.0  \n",
       "6T1oL7ed1wUEqlCR1iCpIR                 1.0                 0.0  \n",
       "5MnEYPkZ5HC7BQ988kBKqp                 1.0                 0.0  "
      ]
     },
     "execution_count": 40,
     "metadata": {},
     "output_type": "execute_result"
    }
   ],
   "source": [
    "#merging OHE columns with numerical columns\n",
    "X_train = pd.concat([X_train.drop(cat_cols, axis=1), df_ohe_train], axis=1)\n",
    "X_test = pd.concat([X_test.drop(cat_cols, axis=1), df_ohe_test], axis=1)\n",
    "X_train.tail()"
   ]
  },
  {
   "cell_type": "code",
   "execution_count": 41,
   "metadata": {
    "ExecuteTime": {
     "end_time": "2021-05-31T00:07:28.850281Z",
     "start_time": "2021-05-31T00:07:28.616428Z"
    }
   },
   "outputs": [],
   "source": [
    "#concatenating all parts of our data for future reference (see Data Visualizations section)\n",
    "df_ohe_x = pd.concat([X_train, X_test])\n",
    "df_ohe_y = pd.concat([y_train, y_test])\n",
    "df_ohe = pd.concat([df_ohe_x, df_ohe_y], axis=1)"
   ]
  },
  {
   "cell_type": "markdown",
   "metadata": {},
   "source": [
    "With both the X_train and X_test dataframes scrubbed and one hot encoded we can move onto the modelling process."
   ]
  },
  {
   "cell_type": "markdown",
   "metadata": {},
   "source": [
    "# MODEL"
   ]
  },
  {
   "cell_type": "markdown",
   "metadata": {},
   "source": [
    "The first model we will be generating is a dummy classifier. We will be comparing our models' success to each other but also to this baseline model."
   ]
  },
  {
   "cell_type": "markdown",
   "metadata": {},
   "source": [
    "## Model #1 - Baseline - Dummy Classifier"
   ]
  },
  {
   "cell_type": "code",
   "execution_count": 42,
   "metadata": {
    "ExecuteTime": {
     "end_time": "2021-05-31T00:07:28.882276Z",
     "start_time": "2021-05-31T00:07:28.852279Z"
    }
   },
   "outputs": [
    {
     "name": "stderr",
     "output_type": "stream",
     "text": [
      "C:\\Users\\berke\\anaconda3\\envs\\learn-env\\lib\\site-packages\\sklearn\\dummy.py:131: FutureWarning: The default value of strategy will change from stratified to prior in 0.24.\n",
      "  warnings.warn(\"The default value of strategy will change from \"\n"
     ]
    }
   ],
   "source": [
    "from sklearn.dummy import DummyClassifier\n",
    "\n",
    "clf_dummy = DummyClassifier(random_state=42)\n",
    "clf_dummy.fit(X_train, y_train)\n",
    "y_pred = clf_dummy.predict(X_test)"
   ]
  },
  {
   "cell_type": "markdown",
   "metadata": {},
   "source": [
    "We need a function that will show us the classification report, the confusion matrix as well as the ROC curve to be able to evaluate our models."
   ]
  },
  {
   "cell_type": "code",
   "execution_count": 43,
   "metadata": {
    "ExecuteTime": {
     "end_time": "2021-05-31T00:07:28.898252Z",
     "start_time": "2021-05-31T00:07:28.885260Z"
    }
   },
   "outputs": [],
   "source": [
    "from sklearn.metrics import classification_report, plot_confusion_matrix, plot_roc_curve\n",
    "\n",
    "def classification(y_true, y_pred, X, clf):\n",
    "    \"\"\"This function shows the classification report,\n",
    "    the confusion matrix as well as the ROC curve for evaluation of model quality.\n",
    "    \n",
    "    y_true: Correct y values, typically y_test that comes from the train_test_split performed at the beginning of model development.\n",
    "    y_pred: Predicted y values by the model.\n",
    "    clf: classifier model that was fit to training data.\n",
    "    X: X_test values\"\"\"\n",
    "    \n",
    "    #Classification report\n",
    "    print(\"CLASSIFICATION REPORT\")\n",
    "    print(\"------------------------------------------\")\n",
    "    print(classification_report(y_true=y_true, y_pred=y_pred))\n",
    "    \n",
    "    #Creating a figure/axes for confusion matrix and ROC curve\n",
    "    fig, ax = plt.subplots(ncols=2, figsize=(12, 5))\n",
    "    \n",
    "    #Plotting the normalized confusion matrix\n",
    "    plot_confusion_matrix(estimator=clf, X=X, y_true=y_true, cmap='Blues', normalize='true', ax=ax[0])\n",
    "    \n",
    "    #Plotting the ROC curve\n",
    "    plot_roc_curve(estimator=clf, X=X, y=y_true, ax=ax[1])\n",
    "    \n",
    "    #Plotting the 50-50 guessing plot for reference\n",
    "    ax[1].plot([0,1], [0,1], ls='--', color='orange')"
   ]
  },
  {
   "cell_type": "code",
   "execution_count": 44,
   "metadata": {
    "ExecuteTime": {
     "end_time": "2021-05-31T00:07:29.540866Z",
     "start_time": "2021-05-31T00:07:28.901250Z"
    }
   },
   "outputs": [
    {
     "name": "stdout",
     "output_type": "stream",
     "text": [
      "CLASSIFICATION REPORT\n",
      "------------------------------------------\n",
      "              precision    recall  f1-score   support\n",
      "\n",
      "           0       0.89      0.89      0.89     47002\n",
      "           1       0.11      0.11      0.11      6031\n",
      "\n",
      "    accuracy                           0.80     53033\n",
      "   macro avg       0.50      0.50      0.50     53033\n",
      "weighted avg       0.80      0.80      0.80     53033\n",
      "\n"
     ]
    },
    {
     "data": {
      "image/png": "[encoded data removed]",
      "text/plain": [
       "<Figure size 864x360 with 3 Axes>"
      ]
     },
     "metadata": {
      "needs_background": "light"
     },
     "output_type": "display_data"
    }
   ],
   "source": [
    "classification(y_test, y_pred, X_test, clf_dummy)"
   ]
  },
  {
   "cell_type": "code",
   "execution_count": 45,
   "metadata": {
    "ExecuteTime": {
     "end_time": "2021-05-31T00:07:29.555842Z",
     "start_time": "2021-05-31T00:07:29.542864Z"
    }
   },
   "outputs": [
    {
     "data": {
      "text/plain": [
       "0    0.885503\n",
       "1    0.114497\n",
       "Name: is_popular, dtype: float64"
      ]
     },
     "execution_count": 45,
     "metadata": {},
     "output_type": "execute_result"
    }
   ],
   "source": [
    "#class imbalance percentages\n",
    "y_train.value_counts(normalize=True)"
   ]
  },
  {
   "cell_type": "markdown",
   "metadata": {},
   "source": [
    "Our dummy classifier correctly predicted 89% of the unpopular songs as unpopular; however, it correctly predicted only 11% of the popular songs as popular and instead classified 89% of them as unpopular as well. We clearly have a class imbalance problem where approximately 89% of our data is not popular and only about 11% of it is. To address this we can SMOTE the training data and see if training a model with this method would improve our results."
   ]
  },
  {
   "cell_type": "markdown",
   "metadata": {},
   "source": [
    "## Addressing Class Imbalance with SMOTENC"
   ]
  },
  {
   "cell_type": "code",
   "execution_count": 46,
   "metadata": {
    "ExecuteTime": {
     "end_time": "2021-05-31T00:07:29.586841Z",
     "start_time": "2021-05-31T00:07:29.558855Z"
    }
   },
   "outputs": [
    {
     "data": {
      "text/plain": [
       "Index(['acousticness', 'danceability', 'duration_ms', 'energy',\n",
       "       'instrumentalness', 'liveness', 'loudness', 'speechiness', 'tempo',\n",
       "       'valence', 'Movie', 'R&B', 'A Capella', 'Alternative', 'Country',\n",
       "       'Dance', 'Electronic', 'Anime', 'Folk', 'Blues', 'Opera', 'Hip-Hop',\n",
       "       'Children's Music', 'Rap', 'Indie', 'Classical', 'Pop', 'Reggae',\n",
       "       'Reggaeton', 'Jazz', 'Rock', 'Ska', 'Comedy', 'Soul', 'Soundtrack',\n",
       "       'World', 'key_A#', 'key_B', 'key_C', 'key_C#', 'key_D', 'key_D#',\n",
       "       'key_E', 'key_F', 'key_F#', 'key_G', 'key_G#', 'mode_Minor',\n",
       "       'time_signature_1/4', 'time_signature_3/4', 'time_signature_4/4',\n",
       "       'time_signature_5/4'],\n",
       "      dtype='object')"
      ]
     },
     "execution_count": 46,
     "metadata": {},
     "output_type": "execute_result"
    }
   ],
   "source": [
    "#looking at column names to extract categorical column indices for SMOTENC\n",
    "X_train.columns"
   ]
  },
  {
   "cell_type": "code",
   "execution_count": 47,
   "metadata": {
    "ExecuteTime": {
     "end_time": "2021-05-31T00:07:29.602812Z",
     "start_time": "2021-05-31T00:07:29.589821Z"
    }
   },
   "outputs": [
    {
     "data": {
      "text/plain": [
       "Index(['Movie', 'R&B', 'A Capella', 'Alternative', 'Country', 'Dance',\n",
       "       'Electronic', 'Anime', 'Folk', 'Blues', 'Opera', 'Hip-Hop',\n",
       "       'Children's Music', 'Rap', 'Indie', 'Classical', 'Pop', 'Reggae',\n",
       "       'Reggaeton', 'Jazz', 'Rock', 'Ska', 'Comedy', 'Soul', 'Soundtrack',\n",
       "       'World', 'key_A#', 'key_B', 'key_C', 'key_C#', 'key_D', 'key_D#',\n",
       "       'key_E', 'key_F', 'key_F#', 'key_G', 'key_G#', 'mode_Minor',\n",
       "       'time_signature_1/4', 'time_signature_3/4', 'time_signature_4/4',\n",
       "       'time_signature_5/4'],\n",
       "      dtype='object')"
      ]
     },
     "execution_count": 47,
     "metadata": {},
     "output_type": "execute_result"
    }
   ],
   "source": [
    "#creating a list of categorical column indices\n",
    "cat_cols = list(range(10, len(X_train.columns)))\n",
    "X_train.columns[cat_cols]"
   ]
  },
  {
   "cell_type": "code",
   "execution_count": 48,
   "metadata": {
    "ExecuteTime": {
     "end_time": "2021-05-31T00:09:35.753274Z",
     "start_time": "2021-05-31T00:07:29.604811Z"
    }
   },
   "outputs": [
    {
     "data": {
      "text/plain": [
       "1    0.5\n",
       "0    0.5\n",
       "Name: is_popular, dtype: float64"
      ]
     },
     "execution_count": 48,
     "metadata": {},
     "output_type": "execute_result"
    }
   ],
   "source": [
    "#Using SMOTENC to address class imbalance. We are not using SMOTE since we have categorical columns.\n",
    "from imblearn.over_sampling import SMOTE, SMOTENC\n",
    "\n",
    "sm = SMOTENC(categorical_features=cat_cols, random_state=42)\n",
    "\n",
    "X_train_sm, y_train_sm = sm.fit_resample(X_train, y_train)\n",
    "y_train_sm.value_counts(normalize=True)"
   ]
  },
  {
   "cell_type": "markdown",
   "metadata": {},
   "source": [
    "Now that we addressed our class imbalance problem, we can look at the performance of the dummy classifier model once again to use as our baseline."
   ]
  },
  {
   "cell_type": "code",
   "execution_count": 49,
   "metadata": {
    "ExecuteTime": {
     "end_time": "2021-05-31T00:09:36.383877Z",
     "start_time": "2021-05-31T00:09:35.755255Z"
    }
   },
   "outputs": [
    {
     "name": "stderr",
     "output_type": "stream",
     "text": [
      "C:\\Users\\berke\\anaconda3\\envs\\learn-env\\lib\\site-packages\\sklearn\\dummy.py:131: FutureWarning: The default value of strategy will change from stratified to prior in 0.24.\n",
      "  warnings.warn(\"The default value of strategy will change from \"\n"
     ]
    },
    {
     "name": "stdout",
     "output_type": "stream",
     "text": [
      "CLASSIFICATION REPORT\n",
      "------------------------------------------\n",
      "              precision    recall  f1-score   support\n",
      "\n",
      "           0       0.89      0.50      0.64     47002\n",
      "           1       0.12      0.51      0.19      6031\n",
      "\n",
      "    accuracy                           0.50     53033\n",
      "   macro avg       0.50      0.51      0.42     53033\n",
      "weighted avg       0.80      0.50      0.59     53033\n",
      "\n"
     ]
    },
    {
     "data": {
      "image/png": "[encoded data removed]",
      "text/plain": [
       "<Figure size 864x360 with 3 Axes>"
      ]
     },
     "metadata": {
      "needs_background": "light"
     },
     "output_type": "display_data"
    }
   ],
   "source": [
    "#fitting Dummy Classifier to data without the class imbalance problem to serve as a true baseline\n",
    "clf_dummy_sm = DummyClassifier(random_state=42)\n",
    "clf_dummy_sm.fit(X_train_sm, y_train_sm)\n",
    "y_pred = clf_dummy_sm.predict(X_test)\n",
    "classification(y_test, y_pred, X_test, clf_dummy_sm)"
   ]
  },
  {
   "cell_type": "markdown",
   "metadata": {},
   "source": [
    "We see here that the dummy classifier is essentially flipping a coin and guessing whether a song is popular or not which is not very useful. However, this serves as a great baseline for our other models to be evaluated against. We can now initialize a results dataframe and keep track of the recall scores of our models for comparison later."
   ]
  },
  {
   "cell_type": "code",
   "execution_count": 50,
   "metadata": {
    "ExecuteTime": {
     "end_time": "2021-05-31T00:09:36.398853Z",
     "start_time": "2021-05-31T00:09:36.385861Z"
    }
   },
   "outputs": [],
   "source": [
    "from sklearn.metrics import recall_score\n",
    "\n",
    "df_results = pd.DataFrame(columns=['Model Name', 'Recall Score'])\n",
    "\n",
    "def add_results(model_name, df):\n",
    "    df = df.append({'Model Name': model_name, \n",
    "                                    'Recall Score': round(recall_score(y_test, y_pred),2)}, \n",
    "                                   ignore_index=True)\n",
    "    return df"
   ]
  },
  {
   "cell_type": "code",
   "execution_count": 51,
   "metadata": {
    "ExecuteTime": {
     "end_time": "2021-05-31T00:09:36.446838Z",
     "start_time": "2021-05-31T00:09:36.402850Z"
    }
   },
   "outputs": [
    {
     "data": {
      "text/html": [
       "<div>\n",
       "<style scoped>\n",
       "    .dataframe tbody tr th:only-of-type {\n",
       "        vertical-align: middle;\n",
       "    }\n",
       "\n",
       "    .dataframe tbody tr th {\n",
       "        vertical-align: top;\n",
       "    }\n",
       "\n",
       "    .dataframe thead th {\n",
       "        text-align: right;\n",
       "    }\n",
       "</style>\n",
       "<table border=\"1\" class=\"dataframe\">\n",
       "  <thead>\n",
       "    <tr style=\"text-align: right;\">\n",
       "      <th></th>\n",
       "      <th>Model Name</th>\n",
       "      <th>Recall Score</th>\n",
       "    </tr>\n",
       "  </thead>\n",
       "  <tbody>\n",
       "    <tr>\n",
       "      <th>0</th>\n",
       "      <td>Dummy Classifier</td>\n",
       "      <td>0.51</td>\n",
       "    </tr>\n",
       "  </tbody>\n",
       "</table>\n",
       "</div>"
      ],
      "text/plain": [
       "         Model Name  Recall Score\n",
       "0  Dummy Classifier          0.51"
      ]
     },
     "execution_count": 51,
     "metadata": {},
     "output_type": "execute_result"
    }
   ],
   "source": [
    "df_results = add_results('Dummy Classifier', df_results)\n",
    "df_results.head()"
   ]
  },
  {
   "cell_type": "markdown",
   "metadata": {},
   "source": [
    "## Model #2 - Random Forest Classifier"
   ]
  },
  {
   "cell_type": "markdown",
   "metadata": {},
   "source": [
    "The first model we will be developing is the Random Forest classifier. "
   ]
  },
  {
   "cell_type": "markdown",
   "metadata": {},
   "source": [
    "### Initial Model"
   ]
  },
  {
   "cell_type": "code",
   "execution_count": 52,
   "metadata": {
    "ExecuteTime": {
     "end_time": "2021-05-31T00:11:19.285783Z",
     "start_time": "2021-05-31T00:09:36.448823Z"
    },
    "scrolled": false
   },
   "outputs": [
    {
     "name": "stdout",
     "output_type": "stream",
     "text": [
      "CLASSIFICATION REPORT\n",
      "------------------------------------------\n",
      "              precision    recall  f1-score   support\n",
      "\n",
      "           0       0.95      0.98      0.96     47002\n",
      "           1       0.75      0.59      0.66      6031\n",
      "\n",
      "    accuracy                           0.93     53033\n",
      "   macro avg       0.85      0.78      0.81     53033\n",
      "weighted avg       0.93      0.93      0.93     53033\n",
      "\n"
     ]
    },
    {
     "data": {
      "image/png": "[encoded data removed]",
      "text/plain": [
       "<Figure size 864x360 with 3 Axes>"
      ]
     },
     "metadata": {
      "needs_background": "light"
     },
     "output_type": "display_data"
    }
   ],
   "source": [
    "#Fitting RF Classifier to SMOTE'd data\n",
    "from sklearn.ensemble import RandomForestClassifier\n",
    "\n",
    "clf_rf = RandomForestClassifier(random_state=42)\n",
    "clf_rf.fit(X_train_sm, y_train_sm)\n",
    "\n",
    "#Making predictions and evaluation.\n",
    "y_pred = clf_rf.predict(X_test)\n",
    "classification(y_test, y_pred, X_test, clf_rf)"
   ]
  },
  {
   "cell_type": "markdown",
   "metadata": {},
   "source": [
    "Our Random Forest model performs 48% better than the baseline classifier in predicting unpopular songs correctly and 8% better in predicting popular songs. The model may be overfitting, so to confirm we will look at the performance of the model with the training data."
   ]
  },
  {
   "cell_type": "code",
   "execution_count": 53,
   "metadata": {
    "ExecuteTime": {
     "end_time": "2021-05-31T00:11:41.913705Z",
     "start_time": "2021-05-31T00:11:19.287800Z"
    }
   },
   "outputs": [
    {
     "name": "stdout",
     "output_type": "stream",
     "text": [
      "CLASSIFICATION REPORT\n",
      "------------------------------------------\n",
      "              precision    recall  f1-score   support\n",
      "\n",
      "           0       1.00      1.00      1.00    109573\n",
      "           1       1.00      1.00      1.00    109573\n",
      "\n",
      "    accuracy                           1.00    219146\n",
      "   macro avg       1.00      1.00      1.00    219146\n",
      "weighted avg       1.00      1.00      1.00    219146\n",
      "\n"
     ]
    },
    {
     "data": {
      "image/png": "[encoded data removed]",
      "text/plain": [
       "<Figure size 864x360 with 3 Axes>"
      ]
     },
     "metadata": {
      "needs_background": "light"
     },
     "output_type": "display_data"
    }
   ],
   "source": [
    "#Evaluating the model performance for the training data\n",
    "y_pred = clf_rf.predict(X_train_sm)\n",
    "classification(y_train_sm, y_pred, X_train_sm, clf_rf)"
   ]
  },
  {
   "cell_type": "markdown",
   "metadata": {},
   "source": [
    "Our model is performing perfectly on the training data but not so much on the test data since it is overfitting to the training set. We need to tune our model to get more accurate results on unseen data. We will be using a grid search to optimize for the recall score. We are optimizing recall instead of other scores since we primarily care about correctly identifying a song that will be popular and we don't mind it if we pick a few songs that don't end up becoming popular."
   ]
  },
  {
   "cell_type": "markdown",
   "metadata": {},
   "source": [
    "### Hyperparameter Tuning"
   ]
  },
  {
   "cell_type": "code",
   "execution_count": 54,
   "metadata": {
    "ExecuteTime": {
     "end_time": "2021-05-31T00:11:41.929680Z",
     "start_time": "2021-05-31T00:11:41.915690Z"
    }
   },
   "outputs": [],
   "source": [
    "# from sklearn.model_selection import GridSearchCV\n",
    "\n",
    "# clf = RandomForestClassifier()\n",
    "# grid = {'criterion': ['gini', 'entropy'], \n",
    "#         'max_depth': [10, 20, None],\n",
    "#         'min_samples_leaf': [1, 2, 3]\n",
    "#        }\n",
    "\n",
    "# gridsearch = GridSearchCV(estimator=clf, param_grid = grid, scoring='recall')\n",
    "\n",
    "# gridsearch.fit(X_train_sm,  y_train_sm)\n",
    "# gridsearch.best_params_\n",
    "# #Results: {'criterion': 'entropy', 'max_depth': None, 'min_samples_leaf': 2}"
   ]
  },
  {
   "cell_type": "code",
   "execution_count": 55,
   "metadata": {
    "ExecuteTime": {
     "end_time": "2021-05-31T00:13:35.033262Z",
     "start_time": "2021-05-31T00:11:41.931679Z"
    }
   },
   "outputs": [
    {
     "name": "stdout",
     "output_type": "stream",
     "text": [
      "CLASSIFICATION REPORT\n",
      "------------------------------------------\n",
      "              precision    recall  f1-score   support\n",
      "\n",
      "           0       0.95      0.97      0.96     47002\n",
      "           1       0.75      0.60      0.66      6031\n",
      "\n",
      "    accuracy                           0.93     53033\n",
      "   macro avg       0.85      0.79      0.81     53033\n",
      "weighted avg       0.93      0.93      0.93     53033\n",
      "\n"
     ]
    },
    {
     "data": {
      "image/png": "[encoded data removed]",
      "text/plain": [
       "<Figure size 864x360 with 3 Axes>"
      ]
     },
     "metadata": {
      "needs_background": "light"
     },
     "output_type": "display_data"
    }
   ],
   "source": [
    "clf_rf_tuned = RandomForestClassifier(criterion='entropy', max_depth=None, \n",
    "                                      min_samples_leaf=2, class_weight='balanced', \n",
    "                                      random_state=42)\n",
    "clf_rf_tuned.fit(X_train_sm, y_train_sm)\n",
    "\n",
    "y_pred = clf_rf_tuned.predict(X_test)\n",
    "classification(y_test, y_pred, X_test, clf_rf_tuned)"
   ]
  },
  {
   "cell_type": "markdown",
   "metadata": {},
   "source": [
    "Tuning the hyperparameters of our model improved the recall score for predicting popular songs by 1%. We can proceed with trying additional types of models to see if the recall score improves."
   ]
  },
  {
   "cell_type": "code",
   "execution_count": 56,
   "metadata": {
    "ExecuteTime": {
     "end_time": "2021-05-31T00:13:35.064242Z",
     "start_time": "2021-05-31T00:13:35.035261Z"
    }
   },
   "outputs": [
    {
     "data": {
      "text/html": [
       "<div>\n",
       "<style scoped>\n",
       "    .dataframe tbody tr th:only-of-type {\n",
       "        vertical-align: middle;\n",
       "    }\n",
       "\n",
       "    .dataframe tbody tr th {\n",
       "        vertical-align: top;\n",
       "    }\n",
       "\n",
       "    .dataframe thead th {\n",
       "        text-align: right;\n",
       "    }\n",
       "</style>\n",
       "<table border=\"1\" class=\"dataframe\">\n",
       "  <thead>\n",
       "    <tr style=\"text-align: right;\">\n",
       "      <th></th>\n",
       "      <th>Model Name</th>\n",
       "      <th>Recall Score</th>\n",
       "    </tr>\n",
       "  </thead>\n",
       "  <tbody>\n",
       "    <tr>\n",
       "      <th>0</th>\n",
       "      <td>Dummy Classifier</td>\n",
       "      <td>0.51</td>\n",
       "    </tr>\n",
       "    <tr>\n",
       "      <th>1</th>\n",
       "      <td>Random Forest</td>\n",
       "      <td>0.60</td>\n",
       "    </tr>\n",
       "  </tbody>\n",
       "</table>\n",
       "</div>"
      ],
      "text/plain": [
       "         Model Name  Recall Score\n",
       "0  Dummy Classifier          0.51\n",
       "1     Random Forest          0.60"
      ]
     },
     "execution_count": 56,
     "metadata": {},
     "output_type": "execute_result"
    }
   ],
   "source": [
    "#appending the recall score to the results dataframe\n",
    "df_results = add_results('Random Forest', df_results)\n",
    "df_results.head()"
   ]
  },
  {
   "cell_type": "markdown",
   "metadata": {},
   "source": [
    "## Model #3 - XGBoost"
   ]
  },
  {
   "cell_type": "markdown",
   "metadata": {},
   "source": [
    "### Initial Model"
   ]
  },
  {
   "cell_type": "code",
   "execution_count": 57,
   "metadata": {
    "ExecuteTime": {
     "end_time": "2021-05-31T00:13:52.745391Z",
     "start_time": "2021-05-31T00:13:35.066227Z"
    }
   },
   "outputs": [
    {
     "name": "stdout",
     "output_type": "stream",
     "text": [
      "CLASSIFICATION REPORT\n",
      "------------------------------------------\n",
      "              precision    recall  f1-score   support\n",
      "\n",
      "           0       0.95      0.96      0.96     47002\n",
      "           1       0.67      0.64      0.66      6031\n",
      "\n",
      "    accuracy                           0.92     53033\n",
      "   macro avg       0.81      0.80      0.81     53033\n",
      "weighted avg       0.92      0.92      0.92     53033\n",
      "\n"
     ]
    },
    {
     "data": {
      "image/png": "[encoded data removed]",
      "text/plain": [
       "<Figure size 864x360 with 3 Axes>"
      ]
     },
     "metadata": {
      "needs_background": "light"
     },
     "output_type": "display_data"
    }
   ],
   "source": [
    "#Fitting XGBoost classifier to training data and evaluating results\n",
    "from xgboost import XGBClassifier\n",
    "\n",
    "clf_xgb = XGBClassifier(random_state=42)\n",
    "clf_xgb.fit(X_train_sm, y_train_sm)\n",
    "y_pred = clf_xgb.predict(X_test)\n",
    "classification(y_test, y_pred, X_test, clf_xgb)"
   ]
  },
  {
   "cell_type": "markdown",
   "metadata": {},
   "source": [
    "The XGBoost model performed 13% better than the baseline model and 4% better than the random forest model in predicting popular songs right out of the box. We can see how it performs on the training data to see whether it is overfitting and try to tune it if it is."
   ]
  },
  {
   "cell_type": "code",
   "execution_count": 58,
   "metadata": {
    "ExecuteTime": {
     "end_time": "2021-05-31T00:13:55.402730Z",
     "start_time": "2021-05-31T00:13:52.747384Z"
    }
   },
   "outputs": [
    {
     "name": "stdout",
     "output_type": "stream",
     "text": [
      "CLASSIFICATION REPORT\n",
      "------------------------------------------\n",
      "              precision    recall  f1-score   support\n",
      "\n",
      "           0       0.96      0.97      0.96    109573\n",
      "           1       0.97      0.96      0.96    109573\n",
      "\n",
      "    accuracy                           0.96    219146\n",
      "   macro avg       0.96      0.96      0.96    219146\n",
      "weighted avg       0.96      0.96      0.96    219146\n",
      "\n"
     ]
    },
    {
     "data": {
      "image/png": "[encoded data removed]",
      "text/plain": [
       "<Figure size 864x360 with 3 Axes>"
      ]
     },
     "metadata": {
      "needs_background": "light"
     },
     "output_type": "display_data"
    }
   ],
   "source": [
    "#Evaluating the model performance for the training data\n",
    "y_pred = clf_xgb.predict(X_train_sm)\n",
    "classification(y_train_sm, y_pred, X_train_sm, clf_xgb)"
   ]
  },
  {
   "cell_type": "markdown",
   "metadata": {},
   "source": [
    "Once again, we see here that our model is overfitting the training data. We can run another gridsearch and tune our model to see if the recall score can be improved."
   ]
  },
  {
   "cell_type": "markdown",
   "metadata": {},
   "source": [
    "### Hyperparameter Tuning"
   ]
  },
  {
   "cell_type": "code",
   "execution_count": 59,
   "metadata": {
    "ExecuteTime": {
     "end_time": "2021-05-31T00:13:55.418726Z",
     "start_time": "2021-05-31T00:13:55.404730Z"
    }
   },
   "outputs": [],
   "source": [
    "# grid = {\n",
    "#     'learning_rate': [0.01, 0.1, 0.2],\n",
    "#     'max_depth': [10, 20, None]\n",
    "#         }\n",
    "# gridsearch = GridSearchCV(estimator=clf_xgb, param_grid = grid, scoring='recall', n_jobs=-1, verbose=2)\n",
    "\n",
    "# gridsearch.fit(X_train_sm,  y_train_sm)\n",
    "# gridsearch.best_params_\n",
    "# # Results: {'learning_rate': 0.1, 'max_depth': 10}"
   ]
  },
  {
   "cell_type": "code",
   "execution_count": 60,
   "metadata": {
    "ExecuteTime": {
     "end_time": "2021-05-31T00:14:23.655123Z",
     "start_time": "2021-05-31T00:13:55.420720Z"
    }
   },
   "outputs": [
    {
     "name": "stdout",
     "output_type": "stream",
     "text": [
      "CLASSIFICATION REPORT\n",
      "------------------------------------------\n",
      "              precision    recall  f1-score   support\n",
      "\n",
      "           0       0.96      0.96      0.96     47002\n",
      "           1       0.66      0.65      0.66      6031\n",
      "\n",
      "    accuracy                           0.92     53033\n",
      "   macro avg       0.81      0.80      0.81     53033\n",
      "weighted avg       0.92      0.92      0.92     53033\n",
      "\n"
     ]
    },
    {
     "data": {
      "image/png": "[encoded data removed]",
      "text/plain": [
       "<Figure size 864x360 with 3 Axes>"
      ]
     },
     "metadata": {
      "needs_background": "light"
     },
     "output_type": "display_data"
    }
   ],
   "source": [
    "clf_xgb_tuned = XGBClassifier(learning_rate=0.1, max_depth=10, \n",
    "                              random_state=42)\n",
    "clf_xgb_tuned.fit(X_train_sm, y_train_sm)\n",
    "y_pred = clf_xgb_tuned.predict(X_test)\n",
    "classification(y_test, y_pred, X_test, clf_xgb_tuned)"
   ]
  },
  {
   "cell_type": "markdown",
   "metadata": {},
   "source": [
    "Tuning our model has led to an increase of performance in our recall score by 1%, so we are performing 14% better compared to our baseline Dummy Classifier model and 5% better than our tuned Random Forest model. Next we will try a logistic regression model."
   ]
  },
  {
   "cell_type": "code",
   "execution_count": 61,
   "metadata": {
    "ExecuteTime": {
     "end_time": "2021-05-31T00:14:23.685104Z",
     "start_time": "2021-05-31T00:14:23.657126Z"
    }
   },
   "outputs": [
    {
     "data": {
      "text/html": [
       "<div>\n",
       "<style scoped>\n",
       "    .dataframe tbody tr th:only-of-type {\n",
       "        vertical-align: middle;\n",
       "    }\n",
       "\n",
       "    .dataframe tbody tr th {\n",
       "        vertical-align: top;\n",
       "    }\n",
       "\n",
       "    .dataframe thead th {\n",
       "        text-align: right;\n",
       "    }\n",
       "</style>\n",
       "<table border=\"1\" class=\"dataframe\">\n",
       "  <thead>\n",
       "    <tr style=\"text-align: right;\">\n",
       "      <th></th>\n",
       "      <th>Model Name</th>\n",
       "      <th>Recall Score</th>\n",
       "    </tr>\n",
       "  </thead>\n",
       "  <tbody>\n",
       "    <tr>\n",
       "      <th>0</th>\n",
       "      <td>Dummy Classifier</td>\n",
       "      <td>0.51</td>\n",
       "    </tr>\n",
       "    <tr>\n",
       "      <th>1</th>\n",
       "      <td>Random Forest</td>\n",
       "      <td>0.60</td>\n",
       "    </tr>\n",
       "    <tr>\n",
       "      <th>2</th>\n",
       "      <td>XGBoost</td>\n",
       "      <td>0.65</td>\n",
       "    </tr>\n",
       "  </tbody>\n",
       "</table>\n",
       "</div>"
      ],
      "text/plain": [
       "         Model Name  Recall Score\n",
       "0  Dummy Classifier          0.51\n",
       "1     Random Forest          0.60\n",
       "2           XGBoost          0.65"
      ]
     },
     "execution_count": 61,
     "metadata": {},
     "output_type": "execute_result"
    }
   ],
   "source": [
    "#appending the recall score to the results dataframe\n",
    "df_results = add_results('XGBoost', df_results)\n",
    "df_results.head()"
   ]
  },
  {
   "cell_type": "markdown",
   "metadata": {},
   "source": [
    "## Model #4 - LogisticRegressionCV"
   ]
  },
  {
   "cell_type": "markdown",
   "metadata": {},
   "source": [
    "Since the Logistic Regression models are potentially sensitive to outliers and need scaled data we will need to process our data one more time to remove outliers and scale it."
   ]
  },
  {
   "cell_type": "markdown",
   "metadata": {},
   "source": [
    "### Removing Outliers"
   ]
  },
  {
   "cell_type": "code",
   "execution_count": 62,
   "metadata": {
    "ExecuteTime": {
     "end_time": "2021-05-31T00:14:23.701109Z",
     "start_time": "2021-05-31T00:14:23.687103Z"
    }
   },
   "outputs": [
    {
     "data": {
      "text/plain": [
       "['acousticness',\n",
       " 'danceability',\n",
       " 'duration_ms',\n",
       " 'energy',\n",
       " 'instrumentalness',\n",
       " 'liveness',\n",
       " 'loudness',\n",
       " 'speechiness',\n",
       " 'tempo',\n",
       " 'valence']"
      ]
     },
     "execution_count": 62,
     "metadata": {},
     "output_type": "execute_result"
    }
   ],
   "source": [
    "#separating out the numerical columns for outlier removal\n",
    "num_cols = ['acousticness', 'danceability', 'duration_ms', 'energy', 'instrumentalness', \n",
    "            'liveness', 'loudness', 'speechiness', 'tempo', 'valence']\n",
    "num_cols"
   ]
  },
  {
   "cell_type": "code",
   "execution_count": 63,
   "metadata": {
    "ExecuteTime": {
     "end_time": "2021-05-31T00:14:23.812045Z",
     "start_time": "2021-05-31T00:14:23.703104Z"
    }
   },
   "outputs": [],
   "source": [
    "#Concatenating the training and testing sets together for outlier removal\n",
    "df_train = pd.concat([X_train, y_train], axis=1)\n",
    "df_test = pd.concat([X_test, y_test], axis=1)"
   ]
  },
  {
   "cell_type": "code",
   "execution_count": 64,
   "metadata": {
    "ExecuteTime": {
     "end_time": "2021-05-31T00:14:24.407690Z",
     "start_time": "2021-05-31T00:14:23.814039Z"
    }
   },
   "outputs": [
    {
     "name": "stdout",
     "output_type": "stream",
     "text": [
      "55567 outliers removed from training set\n",
      "23796 outliers removed from test set\n"
     ]
    }
   ],
   "source": [
    "#finding and removing outliers based on X_train (df_train) to avoid data leakage\n",
    "\n",
    "original_length_train = len(df_train)\n",
    "original_length_test = len(df_test)\n",
    "\n",
    "for col in num_cols:\n",
    "   \n",
    "    lower_limit, upper_limit = find_outliers_IQR(df_train[col], return_limits=True)\n",
    "    \n",
    "    df_train = df_train[(df_train[col]>lower_limit) & (df_train[col]<upper_limit)]\n",
    "    df_test = df_test[(df_test[col]>lower_limit) & (df_test[col]<upper_limit)]\n",
    "\n",
    "print(f'{original_length_train - len(df_train)} outliers removed from training set')\n",
    "print(f'{original_length_test - len(df_test)} outliers removed from test set')"
   ]
  },
  {
   "cell_type": "code",
   "execution_count": 65,
   "metadata": {
    "ExecuteTime": {
     "end_time": "2021-05-31T00:14:24.438687Z",
     "start_time": "2021-05-31T00:14:24.409689Z"
    }
   },
   "outputs": [],
   "source": [
    "#Separating out the X and y values for training and test sets\n",
    "\n",
    "y_train = df_train['is_popular']\n",
    "X_train = df_train.drop('is_popular', axis=1)\n",
    "\n",
    "y_test = df_test['is_popular']\n",
    "X_test = df_test.drop('is_popular', axis=1)"
   ]
  },
  {
   "cell_type": "markdown",
   "metadata": {},
   "source": [
    "### Addressing Class Imbalance with SMOTENC"
   ]
  },
  {
   "cell_type": "code",
   "execution_count": 66,
   "metadata": {
    "ExecuteTime": {
     "end_time": "2021-05-31T00:14:24.469653Z",
     "start_time": "2021-05-31T00:14:24.440670Z"
    }
   },
   "outputs": [
    {
     "data": {
      "text/plain": [
       "0    0.842345\n",
       "1    0.157655\n",
       "Name: is_popular, dtype: float64"
      ]
     },
     "execution_count": 66,
     "metadata": {},
     "output_type": "execute_result"
    }
   ],
   "source": [
    "y_train.value_counts(normalize=True)"
   ]
  },
  {
   "cell_type": "markdown",
   "metadata": {},
   "source": [
    "Once again our data has a class imbalance issue so we will be using SMOTENC to address this."
   ]
  },
  {
   "cell_type": "code",
   "execution_count": 67,
   "metadata": {
    "ExecuteTime": {
     "end_time": "2021-05-31T00:14:24.484642Z",
     "start_time": "2021-05-31T00:14:24.471651Z"
    }
   },
   "outputs": [
    {
     "data": {
      "text/plain": [
       "Index(['acousticness', 'danceability', 'duration_ms', 'energy',\n",
       "       'instrumentalness', 'liveness', 'loudness', 'speechiness', 'tempo',\n",
       "       'valence', 'Movie', 'R&B', 'A Capella', 'Alternative', 'Country',\n",
       "       'Dance', 'Electronic', 'Anime', 'Folk', 'Blues', 'Opera', 'Hip-Hop',\n",
       "       'Children's Music', 'Rap', 'Indie', 'Classical', 'Pop', 'Reggae',\n",
       "       'Reggaeton', 'Jazz', 'Rock', 'Ska', 'Comedy', 'Soul', 'Soundtrack',\n",
       "       'World', 'key_A#', 'key_B', 'key_C', 'key_C#', 'key_D', 'key_D#',\n",
       "       'key_E', 'key_F', 'key_F#', 'key_G', 'key_G#', 'mode_Minor',\n",
       "       'time_signature_1/4', 'time_signature_3/4', 'time_signature_4/4',\n",
       "       'time_signature_5/4'],\n",
       "      dtype='object')"
      ]
     },
     "execution_count": 67,
     "metadata": {},
     "output_type": "execute_result"
    }
   ],
   "source": [
    "X_train.columns"
   ]
  },
  {
   "cell_type": "code",
   "execution_count": 68,
   "metadata": {
    "ExecuteTime": {
     "end_time": "2021-05-31T00:14:24.515623Z",
     "start_time": "2021-05-31T00:14:24.495635Z"
    }
   },
   "outputs": [
    {
     "data": {
      "text/plain": [
       "[10,\n",
       " 11,\n",
       " 12,\n",
       " 13,\n",
       " 14,\n",
       " 15,\n",
       " 16,\n",
       " 17,\n",
       " 18,\n",
       " 19,\n",
       " 20,\n",
       " 21,\n",
       " 22,\n",
       " 23,\n",
       " 24,\n",
       " 25,\n",
       " 26,\n",
       " 27,\n",
       " 28,\n",
       " 29,\n",
       " 30,\n",
       " 31,\n",
       " 32,\n",
       " 33,\n",
       " 34,\n",
       " 35,\n",
       " 36,\n",
       " 37,\n",
       " 38,\n",
       " 39,\n",
       " 40,\n",
       " 41,\n",
       " 42,\n",
       " 43,\n",
       " 44,\n",
       " 45,\n",
       " 46,\n",
       " 47,\n",
       " 48,\n",
       " 49,\n",
       " 50,\n",
       " 51]"
      ]
     },
     "execution_count": 68,
     "metadata": {},
     "output_type": "execute_result"
    }
   ],
   "source": [
    "cat_cols = list(range(10,len(X_train.columns)))\n",
    "cat_cols"
   ]
  },
  {
   "cell_type": "code",
   "execution_count": 69,
   "metadata": {
    "ExecuteTime": {
     "end_time": "2021-05-31T00:15:25.212826Z",
     "start_time": "2021-05-31T00:14:24.518621Z"
    }
   },
   "outputs": [
    {
     "data": {
      "text/plain": [
       "1    0.5\n",
       "0    0.5\n",
       "Name: is_popular, dtype: float64"
      ]
     },
     "execution_count": 69,
     "metadata": {},
     "output_type": "execute_result"
    }
   ],
   "source": [
    "sm = SMOTENC(categorical_features=cat_cols, random_state=42)\n",
    "\n",
    "X_train_sm, y_train_sm = sm.fit_resample(X_train, y_train)\n",
    "y_train_sm.value_counts(normalize=True)"
   ]
  },
  {
   "cell_type": "markdown",
   "metadata": {},
   "source": [
    "### Scaling the Data"
   ]
  },
  {
   "cell_type": "code",
   "execution_count": 70,
   "metadata": {
    "ExecuteTime": {
     "end_time": "2021-05-31T00:15:25.434686Z",
     "start_time": "2021-05-31T00:15:25.214825Z"
    }
   },
   "outputs": [],
   "source": [
    "#Using Standard Scaler to scale the smote'd data\n",
    "from sklearn.preprocessing import StandardScaler\n",
    "\n",
    "scaler = StandardScaler()\n",
    "\n",
    "X_train_sm_sc = scaler.fit_transform(X_train_sm)\n",
    "X_test_sc = scaler.transform(X_test)"
   ]
  },
  {
   "cell_type": "code",
   "execution_count": 71,
   "metadata": {
    "ExecuteTime": {
     "end_time": "2021-05-31T00:15:46.186778Z",
     "start_time": "2021-05-31T00:15:25.436686Z"
    }
   },
   "outputs": [
    {
     "name": "stdout",
     "output_type": "stream",
     "text": [
      "CLASSIFICATION REPORT\n",
      "------------------------------------------\n",
      "              precision    recall  f1-score   support\n",
      "\n",
      "           0       0.93      0.92      0.93     24588\n",
      "           1       0.61      0.66      0.63      4649\n",
      "\n",
      "    accuracy                           0.88     29237\n",
      "   macro avg       0.77      0.79      0.78     29237\n",
      "weighted avg       0.88      0.88      0.88     29237\n",
      "\n"
     ]
    },
    {
     "data": {
      "image/png": "[encoded data removed]",
      "text/plain": [
       "<Figure size 864x360 with 3 Axes>"
      ]
     },
     "metadata": {
      "needs_background": "light"
     },
     "output_type": "display_data"
    }
   ],
   "source": [
    "from sklearn.linear_model import LogisticRegressionCV\n",
    "clf_logregcv = LogisticRegressionCV(cv=5, random_state=42)\n",
    "clf_logregcv.fit(X_train_sm_sc,  y_train_sm)\n",
    "y_pred = clf_logregcv.predict(X_test_sc)\n",
    "classification(y_test, y_pred, X_test_sc, clf_logregcv)"
   ]
  },
  {
   "cell_type": "markdown",
   "metadata": {},
   "source": [
    "The logistic regression model has 1% better performance compared to our tuned XGBoost model for predicting popular songs while the recall score for predicting unpopular songs is 4% lower. Once again, we will check to see if the model is overfitting and tune the model if it is."
   ]
  },
  {
   "cell_type": "code",
   "execution_count": 72,
   "metadata": {
    "ExecuteTime": {
     "end_time": "2021-05-31T00:15:46.859364Z",
     "start_time": "2021-05-31T00:15:46.188764Z"
    }
   },
   "outputs": [
    {
     "name": "stdout",
     "output_type": "stream",
     "text": [
      "CLASSIFICATION REPORT\n",
      "------------------------------------------\n",
      "              precision    recall  f1-score   support\n",
      "\n",
      "           0       0.91      0.92      0.92     57426\n",
      "           1       0.92      0.91      0.92     57426\n",
      "\n",
      "    accuracy                           0.92    114852\n",
      "   macro avg       0.92      0.92      0.92    114852\n",
      "weighted avg       0.92      0.92      0.92    114852\n",
      "\n"
     ]
    },
    {
     "data": {
      "image/png": "[encoded data removed]",
      "text/plain": [
       "<Figure size 864x360 with 3 Axes>"
      ]
     },
     "metadata": {
      "needs_background": "light"
     },
     "output_type": "display_data"
    }
   ],
   "source": [
    "#Evaluating the model performance for the training data\n",
    "y_pred = clf_logregcv.predict(X_train_sm_sc)\n",
    "classification(y_train_sm, y_pred, X_train_sm_sc, clf_logregcv)"
   ]
  },
  {
   "cell_type": "markdown",
   "metadata": {},
   "source": [
    "Our model is once again overfitting to the training data and performing very well on it but the model's performance drops significantly when we test it with the test data. In order to address this, we can once again perform a grid search and try to tune the model."
   ]
  },
  {
   "cell_type": "markdown",
   "metadata": {},
   "source": [
    "### Hyperparameter Tuning"
   ]
  },
  {
   "cell_type": "code",
   "execution_count": 73,
   "metadata": {
    "ExecuteTime": {
     "end_time": "2021-05-31T00:15:46.875337Z",
     "start_time": "2021-05-31T00:15:46.861345Z"
    }
   },
   "outputs": [],
   "source": [
    "# clf = LogisticRegressionCV(cv=5)\n",
    "# grid = {'penalty': ['l1','l2'],\n",
    "#         'solver': ['liblinear', 'lbfgs', 'sag', 'saga'],\n",
    "#         'class_weight': ['balanced', None],\n",
    "#         'Cs': [1e12, 10, 1, 0.1]\n",
    "#    }\n",
    "\n",
    "# gridsearch = GridSearchCV(estimator=clf, param_grid = grid, scoring='recall', n_jobs=-1)\n",
    "\n",
    "# gridsearch.fit(X_train_sm_sc,  y_train_sm)\n",
    "# gridsearch.best_params_\n",
    "# # {'Cs': 1, 'class_weight': 'balanced', 'penalty': 'l2', 'solver': 'liblinear'}"
   ]
  },
  {
   "cell_type": "markdown",
   "metadata": {},
   "source": [
    "The grid search returned 'l2' as the regularization method which is the Ridge regularization as well as a C value of 1. We will use these parameters on a new model to see if the recall score improves."
   ]
  },
  {
   "cell_type": "code",
   "execution_count": 74,
   "metadata": {
    "ExecuteTime": {
     "end_time": "2021-05-31T00:15:50.047360Z",
     "start_time": "2021-05-31T00:15:46.877334Z"
    }
   },
   "outputs": [
    {
     "name": "stdout",
     "output_type": "stream",
     "text": [
      "CLASSIFICATION REPORT\n",
      "------------------------------------------\n",
      "              precision    recall  f1-score   support\n",
      "\n",
      "           0       0.93      0.92      0.93     24588\n",
      "           1       0.61      0.66      0.63      4649\n",
      "\n",
      "    accuracy                           0.88     29237\n",
      "   macro avg       0.77      0.79      0.78     29237\n",
      "weighted avg       0.88      0.88      0.88     29237\n",
      "\n"
     ]
    },
    {
     "data": {
      "image/png": "[encoded data removed]",
      "text/plain": [
       "<Figure size 864x360 with 3 Axes>"
      ]
     },
     "metadata": {
      "needs_background": "light"
     },
     "output_type": "display_data"
    }
   ],
   "source": [
    "clf_logregcv_tuned = LogisticRegressionCV(cv=5, class_weight='balanced', Cs=1, \n",
    "                                          penalty='l2', solver='liblinear',\n",
    "                                          random_state=42)\n",
    "clf_logregcv_tuned.fit(X_train_sm_sc,  y_train_sm)\n",
    "y_pred = clf_logregcv_tuned.predict(X_test_sc)\n",
    "classification(y_test, y_pred, X_test_sc, clf_logregcv_tuned)"
   ]
  },
  {
   "cell_type": "markdown",
   "metadata": {},
   "source": [
    "Unfortunately, the parameters returned by our grid search did not seem to improve the recall score. This can potentially be due to the limitation of the model itself or more likely is the limitations of our dataset. We simply may not have enough information in the data to more accurately predict the popularity of a song."
   ]
  },
  {
   "cell_type": "code",
   "execution_count": 75,
   "metadata": {
    "ExecuteTime": {
     "end_time": "2021-05-31T00:15:50.079354Z",
     "start_time": "2021-05-31T00:15:50.049360Z"
    }
   },
   "outputs": [
    {
     "data": {
      "text/html": [
       "<div>\n",
       "<style scoped>\n",
       "    .dataframe tbody tr th:only-of-type {\n",
       "        vertical-align: middle;\n",
       "    }\n",
       "\n",
       "    .dataframe tbody tr th {\n",
       "        vertical-align: top;\n",
       "    }\n",
       "\n",
       "    .dataframe thead th {\n",
       "        text-align: right;\n",
       "    }\n",
       "</style>\n",
       "<table border=\"1\" class=\"dataframe\">\n",
       "  <thead>\n",
       "    <tr style=\"text-align: right;\">\n",
       "      <th></th>\n",
       "      <th>Model Name</th>\n",
       "      <th>Recall Score</th>\n",
       "    </tr>\n",
       "  </thead>\n",
       "  <tbody>\n",
       "    <tr>\n",
       "      <th>0</th>\n",
       "      <td>Dummy Classifier</td>\n",
       "      <td>0.51</td>\n",
       "    </tr>\n",
       "    <tr>\n",
       "      <th>1</th>\n",
       "      <td>Random Forest</td>\n",
       "      <td>0.60</td>\n",
       "    </tr>\n",
       "    <tr>\n",
       "      <th>2</th>\n",
       "      <td>XGBoost</td>\n",
       "      <td>0.65</td>\n",
       "    </tr>\n",
       "    <tr>\n",
       "      <th>3</th>\n",
       "      <td>Logistic Regression</td>\n",
       "      <td>0.66</td>\n",
       "    </tr>\n",
       "  </tbody>\n",
       "</table>\n",
       "</div>"
      ],
      "text/plain": [
       "            Model Name  Recall Score\n",
       "0     Dummy Classifier          0.51\n",
       "1        Random Forest          0.60\n",
       "2              XGBoost          0.65\n",
       "3  Logistic Regression          0.66"
      ]
     },
     "execution_count": 75,
     "metadata": {},
     "output_type": "execute_result"
    }
   ],
   "source": [
    "#appending the recall score to the results dataframe\n",
    "df_results = add_results('Logistic Regression', df_results)\n",
    "df_results.head()"
   ]
  },
  {
   "cell_type": "markdown",
   "metadata": {},
   "source": [
    "# iNTERPRET"
   ]
  },
  {
   "cell_type": "markdown",
   "metadata": {},
   "source": [
    "Now that we have 3 tuned models, we can analyze which attributes they used in predicting whether a song was going to be popular or not and interpret these values. For this we will be looking at feature importances of each model and comparing them against each other to see if we can see any common threads between the models."
   ]
  },
  {
   "cell_type": "markdown",
   "metadata": {},
   "source": [
    "## Parsing Feature Importances to Dataframes"
   ]
  },
  {
   "cell_type": "markdown",
   "metadata": {},
   "source": [
    "### Random Forest"
   ]
  },
  {
   "cell_type": "code",
   "execution_count": 76,
   "metadata": {
    "ExecuteTime": {
     "end_time": "2021-05-31T00:15:50.141312Z",
     "start_time": "2021-05-31T00:15:50.081338Z"
    }
   },
   "outputs": [
    {
     "data": {
      "text/html": [
       "<div>\n",
       "<style scoped>\n",
       "    .dataframe tbody tr th:only-of-type {\n",
       "        vertical-align: middle;\n",
       "    }\n",
       "\n",
       "    .dataframe tbody tr th {\n",
       "        vertical-align: top;\n",
       "    }\n",
       "\n",
       "    .dataframe thead th {\n",
       "        text-align: right;\n",
       "    }\n",
       "</style>\n",
       "<table border=\"1\" class=\"dataframe\">\n",
       "  <thead>\n",
       "    <tr style=\"text-align: right;\">\n",
       "      <th></th>\n",
       "      <th>RF-Attribute</th>\n",
       "      <th>RF-Importance</th>\n",
       "    </tr>\n",
       "  </thead>\n",
       "  <tbody>\n",
       "    <tr>\n",
       "      <th>0</th>\n",
       "      <td>Pop</td>\n",
       "      <td>0.170450</td>\n",
       "    </tr>\n",
       "    <tr>\n",
       "      <th>1</th>\n",
       "      <td>acousticness</td>\n",
       "      <td>0.058465</td>\n",
       "    </tr>\n",
       "    <tr>\n",
       "      <th>2</th>\n",
       "      <td>loudness</td>\n",
       "      <td>0.042098</td>\n",
       "    </tr>\n",
       "    <tr>\n",
       "      <th>3</th>\n",
       "      <td>instrumentalness</td>\n",
       "      <td>0.035188</td>\n",
       "    </tr>\n",
       "    <tr>\n",
       "      <th>4</th>\n",
       "      <td>energy</td>\n",
       "      <td>0.030445</td>\n",
       "    </tr>\n",
       "    <tr>\n",
       "      <th>5</th>\n",
       "      <td>speechiness</td>\n",
       "      <td>0.027606</td>\n",
       "    </tr>\n",
       "    <tr>\n",
       "      <th>6</th>\n",
       "      <td>Reggae</td>\n",
       "      <td>0.025547</td>\n",
       "    </tr>\n",
       "    <tr>\n",
       "      <th>7</th>\n",
       "      <td>Ska</td>\n",
       "      <td>0.025070</td>\n",
       "    </tr>\n",
       "    <tr>\n",
       "      <th>8</th>\n",
       "      <td>danceability</td>\n",
       "      <td>0.024540</td>\n",
       "    </tr>\n",
       "    <tr>\n",
       "      <th>9</th>\n",
       "      <td>valence</td>\n",
       "      <td>0.023421</td>\n",
       "    </tr>\n",
       "    <tr>\n",
       "      <th>10</th>\n",
       "      <td>Rock</td>\n",
       "      <td>0.023300</td>\n",
       "    </tr>\n",
       "    <tr>\n",
       "      <th>11</th>\n",
       "      <td>duration_ms</td>\n",
       "      <td>0.022952</td>\n",
       "    </tr>\n",
       "    <tr>\n",
       "      <th>12</th>\n",
       "      <td>Anime</td>\n",
       "      <td>0.022609</td>\n",
       "    </tr>\n",
       "    <tr>\n",
       "      <th>13</th>\n",
       "      <td>key_C</td>\n",
       "      <td>0.022232</td>\n",
       "    </tr>\n",
       "    <tr>\n",
       "      <th>14</th>\n",
       "      <td>Electronic</td>\n",
       "      <td>0.022210</td>\n",
       "    </tr>\n",
       "    <tr>\n",
       "      <th>15</th>\n",
       "      <td>Reggaeton</td>\n",
       "      <td>0.022066</td>\n",
       "    </tr>\n",
       "    <tr>\n",
       "      <th>16</th>\n",
       "      <td>key_G</td>\n",
       "      <td>0.020926</td>\n",
       "    </tr>\n",
       "    <tr>\n",
       "      <th>17</th>\n",
       "      <td>key_D</td>\n",
       "      <td>0.020827</td>\n",
       "    </tr>\n",
       "    <tr>\n",
       "      <th>18</th>\n",
       "      <td>liveness</td>\n",
       "      <td>0.020508</td>\n",
       "    </tr>\n",
       "    <tr>\n",
       "      <th>19</th>\n",
       "      <td>Blues</td>\n",
       "      <td>0.020394</td>\n",
       "    </tr>\n",
       "    <tr>\n",
       "      <th>20</th>\n",
       "      <td>key_C#</td>\n",
       "      <td>0.017425</td>\n",
       "    </tr>\n",
       "    <tr>\n",
       "      <th>21</th>\n",
       "      <td>time_signature_4/4</td>\n",
       "      <td>0.017337</td>\n",
       "    </tr>\n",
       "    <tr>\n",
       "      <th>22</th>\n",
       "      <td>Country</td>\n",
       "      <td>0.016717</td>\n",
       "    </tr>\n",
       "    <tr>\n",
       "      <th>23</th>\n",
       "      <td>World</td>\n",
       "      <td>0.016677</td>\n",
       "    </tr>\n",
       "    <tr>\n",
       "      <th>24</th>\n",
       "      <td>tempo</td>\n",
       "      <td>0.016582</td>\n",
       "    </tr>\n",
       "    <tr>\n",
       "      <th>25</th>\n",
       "      <td>key_F</td>\n",
       "      <td>0.016250</td>\n",
       "    </tr>\n",
       "    <tr>\n",
       "      <th>26</th>\n",
       "      <td>key_E</td>\n",
       "      <td>0.016020</td>\n",
       "    </tr>\n",
       "    <tr>\n",
       "      <th>27</th>\n",
       "      <td>key_B</td>\n",
       "      <td>0.015608</td>\n",
       "    </tr>\n",
       "    <tr>\n",
       "      <th>28</th>\n",
       "      <td>Jazz</td>\n",
       "      <td>0.014793</td>\n",
       "    </tr>\n",
       "    <tr>\n",
       "      <th>29</th>\n",
       "      <td>Soul</td>\n",
       "      <td>0.014269</td>\n",
       "    </tr>\n",
       "    <tr>\n",
       "      <th>30</th>\n",
       "      <td>key_A#</td>\n",
       "      <td>0.013765</td>\n",
       "    </tr>\n",
       "    <tr>\n",
       "      <th>31</th>\n",
       "      <td>key_G#</td>\n",
       "      <td>0.013732</td>\n",
       "    </tr>\n",
       "    <tr>\n",
       "      <th>32</th>\n",
       "      <td>Rap</td>\n",
       "      <td>0.013512</td>\n",
       "    </tr>\n",
       "    <tr>\n",
       "      <th>33</th>\n",
       "      <td>Movie</td>\n",
       "      <td>0.012420</td>\n",
       "    </tr>\n",
       "    <tr>\n",
       "      <th>34</th>\n",
       "      <td>key_F#</td>\n",
       "      <td>0.012048</td>\n",
       "    </tr>\n",
       "    <tr>\n",
       "      <th>35</th>\n",
       "      <td>Folk</td>\n",
       "      <td>0.011505</td>\n",
       "    </tr>\n",
       "    <tr>\n",
       "      <th>36</th>\n",
       "      <td>Comedy</td>\n",
       "      <td>0.009459</td>\n",
       "    </tr>\n",
       "    <tr>\n",
       "      <th>37</th>\n",
       "      <td>R&amp;B</td>\n",
       "      <td>0.009058</td>\n",
       "    </tr>\n",
       "    <tr>\n",
       "      <th>38</th>\n",
       "      <td>Children's Music</td>\n",
       "      <td>0.008871</td>\n",
       "    </tr>\n",
       "    <tr>\n",
       "      <th>39</th>\n",
       "      <td>time_signature_3/4</td>\n",
       "      <td>0.008178</td>\n",
       "    </tr>\n",
       "    <tr>\n",
       "      <th>40</th>\n",
       "      <td>Hip-Hop</td>\n",
       "      <td>0.006198</td>\n",
       "    </tr>\n",
       "    <tr>\n",
       "      <th>41</th>\n",
       "      <td>Indie</td>\n",
       "      <td>0.006080</td>\n",
       "    </tr>\n",
       "    <tr>\n",
       "      <th>42</th>\n",
       "      <td>key_D#</td>\n",
       "      <td>0.006018</td>\n",
       "    </tr>\n",
       "    <tr>\n",
       "      <th>43</th>\n",
       "      <td>Alternative</td>\n",
       "      <td>0.005233</td>\n",
       "    </tr>\n",
       "    <tr>\n",
       "      <th>44</th>\n",
       "      <td>Dance</td>\n",
       "      <td>0.004591</td>\n",
       "    </tr>\n",
       "    <tr>\n",
       "      <th>45</th>\n",
       "      <td>Soundtrack</td>\n",
       "      <td>0.004552</td>\n",
       "    </tr>\n",
       "    <tr>\n",
       "      <th>46</th>\n",
       "      <td>Classical</td>\n",
       "      <td>0.004386</td>\n",
       "    </tr>\n",
       "    <tr>\n",
       "      <th>47</th>\n",
       "      <td>Opera</td>\n",
       "      <td>0.004076</td>\n",
       "    </tr>\n",
       "    <tr>\n",
       "      <th>48</th>\n",
       "      <td>mode_Minor</td>\n",
       "      <td>0.003241</td>\n",
       "    </tr>\n",
       "    <tr>\n",
       "      <th>49</th>\n",
       "      <td>time_signature_5/4</td>\n",
       "      <td>0.000374</td>\n",
       "    </tr>\n",
       "    <tr>\n",
       "      <th>50</th>\n",
       "      <td>time_signature_1/4</td>\n",
       "      <td>0.000124</td>\n",
       "    </tr>\n",
       "    <tr>\n",
       "      <th>51</th>\n",
       "      <td>A Capella</td>\n",
       "      <td>0.000049</td>\n",
       "    </tr>\n",
       "  </tbody>\n",
       "</table>\n",
       "</div>"
      ],
      "text/plain": [
       "          RF-Attribute  RF-Importance\n",
       "0                  Pop       0.170450\n",
       "1         acousticness       0.058465\n",
       "2             loudness       0.042098\n",
       "3     instrumentalness       0.035188\n",
       "4               energy       0.030445\n",
       "5          speechiness       0.027606\n",
       "6               Reggae       0.025547\n",
       "7                  Ska       0.025070\n",
       "8         danceability       0.024540\n",
       "9              valence       0.023421\n",
       "10                Rock       0.023300\n",
       "11         duration_ms       0.022952\n",
       "12               Anime       0.022609\n",
       "13               key_C       0.022232\n",
       "14          Electronic       0.022210\n",
       "15           Reggaeton       0.022066\n",
       "16               key_G       0.020926\n",
       "17               key_D       0.020827\n",
       "18            liveness       0.020508\n",
       "19               Blues       0.020394\n",
       "20              key_C#       0.017425\n",
       "21  time_signature_4/4       0.017337\n",
       "22             Country       0.016717\n",
       "23               World       0.016677\n",
       "24               tempo       0.016582\n",
       "25               key_F       0.016250\n",
       "26               key_E       0.016020\n",
       "27               key_B       0.015608\n",
       "28                Jazz       0.014793\n",
       "29                Soul       0.014269\n",
       "30              key_A#       0.013765\n",
       "31              key_G#       0.013732\n",
       "32                 Rap       0.013512\n",
       "33               Movie       0.012420\n",
       "34              key_F#       0.012048\n",
       "35                Folk       0.011505\n",
       "36              Comedy       0.009459\n",
       "37                 R&B       0.009058\n",
       "38    Children's Music       0.008871\n",
       "39  time_signature_3/4       0.008178\n",
       "40             Hip-Hop       0.006198\n",
       "41               Indie       0.006080\n",
       "42              key_D#       0.006018\n",
       "43         Alternative       0.005233\n",
       "44               Dance       0.004591\n",
       "45          Soundtrack       0.004552\n",
       "46           Classical       0.004386\n",
       "47               Opera       0.004076\n",
       "48          mode_Minor       0.003241\n",
       "49  time_signature_5/4       0.000374\n",
       "50  time_signature_1/4       0.000124\n",
       "51           A Capella       0.000049"
      ]
     },
     "execution_count": 76,
     "metadata": {},
     "output_type": "execute_result"
    }
   ],
   "source": [
    "#accessing feature importance values of the tuned random forest model and sorting them\n",
    "rf_importances_df = pd.Series(clf_rf_tuned.feature_importances_, index=X_train.columns).sort_values(ascending=False)\n",
    "#parsing the series to a dataframe\n",
    "rf_importances_df = rf_importances_df.reset_index()\n",
    "rf_importances_df.columns = ['RF-Attribute', 'RF-Importance']\n",
    "rf_importances_df"
   ]
  },
  {
   "cell_type": "markdown",
   "metadata": {
    "ExecuteTime": {
     "end_time": "2021-05-23T16:11:38.894310Z",
     "start_time": "2021-05-23T16:11:38.883338Z"
    }
   },
   "source": [
    "### XGBoost"
   ]
  },
  {
   "cell_type": "code",
   "execution_count": 77,
   "metadata": {
    "ExecuteTime": {
     "end_time": "2021-05-31T00:15:50.630012Z",
     "start_time": "2021-05-31T00:15:50.143302Z"
    }
   },
   "outputs": [
    {
     "data": {
      "text/html": [
       "<div>\n",
       "<style scoped>\n",
       "    .dataframe tbody tr th:only-of-type {\n",
       "        vertical-align: middle;\n",
       "    }\n",
       "\n",
       "    .dataframe tbody tr th {\n",
       "        vertical-align: top;\n",
       "    }\n",
       "\n",
       "    .dataframe thead th {\n",
       "        text-align: right;\n",
       "    }\n",
       "</style>\n",
       "<table border=\"1\" class=\"dataframe\">\n",
       "  <thead>\n",
       "    <tr style=\"text-align: right;\">\n",
       "      <th></th>\n",
       "      <th>XGB-Attribute</th>\n",
       "      <th>XGB-Importance</th>\n",
       "    </tr>\n",
       "  </thead>\n",
       "  <tbody>\n",
       "    <tr>\n",
       "      <th>0</th>\n",
       "      <td>Pop</td>\n",
       "      <td>0.338478</td>\n",
       "    </tr>\n",
       "    <tr>\n",
       "      <th>1</th>\n",
       "      <td>Blues</td>\n",
       "      <td>0.044411</td>\n",
       "    </tr>\n",
       "    <tr>\n",
       "      <th>2</th>\n",
       "      <td>Ska</td>\n",
       "      <td>0.041425</td>\n",
       "    </tr>\n",
       "    <tr>\n",
       "      <th>3</th>\n",
       "      <td>Anime</td>\n",
       "      <td>0.038448</td>\n",
       "    </tr>\n",
       "    <tr>\n",
       "      <th>4</th>\n",
       "      <td>Electronic</td>\n",
       "      <td>0.035823</td>\n",
       "    </tr>\n",
       "    <tr>\n",
       "      <th>5</th>\n",
       "      <td>key_F</td>\n",
       "      <td>0.030206</td>\n",
       "    </tr>\n",
       "    <tr>\n",
       "      <th>6</th>\n",
       "      <td>Reggae</td>\n",
       "      <td>0.028680</td>\n",
       "    </tr>\n",
       "    <tr>\n",
       "      <th>7</th>\n",
       "      <td>Reggaeton</td>\n",
       "      <td>0.028236</td>\n",
       "    </tr>\n",
       "    <tr>\n",
       "      <th>8</th>\n",
       "      <td>World</td>\n",
       "      <td>0.026180</td>\n",
       "    </tr>\n",
       "    <tr>\n",
       "      <th>9</th>\n",
       "      <td>Comedy</td>\n",
       "      <td>0.022677</td>\n",
       "    </tr>\n",
       "    <tr>\n",
       "      <th>10</th>\n",
       "      <td>time_signature_4/4</td>\n",
       "      <td>0.022424</td>\n",
       "    </tr>\n",
       "    <tr>\n",
       "      <th>11</th>\n",
       "      <td>key_G</td>\n",
       "      <td>0.021797</td>\n",
       "    </tr>\n",
       "    <tr>\n",
       "      <th>12</th>\n",
       "      <td>key_D</td>\n",
       "      <td>0.021443</td>\n",
       "    </tr>\n",
       "    <tr>\n",
       "      <th>13</th>\n",
       "      <td>key_E</td>\n",
       "      <td>0.020443</td>\n",
       "    </tr>\n",
       "    <tr>\n",
       "      <th>14</th>\n",
       "      <td>key_B</td>\n",
       "      <td>0.019590</td>\n",
       "    </tr>\n",
       "    <tr>\n",
       "      <th>15</th>\n",
       "      <td>Movie</td>\n",
       "      <td>0.019176</td>\n",
       "    </tr>\n",
       "    <tr>\n",
       "      <th>16</th>\n",
       "      <td>key_C</td>\n",
       "      <td>0.019146</td>\n",
       "    </tr>\n",
       "    <tr>\n",
       "      <th>17</th>\n",
       "      <td>key_C#</td>\n",
       "      <td>0.018567</td>\n",
       "    </tr>\n",
       "    <tr>\n",
       "      <th>18</th>\n",
       "      <td>key_A#</td>\n",
       "      <td>0.018249</td>\n",
       "    </tr>\n",
       "    <tr>\n",
       "      <th>19</th>\n",
       "      <td>Country</td>\n",
       "      <td>0.017618</td>\n",
       "    </tr>\n",
       "    <tr>\n",
       "      <th>20</th>\n",
       "      <td>Jazz</td>\n",
       "      <td>0.017153</td>\n",
       "    </tr>\n",
       "    <tr>\n",
       "      <th>21</th>\n",
       "      <td>key_G#</td>\n",
       "      <td>0.017010</td>\n",
       "    </tr>\n",
       "    <tr>\n",
       "      <th>22</th>\n",
       "      <td>key_F#</td>\n",
       "      <td>0.015459</td>\n",
       "    </tr>\n",
       "    <tr>\n",
       "      <th>23</th>\n",
       "      <td>key_D#</td>\n",
       "      <td>0.011452</td>\n",
       "    </tr>\n",
       "    <tr>\n",
       "      <th>24</th>\n",
       "      <td>Rock</td>\n",
       "      <td>0.011072</td>\n",
       "    </tr>\n",
       "    <tr>\n",
       "      <th>25</th>\n",
       "      <td>Soul</td>\n",
       "      <td>0.010851</td>\n",
       "    </tr>\n",
       "    <tr>\n",
       "      <th>26</th>\n",
       "      <td>Opera</td>\n",
       "      <td>0.008906</td>\n",
       "    </tr>\n",
       "    <tr>\n",
       "      <th>27</th>\n",
       "      <td>Folk</td>\n",
       "      <td>0.008619</td>\n",
       "    </tr>\n",
       "    <tr>\n",
       "      <th>28</th>\n",
       "      <td>Rap</td>\n",
       "      <td>0.008345</td>\n",
       "    </tr>\n",
       "    <tr>\n",
       "      <th>29</th>\n",
       "      <td>Classical</td>\n",
       "      <td>0.007541</td>\n",
       "    </tr>\n",
       "    <tr>\n",
       "      <th>30</th>\n",
       "      <td>R&amp;B</td>\n",
       "      <td>0.006807</td>\n",
       "    </tr>\n",
       "    <tr>\n",
       "      <th>31</th>\n",
       "      <td>Soundtrack</td>\n",
       "      <td>0.006583</td>\n",
       "    </tr>\n",
       "    <tr>\n",
       "      <th>32</th>\n",
       "      <td>Children's Music</td>\n",
       "      <td>0.006214</td>\n",
       "    </tr>\n",
       "    <tr>\n",
       "      <th>33</th>\n",
       "      <td>acousticness</td>\n",
       "      <td>0.005366</td>\n",
       "    </tr>\n",
       "    <tr>\n",
       "      <th>34</th>\n",
       "      <td>Hip-Hop</td>\n",
       "      <td>0.003538</td>\n",
       "    </tr>\n",
       "    <tr>\n",
       "      <th>35</th>\n",
       "      <td>A Capella</td>\n",
       "      <td>0.003390</td>\n",
       "    </tr>\n",
       "    <tr>\n",
       "      <th>36</th>\n",
       "      <td>Indie</td>\n",
       "      <td>0.002931</td>\n",
       "    </tr>\n",
       "    <tr>\n",
       "      <th>37</th>\n",
       "      <td>Alternative</td>\n",
       "      <td>0.002512</td>\n",
       "    </tr>\n",
       "    <tr>\n",
       "      <th>38</th>\n",
       "      <td>instrumentalness</td>\n",
       "      <td>0.002380</td>\n",
       "    </tr>\n",
       "    <tr>\n",
       "      <th>39</th>\n",
       "      <td>loudness</td>\n",
       "      <td>0.001734</td>\n",
       "    </tr>\n",
       "    <tr>\n",
       "      <th>40</th>\n",
       "      <td>Dance</td>\n",
       "      <td>0.001682</td>\n",
       "    </tr>\n",
       "    <tr>\n",
       "      <th>41</th>\n",
       "      <td>time_signature_1/4</td>\n",
       "      <td>0.001456</td>\n",
       "    </tr>\n",
       "    <tr>\n",
       "      <th>42</th>\n",
       "      <td>speechiness</td>\n",
       "      <td>0.000771</td>\n",
       "    </tr>\n",
       "    <tr>\n",
       "      <th>43</th>\n",
       "      <td>energy</td>\n",
       "      <td>0.000751</td>\n",
       "    </tr>\n",
       "    <tr>\n",
       "      <th>44</th>\n",
       "      <td>danceability</td>\n",
       "      <td>0.000741</td>\n",
       "    </tr>\n",
       "    <tr>\n",
       "      <th>45</th>\n",
       "      <td>duration_ms</td>\n",
       "      <td>0.000706</td>\n",
       "    </tr>\n",
       "    <tr>\n",
       "      <th>46</th>\n",
       "      <td>liveness</td>\n",
       "      <td>0.000661</td>\n",
       "    </tr>\n",
       "    <tr>\n",
       "      <th>47</th>\n",
       "      <td>valence</td>\n",
       "      <td>0.000645</td>\n",
       "    </tr>\n",
       "    <tr>\n",
       "      <th>48</th>\n",
       "      <td>time_signature_5/4</td>\n",
       "      <td>0.000507</td>\n",
       "    </tr>\n",
       "    <tr>\n",
       "      <th>49</th>\n",
       "      <td>mode_Minor</td>\n",
       "      <td>0.000457</td>\n",
       "    </tr>\n",
       "    <tr>\n",
       "      <th>50</th>\n",
       "      <td>time_signature_3/4</td>\n",
       "      <td>0.000401</td>\n",
       "    </tr>\n",
       "    <tr>\n",
       "      <th>51</th>\n",
       "      <td>tempo</td>\n",
       "      <td>0.000339</td>\n",
       "    </tr>\n",
       "  </tbody>\n",
       "</table>\n",
       "</div>"
      ],
      "text/plain": [
       "         XGB-Attribute  XGB-Importance\n",
       "0                  Pop        0.338478\n",
       "1                Blues        0.044411\n",
       "2                  Ska        0.041425\n",
       "3                Anime        0.038448\n",
       "4           Electronic        0.035823\n",
       "5                key_F        0.030206\n",
       "6               Reggae        0.028680\n",
       "7            Reggaeton        0.028236\n",
       "8                World        0.026180\n",
       "9               Comedy        0.022677\n",
       "10  time_signature_4/4        0.022424\n",
       "11               key_G        0.021797\n",
       "12               key_D        0.021443\n",
       "13               key_E        0.020443\n",
       "14               key_B        0.019590\n",
       "15               Movie        0.019176\n",
       "16               key_C        0.019146\n",
       "17              key_C#        0.018567\n",
       "18              key_A#        0.018249\n",
       "19             Country        0.017618\n",
       "20                Jazz        0.017153\n",
       "21              key_G#        0.017010\n",
       "22              key_F#        0.015459\n",
       "23              key_D#        0.011452\n",
       "24                Rock        0.011072\n",
       "25                Soul        0.010851\n",
       "26               Opera        0.008906\n",
       "27                Folk        0.008619\n",
       "28                 Rap        0.008345\n",
       "29           Classical        0.007541\n",
       "30                 R&B        0.006807\n",
       "31          Soundtrack        0.006583\n",
       "32    Children's Music        0.006214\n",
       "33        acousticness        0.005366\n",
       "34             Hip-Hop        0.003538\n",
       "35           A Capella        0.003390\n",
       "36               Indie        0.002931\n",
       "37         Alternative        0.002512\n",
       "38    instrumentalness        0.002380\n",
       "39            loudness        0.001734\n",
       "40               Dance        0.001682\n",
       "41  time_signature_1/4        0.001456\n",
       "42         speechiness        0.000771\n",
       "43              energy        0.000751\n",
       "44        danceability        0.000741\n",
       "45         duration_ms        0.000706\n",
       "46            liveness        0.000661\n",
       "47             valence        0.000645\n",
       "48  time_signature_5/4        0.000507\n",
       "49          mode_Minor        0.000457\n",
       "50  time_signature_3/4        0.000401\n",
       "51               tempo        0.000339"
      ]
     },
     "execution_count": 77,
     "metadata": {},
     "output_type": "execute_result"
    }
   ],
   "source": [
    "#parsing feature importances to a series and sorting\n",
    "xgb_importances_df = pd.Series(clf_xgb_tuned.feature_importances_, index=X_train.columns).sort_values(ascending=False)\n",
    "#parsing the series to a dataframe\n",
    "xgb_importances_df = xgb_importances_df.reset_index()\n",
    "xgb_importances_df.columns=['XGB-Attribute', 'XGB-Importance']\n",
    "xgb_importances_df"
   ]
  },
  {
   "cell_type": "markdown",
   "metadata": {},
   "source": [
    "### LogisticRegressionCV"
   ]
  },
  {
   "cell_type": "code",
   "execution_count": 78,
   "metadata": {
    "ExecuteTime": {
     "end_time": "2021-05-31T00:15:50.659997Z",
     "start_time": "2021-05-31T00:15:50.631996Z"
    }
   },
   "outputs": [
    {
     "data": {
      "text/html": [
       "<div>\n",
       "<style scoped>\n",
       "    .dataframe tbody tr th:only-of-type {\n",
       "        vertical-align: middle;\n",
       "    }\n",
       "\n",
       "    .dataframe tbody tr th {\n",
       "        vertical-align: top;\n",
       "    }\n",
       "\n",
       "    .dataframe thead th {\n",
       "        text-align: right;\n",
       "    }\n",
       "</style>\n",
       "<table border=\"1\" class=\"dataframe\">\n",
       "  <thead>\n",
       "    <tr style=\"text-align: right;\">\n",
       "      <th></th>\n",
       "      <th>LogReg-Attribute</th>\n",
       "      <th>LogReg-Importance</th>\n",
       "    </tr>\n",
       "  </thead>\n",
       "  <tbody>\n",
       "    <tr>\n",
       "      <th>0</th>\n",
       "      <td>Pop</td>\n",
       "      <td>0.602770</td>\n",
       "    </tr>\n",
       "    <tr>\n",
       "      <th>1</th>\n",
       "      <td>Rock</td>\n",
       "      <td>0.309627</td>\n",
       "    </tr>\n",
       "    <tr>\n",
       "      <th>2</th>\n",
       "      <td>danceability</td>\n",
       "      <td>0.117183</td>\n",
       "    </tr>\n",
       "    <tr>\n",
       "      <th>3</th>\n",
       "      <td>loudness</td>\n",
       "      <td>0.102000</td>\n",
       "    </tr>\n",
       "    <tr>\n",
       "      <th>4</th>\n",
       "      <td>Rap</td>\n",
       "      <td>0.097957</td>\n",
       "    </tr>\n",
       "    <tr>\n",
       "      <th>5</th>\n",
       "      <td>time_signature_4/4</td>\n",
       "      <td>0.088191</td>\n",
       "    </tr>\n",
       "    <tr>\n",
       "      <th>6</th>\n",
       "      <td>Dance</td>\n",
       "      <td>0.066667</td>\n",
       "    </tr>\n",
       "    <tr>\n",
       "      <th>7</th>\n",
       "      <td>duration_ms</td>\n",
       "      <td>0.023599</td>\n",
       "    </tr>\n",
       "    <tr>\n",
       "      <th>8</th>\n",
       "      <td>Hip-Hop</td>\n",
       "      <td>0.014992</td>\n",
       "    </tr>\n",
       "    <tr>\n",
       "      <th>9</th>\n",
       "      <td>speechiness</td>\n",
       "      <td>-0.005829</td>\n",
       "    </tr>\n",
       "    <tr>\n",
       "      <th>10</th>\n",
       "      <td>tempo</td>\n",
       "      <td>-0.011091</td>\n",
       "    </tr>\n",
       "    <tr>\n",
       "      <th>11</th>\n",
       "      <td>time_signature_1/4</td>\n",
       "      <td>-0.023202</td>\n",
       "    </tr>\n",
       "    <tr>\n",
       "      <th>12</th>\n",
       "      <td>Indie</td>\n",
       "      <td>-0.023943</td>\n",
       "    </tr>\n",
       "    <tr>\n",
       "      <th>13</th>\n",
       "      <td>acousticness</td>\n",
       "      <td>-0.026369</td>\n",
       "    </tr>\n",
       "    <tr>\n",
       "      <th>14</th>\n",
       "      <td>Alternative</td>\n",
       "      <td>-0.029341</td>\n",
       "    </tr>\n",
       "    <tr>\n",
       "      <th>15</th>\n",
       "      <td>time_signature_5/4</td>\n",
       "      <td>-0.030763</td>\n",
       "    </tr>\n",
       "    <tr>\n",
       "      <th>16</th>\n",
       "      <td>energy</td>\n",
       "      <td>-0.031187</td>\n",
       "    </tr>\n",
       "    <tr>\n",
       "      <th>17</th>\n",
       "      <td>A Capella</td>\n",
       "      <td>-0.034542</td>\n",
       "    </tr>\n",
       "    <tr>\n",
       "      <th>18</th>\n",
       "      <td>mode_Minor</td>\n",
       "      <td>-0.037862</td>\n",
       "    </tr>\n",
       "    <tr>\n",
       "      <th>19</th>\n",
       "      <td>liveness</td>\n",
       "      <td>-0.040334</td>\n",
       "    </tr>\n",
       "    <tr>\n",
       "      <th>20</th>\n",
       "      <td>instrumentalness</td>\n",
       "      <td>-0.042670</td>\n",
       "    </tr>\n",
       "    <tr>\n",
       "      <th>21</th>\n",
       "      <td>Soundtrack</td>\n",
       "      <td>-0.056095</td>\n",
       "    </tr>\n",
       "    <tr>\n",
       "      <th>22</th>\n",
       "      <td>Comedy</td>\n",
       "      <td>-0.075320</td>\n",
       "    </tr>\n",
       "    <tr>\n",
       "      <th>23</th>\n",
       "      <td>time_signature_3/4</td>\n",
       "      <td>-0.082948</td>\n",
       "    </tr>\n",
       "    <tr>\n",
       "      <th>24</th>\n",
       "      <td>valence</td>\n",
       "      <td>-0.097720</td>\n",
       "    </tr>\n",
       "    <tr>\n",
       "      <th>25</th>\n",
       "      <td>Classical</td>\n",
       "      <td>-0.103312</td>\n",
       "    </tr>\n",
       "    <tr>\n",
       "      <th>26</th>\n",
       "      <td>R&amp;B</td>\n",
       "      <td>-0.107484</td>\n",
       "    </tr>\n",
       "    <tr>\n",
       "      <th>27</th>\n",
       "      <td>Opera</td>\n",
       "      <td>-0.140450</td>\n",
       "    </tr>\n",
       "    <tr>\n",
       "      <th>28</th>\n",
       "      <td>key_D#</td>\n",
       "      <td>-0.146706</td>\n",
       "    </tr>\n",
       "    <tr>\n",
       "      <th>29</th>\n",
       "      <td>Children's Music</td>\n",
       "      <td>-0.150627</td>\n",
       "    </tr>\n",
       "    <tr>\n",
       "      <th>30</th>\n",
       "      <td>Jazz</td>\n",
       "      <td>-0.165628</td>\n",
       "    </tr>\n",
       "    <tr>\n",
       "      <th>31</th>\n",
       "      <td>Soul</td>\n",
       "      <td>-0.177035</td>\n",
       "    </tr>\n",
       "    <tr>\n",
       "      <th>32</th>\n",
       "      <td>Folk</td>\n",
       "      <td>-0.178005</td>\n",
       "    </tr>\n",
       "    <tr>\n",
       "      <th>33</th>\n",
       "      <td>key_F#</td>\n",
       "      <td>-0.198849</td>\n",
       "    </tr>\n",
       "    <tr>\n",
       "      <th>34</th>\n",
       "      <td>Electronic</td>\n",
       "      <td>-0.203210</td>\n",
       "    </tr>\n",
       "    <tr>\n",
       "      <th>35</th>\n",
       "      <td>key_A#</td>\n",
       "      <td>-0.214184</td>\n",
       "    </tr>\n",
       "    <tr>\n",
       "      <th>36</th>\n",
       "      <td>key_G#</td>\n",
       "      <td>-0.217816</td>\n",
       "    </tr>\n",
       "    <tr>\n",
       "      <th>37</th>\n",
       "      <td>key_B</td>\n",
       "      <td>-0.232799</td>\n",
       "    </tr>\n",
       "    <tr>\n",
       "      <th>38</th>\n",
       "      <td>key_E</td>\n",
       "      <td>-0.235655</td>\n",
       "    </tr>\n",
       "    <tr>\n",
       "      <th>39</th>\n",
       "      <td>Movie</td>\n",
       "      <td>-0.240681</td>\n",
       "    </tr>\n",
       "    <tr>\n",
       "      <th>40</th>\n",
       "      <td>key_F</td>\n",
       "      <td>-0.245327</td>\n",
       "    </tr>\n",
       "    <tr>\n",
       "      <th>41</th>\n",
       "      <td>key_C#</td>\n",
       "      <td>-0.245345</td>\n",
       "    </tr>\n",
       "    <tr>\n",
       "      <th>42</th>\n",
       "      <td>World</td>\n",
       "      <td>-0.247189</td>\n",
       "    </tr>\n",
       "    <tr>\n",
       "      <th>43</th>\n",
       "      <td>Country</td>\n",
       "      <td>-0.253770</td>\n",
       "    </tr>\n",
       "    <tr>\n",
       "      <th>44</th>\n",
       "      <td>Blues</td>\n",
       "      <td>-0.259086</td>\n",
       "    </tr>\n",
       "    <tr>\n",
       "      <th>45</th>\n",
       "      <td>Reggaeton</td>\n",
       "      <td>-0.265262</td>\n",
       "    </tr>\n",
       "    <tr>\n",
       "      <th>46</th>\n",
       "      <td>key_G</td>\n",
       "      <td>-0.279556</td>\n",
       "    </tr>\n",
       "    <tr>\n",
       "      <th>47</th>\n",
       "      <td>key_D</td>\n",
       "      <td>-0.280966</td>\n",
       "    </tr>\n",
       "    <tr>\n",
       "      <th>48</th>\n",
       "      <td>Anime</td>\n",
       "      <td>-0.291580</td>\n",
       "    </tr>\n",
       "    <tr>\n",
       "      <th>49</th>\n",
       "      <td>Reggae</td>\n",
       "      <td>-0.296104</td>\n",
       "    </tr>\n",
       "    <tr>\n",
       "      <th>50</th>\n",
       "      <td>key_C</td>\n",
       "      <td>-0.296984</td>\n",
       "    </tr>\n",
       "    <tr>\n",
       "      <th>51</th>\n",
       "      <td>Ska</td>\n",
       "      <td>-0.313558</td>\n",
       "    </tr>\n",
       "  </tbody>\n",
       "</table>\n",
       "</div>"
      ],
      "text/plain": [
       "      LogReg-Attribute  LogReg-Importance\n",
       "0                  Pop           0.602770\n",
       "1                 Rock           0.309627\n",
       "2         danceability           0.117183\n",
       "3             loudness           0.102000\n",
       "4                  Rap           0.097957\n",
       "5   time_signature_4/4           0.088191\n",
       "6                Dance           0.066667\n",
       "7          duration_ms           0.023599\n",
       "8              Hip-Hop           0.014992\n",
       "9          speechiness          -0.005829\n",
       "10               tempo          -0.011091\n",
       "11  time_signature_1/4          -0.023202\n",
       "12               Indie          -0.023943\n",
       "13        acousticness          -0.026369\n",
       "14         Alternative          -0.029341\n",
       "15  time_signature_5/4          -0.030763\n",
       "16              energy          -0.031187\n",
       "17           A Capella          -0.034542\n",
       "18          mode_Minor          -0.037862\n",
       "19            liveness          -0.040334\n",
       "20    instrumentalness          -0.042670\n",
       "21          Soundtrack          -0.056095\n",
       "22              Comedy          -0.075320\n",
       "23  time_signature_3/4          -0.082948\n",
       "24             valence          -0.097720\n",
       "25           Classical          -0.103312\n",
       "26                 R&B          -0.107484\n",
       "27               Opera          -0.140450\n",
       "28              key_D#          -0.146706\n",
       "29    Children's Music          -0.150627\n",
       "30                Jazz          -0.165628\n",
       "31                Soul          -0.177035\n",
       "32                Folk          -0.178005\n",
       "33              key_F#          -0.198849\n",
       "34          Electronic          -0.203210\n",
       "35              key_A#          -0.214184\n",
       "36              key_G#          -0.217816\n",
       "37               key_B          -0.232799\n",
       "38               key_E          -0.235655\n",
       "39               Movie          -0.240681\n",
       "40               key_F          -0.245327\n",
       "41              key_C#          -0.245345\n",
       "42               World          -0.247189\n",
       "43             Country          -0.253770\n",
       "44               Blues          -0.259086\n",
       "45           Reggaeton          -0.265262\n",
       "46               key_G          -0.279556\n",
       "47               key_D          -0.280966\n",
       "48               Anime          -0.291580\n",
       "49              Reggae          -0.296104\n",
       "50               key_C          -0.296984\n",
       "51                 Ska          -0.313558"
      ]
     },
     "execution_count": 78,
     "metadata": {},
     "output_type": "execute_result"
    }
   ],
   "source": [
    "#accessing feature importance values of the tuned logistic regression model and sorting them\n",
    "logregcv_importances_df = pd.Series(clf_logregcv_tuned.coef_[0], index=X_train.columns).sort_values(ascending=False)\n",
    "#parsing the series to a dataframe\n",
    "logregcv_importances_df = logregcv_importances_df.reset_index()\n",
    "logregcv_importances_df.columns = ['LogReg-Attribute', 'LogReg-Importance']\n",
    "logregcv_importances_df"
   ]
  },
  {
   "cell_type": "code",
   "execution_count": 79,
   "metadata": {
    "ExecuteTime": {
     "end_time": "2021-05-31T00:15:50.690978Z",
     "start_time": "2021-05-31T00:15:50.661991Z"
    }
   },
   "outputs": [
    {
     "data": {
      "text/html": [
       "<div>\n",
       "<style scoped>\n",
       "    .dataframe tbody tr th:only-of-type {\n",
       "        vertical-align: middle;\n",
       "    }\n",
       "\n",
       "    .dataframe tbody tr th {\n",
       "        vertical-align: top;\n",
       "    }\n",
       "\n",
       "    .dataframe thead th {\n",
       "        text-align: right;\n",
       "    }\n",
       "</style>\n",
       "<table border=\"1\" class=\"dataframe\">\n",
       "  <thead>\n",
       "    <tr style=\"text-align: right;\">\n",
       "      <th></th>\n",
       "      <th>RF-Attribute</th>\n",
       "      <th>RF-Importance</th>\n",
       "      <th>XGB-Attribute</th>\n",
       "      <th>XGB-Importance</th>\n",
       "      <th>LogReg-Attribute</th>\n",
       "      <th>LogReg-Importance</th>\n",
       "    </tr>\n",
       "  </thead>\n",
       "  <tbody>\n",
       "    <tr>\n",
       "      <th>0</th>\n",
       "      <td>Pop</td>\n",
       "      <td>0.170450</td>\n",
       "      <td>Pop</td>\n",
       "      <td>0.338478</td>\n",
       "      <td>Pop</td>\n",
       "      <td>0.602770</td>\n",
       "    </tr>\n",
       "    <tr>\n",
       "      <th>1</th>\n",
       "      <td>acousticness</td>\n",
       "      <td>0.058465</td>\n",
       "      <td>Blues</td>\n",
       "      <td>0.044411</td>\n",
       "      <td>Rock</td>\n",
       "      <td>0.309627</td>\n",
       "    </tr>\n",
       "    <tr>\n",
       "      <th>2</th>\n",
       "      <td>loudness</td>\n",
       "      <td>0.042098</td>\n",
       "      <td>Ska</td>\n",
       "      <td>0.041425</td>\n",
       "      <td>danceability</td>\n",
       "      <td>0.117183</td>\n",
       "    </tr>\n",
       "    <tr>\n",
       "      <th>3</th>\n",
       "      <td>instrumentalness</td>\n",
       "      <td>0.035188</td>\n",
       "      <td>Anime</td>\n",
       "      <td>0.038448</td>\n",
       "      <td>loudness</td>\n",
       "      <td>0.102000</td>\n",
       "    </tr>\n",
       "    <tr>\n",
       "      <th>4</th>\n",
       "      <td>energy</td>\n",
       "      <td>0.030445</td>\n",
       "      <td>Electronic</td>\n",
       "      <td>0.035823</td>\n",
       "      <td>Rap</td>\n",
       "      <td>0.097957</td>\n",
       "    </tr>\n",
       "    <tr>\n",
       "      <th>5</th>\n",
       "      <td>speechiness</td>\n",
       "      <td>0.027606</td>\n",
       "      <td>key_F</td>\n",
       "      <td>0.030206</td>\n",
       "      <td>time_signature_4/4</td>\n",
       "      <td>0.088191</td>\n",
       "    </tr>\n",
       "    <tr>\n",
       "      <th>6</th>\n",
       "      <td>Reggae</td>\n",
       "      <td>0.025547</td>\n",
       "      <td>Reggae</td>\n",
       "      <td>0.028680</td>\n",
       "      <td>Dance</td>\n",
       "      <td>0.066667</td>\n",
       "    </tr>\n",
       "    <tr>\n",
       "      <th>7</th>\n",
       "      <td>Ska</td>\n",
       "      <td>0.025070</td>\n",
       "      <td>Reggaeton</td>\n",
       "      <td>0.028236</td>\n",
       "      <td>duration_ms</td>\n",
       "      <td>0.023599</td>\n",
       "    </tr>\n",
       "    <tr>\n",
       "      <th>8</th>\n",
       "      <td>danceability</td>\n",
       "      <td>0.024540</td>\n",
       "      <td>World</td>\n",
       "      <td>0.026180</td>\n",
       "      <td>Hip-Hop</td>\n",
       "      <td>0.014992</td>\n",
       "    </tr>\n",
       "    <tr>\n",
       "      <th>9</th>\n",
       "      <td>valence</td>\n",
       "      <td>0.023421</td>\n",
       "      <td>Comedy</td>\n",
       "      <td>0.022677</td>\n",
       "      <td>speechiness</td>\n",
       "      <td>-0.005829</td>\n",
       "    </tr>\n",
       "    <tr>\n",
       "      <th>10</th>\n",
       "      <td>Rock</td>\n",
       "      <td>0.023300</td>\n",
       "      <td>time_signature_4/4</td>\n",
       "      <td>0.022424</td>\n",
       "      <td>tempo</td>\n",
       "      <td>-0.011091</td>\n",
       "    </tr>\n",
       "    <tr>\n",
       "      <th>11</th>\n",
       "      <td>duration_ms</td>\n",
       "      <td>0.022952</td>\n",
       "      <td>key_G</td>\n",
       "      <td>0.021797</td>\n",
       "      <td>time_signature_1/4</td>\n",
       "      <td>-0.023202</td>\n",
       "    </tr>\n",
       "    <tr>\n",
       "      <th>12</th>\n",
       "      <td>Anime</td>\n",
       "      <td>0.022609</td>\n",
       "      <td>key_D</td>\n",
       "      <td>0.021443</td>\n",
       "      <td>Indie</td>\n",
       "      <td>-0.023943</td>\n",
       "    </tr>\n",
       "    <tr>\n",
       "      <th>13</th>\n",
       "      <td>key_C</td>\n",
       "      <td>0.022232</td>\n",
       "      <td>key_E</td>\n",
       "      <td>0.020443</td>\n",
       "      <td>acousticness</td>\n",
       "      <td>-0.026369</td>\n",
       "    </tr>\n",
       "    <tr>\n",
       "      <th>14</th>\n",
       "      <td>Electronic</td>\n",
       "      <td>0.022210</td>\n",
       "      <td>key_B</td>\n",
       "      <td>0.019590</td>\n",
       "      <td>Alternative</td>\n",
       "      <td>-0.029341</td>\n",
       "    </tr>\n",
       "    <tr>\n",
       "      <th>15</th>\n",
       "      <td>Reggaeton</td>\n",
       "      <td>0.022066</td>\n",
       "      <td>Movie</td>\n",
       "      <td>0.019176</td>\n",
       "      <td>time_signature_5/4</td>\n",
       "      <td>-0.030763</td>\n",
       "    </tr>\n",
       "    <tr>\n",
       "      <th>16</th>\n",
       "      <td>key_G</td>\n",
       "      <td>0.020926</td>\n",
       "      <td>key_C</td>\n",
       "      <td>0.019146</td>\n",
       "      <td>energy</td>\n",
       "      <td>-0.031187</td>\n",
       "    </tr>\n",
       "    <tr>\n",
       "      <th>17</th>\n",
       "      <td>key_D</td>\n",
       "      <td>0.020827</td>\n",
       "      <td>key_C#</td>\n",
       "      <td>0.018567</td>\n",
       "      <td>A Capella</td>\n",
       "      <td>-0.034542</td>\n",
       "    </tr>\n",
       "    <tr>\n",
       "      <th>18</th>\n",
       "      <td>liveness</td>\n",
       "      <td>0.020508</td>\n",
       "      <td>key_A#</td>\n",
       "      <td>0.018249</td>\n",
       "      <td>mode_Minor</td>\n",
       "      <td>-0.037862</td>\n",
       "    </tr>\n",
       "    <tr>\n",
       "      <th>19</th>\n",
       "      <td>Blues</td>\n",
       "      <td>0.020394</td>\n",
       "      <td>Country</td>\n",
       "      <td>0.017618</td>\n",
       "      <td>liveness</td>\n",
       "      <td>-0.040334</td>\n",
       "    </tr>\n",
       "    <tr>\n",
       "      <th>20</th>\n",
       "      <td>key_C#</td>\n",
       "      <td>0.017425</td>\n",
       "      <td>Jazz</td>\n",
       "      <td>0.017153</td>\n",
       "      <td>instrumentalness</td>\n",
       "      <td>-0.042670</td>\n",
       "    </tr>\n",
       "    <tr>\n",
       "      <th>21</th>\n",
       "      <td>time_signature_4/4</td>\n",
       "      <td>0.017337</td>\n",
       "      <td>key_G#</td>\n",
       "      <td>0.017010</td>\n",
       "      <td>Soundtrack</td>\n",
       "      <td>-0.056095</td>\n",
       "    </tr>\n",
       "    <tr>\n",
       "      <th>22</th>\n",
       "      <td>Country</td>\n",
       "      <td>0.016717</td>\n",
       "      <td>key_F#</td>\n",
       "      <td>0.015459</td>\n",
       "      <td>Comedy</td>\n",
       "      <td>-0.075320</td>\n",
       "    </tr>\n",
       "    <tr>\n",
       "      <th>23</th>\n",
       "      <td>World</td>\n",
       "      <td>0.016677</td>\n",
       "      <td>key_D#</td>\n",
       "      <td>0.011452</td>\n",
       "      <td>time_signature_3/4</td>\n",
       "      <td>-0.082948</td>\n",
       "    </tr>\n",
       "    <tr>\n",
       "      <th>24</th>\n",
       "      <td>tempo</td>\n",
       "      <td>0.016582</td>\n",
       "      <td>Rock</td>\n",
       "      <td>0.011072</td>\n",
       "      <td>valence</td>\n",
       "      <td>-0.097720</td>\n",
       "    </tr>\n",
       "    <tr>\n",
       "      <th>25</th>\n",
       "      <td>key_F</td>\n",
       "      <td>0.016250</td>\n",
       "      <td>Soul</td>\n",
       "      <td>0.010851</td>\n",
       "      <td>Classical</td>\n",
       "      <td>-0.103312</td>\n",
       "    </tr>\n",
       "    <tr>\n",
       "      <th>26</th>\n",
       "      <td>key_E</td>\n",
       "      <td>0.016020</td>\n",
       "      <td>Opera</td>\n",
       "      <td>0.008906</td>\n",
       "      <td>R&amp;B</td>\n",
       "      <td>-0.107484</td>\n",
       "    </tr>\n",
       "    <tr>\n",
       "      <th>27</th>\n",
       "      <td>key_B</td>\n",
       "      <td>0.015608</td>\n",
       "      <td>Folk</td>\n",
       "      <td>0.008619</td>\n",
       "      <td>Opera</td>\n",
       "      <td>-0.140450</td>\n",
       "    </tr>\n",
       "    <tr>\n",
       "      <th>28</th>\n",
       "      <td>Jazz</td>\n",
       "      <td>0.014793</td>\n",
       "      <td>Rap</td>\n",
       "      <td>0.008345</td>\n",
       "      <td>key_D#</td>\n",
       "      <td>-0.146706</td>\n",
       "    </tr>\n",
       "    <tr>\n",
       "      <th>29</th>\n",
       "      <td>Soul</td>\n",
       "      <td>0.014269</td>\n",
       "      <td>Classical</td>\n",
       "      <td>0.007541</td>\n",
       "      <td>Children's Music</td>\n",
       "      <td>-0.150627</td>\n",
       "    </tr>\n",
       "    <tr>\n",
       "      <th>30</th>\n",
       "      <td>key_A#</td>\n",
       "      <td>0.013765</td>\n",
       "      <td>R&amp;B</td>\n",
       "      <td>0.006807</td>\n",
       "      <td>Jazz</td>\n",
       "      <td>-0.165628</td>\n",
       "    </tr>\n",
       "    <tr>\n",
       "      <th>31</th>\n",
       "      <td>key_G#</td>\n",
       "      <td>0.013732</td>\n",
       "      <td>Soundtrack</td>\n",
       "      <td>0.006583</td>\n",
       "      <td>Soul</td>\n",
       "      <td>-0.177035</td>\n",
       "    </tr>\n",
       "    <tr>\n",
       "      <th>32</th>\n",
       "      <td>Rap</td>\n",
       "      <td>0.013512</td>\n",
       "      <td>Children's Music</td>\n",
       "      <td>0.006214</td>\n",
       "      <td>Folk</td>\n",
       "      <td>-0.178005</td>\n",
       "    </tr>\n",
       "    <tr>\n",
       "      <th>33</th>\n",
       "      <td>Movie</td>\n",
       "      <td>0.012420</td>\n",
       "      <td>acousticness</td>\n",
       "      <td>0.005366</td>\n",
       "      <td>key_F#</td>\n",
       "      <td>-0.198849</td>\n",
       "    </tr>\n",
       "    <tr>\n",
       "      <th>34</th>\n",
       "      <td>key_F#</td>\n",
       "      <td>0.012048</td>\n",
       "      <td>Hip-Hop</td>\n",
       "      <td>0.003538</td>\n",
       "      <td>Electronic</td>\n",
       "      <td>-0.203210</td>\n",
       "    </tr>\n",
       "    <tr>\n",
       "      <th>35</th>\n",
       "      <td>Folk</td>\n",
       "      <td>0.011505</td>\n",
       "      <td>A Capella</td>\n",
       "      <td>0.003390</td>\n",
       "      <td>key_A#</td>\n",
       "      <td>-0.214184</td>\n",
       "    </tr>\n",
       "    <tr>\n",
       "      <th>36</th>\n",
       "      <td>Comedy</td>\n",
       "      <td>0.009459</td>\n",
       "      <td>Indie</td>\n",
       "      <td>0.002931</td>\n",
       "      <td>key_G#</td>\n",
       "      <td>-0.217816</td>\n",
       "    </tr>\n",
       "    <tr>\n",
       "      <th>37</th>\n",
       "      <td>R&amp;B</td>\n",
       "      <td>0.009058</td>\n",
       "      <td>Alternative</td>\n",
       "      <td>0.002512</td>\n",
       "      <td>key_B</td>\n",
       "      <td>-0.232799</td>\n",
       "    </tr>\n",
       "    <tr>\n",
       "      <th>38</th>\n",
       "      <td>Children's Music</td>\n",
       "      <td>0.008871</td>\n",
       "      <td>instrumentalness</td>\n",
       "      <td>0.002380</td>\n",
       "      <td>key_E</td>\n",
       "      <td>-0.235655</td>\n",
       "    </tr>\n",
       "    <tr>\n",
       "      <th>39</th>\n",
       "      <td>time_signature_3/4</td>\n",
       "      <td>0.008178</td>\n",
       "      <td>loudness</td>\n",
       "      <td>0.001734</td>\n",
       "      <td>Movie</td>\n",
       "      <td>-0.240681</td>\n",
       "    </tr>\n",
       "    <tr>\n",
       "      <th>40</th>\n",
       "      <td>Hip-Hop</td>\n",
       "      <td>0.006198</td>\n",
       "      <td>Dance</td>\n",
       "      <td>0.001682</td>\n",
       "      <td>key_F</td>\n",
       "      <td>-0.245327</td>\n",
       "    </tr>\n",
       "    <tr>\n",
       "      <th>41</th>\n",
       "      <td>Indie</td>\n",
       "      <td>0.006080</td>\n",
       "      <td>time_signature_1/4</td>\n",
       "      <td>0.001456</td>\n",
       "      <td>key_C#</td>\n",
       "      <td>-0.245345</td>\n",
       "    </tr>\n",
       "    <tr>\n",
       "      <th>42</th>\n",
       "      <td>key_D#</td>\n",
       "      <td>0.006018</td>\n",
       "      <td>speechiness</td>\n",
       "      <td>0.000771</td>\n",
       "      <td>World</td>\n",
       "      <td>-0.247189</td>\n",
       "    </tr>\n",
       "    <tr>\n",
       "      <th>43</th>\n",
       "      <td>Alternative</td>\n",
       "      <td>0.005233</td>\n",
       "      <td>energy</td>\n",
       "      <td>0.000751</td>\n",
       "      <td>Country</td>\n",
       "      <td>-0.253770</td>\n",
       "    </tr>\n",
       "    <tr>\n",
       "      <th>44</th>\n",
       "      <td>Dance</td>\n",
       "      <td>0.004591</td>\n",
       "      <td>danceability</td>\n",
       "      <td>0.000741</td>\n",
       "      <td>Blues</td>\n",
       "      <td>-0.259086</td>\n",
       "    </tr>\n",
       "    <tr>\n",
       "      <th>45</th>\n",
       "      <td>Soundtrack</td>\n",
       "      <td>0.004552</td>\n",
       "      <td>duration_ms</td>\n",
       "      <td>0.000706</td>\n",
       "      <td>Reggaeton</td>\n",
       "      <td>-0.265262</td>\n",
       "    </tr>\n",
       "    <tr>\n",
       "      <th>46</th>\n",
       "      <td>Classical</td>\n",
       "      <td>0.004386</td>\n",
       "      <td>liveness</td>\n",
       "      <td>0.000661</td>\n",
       "      <td>key_G</td>\n",
       "      <td>-0.279556</td>\n",
       "    </tr>\n",
       "    <tr>\n",
       "      <th>47</th>\n",
       "      <td>Opera</td>\n",
       "      <td>0.004076</td>\n",
       "      <td>valence</td>\n",
       "      <td>0.000645</td>\n",
       "      <td>key_D</td>\n",
       "      <td>-0.280966</td>\n",
       "    </tr>\n",
       "    <tr>\n",
       "      <th>48</th>\n",
       "      <td>mode_Minor</td>\n",
       "      <td>0.003241</td>\n",
       "      <td>time_signature_5/4</td>\n",
       "      <td>0.000507</td>\n",
       "      <td>Anime</td>\n",
       "      <td>-0.291580</td>\n",
       "    </tr>\n",
       "    <tr>\n",
       "      <th>49</th>\n",
       "      <td>time_signature_5/4</td>\n",
       "      <td>0.000374</td>\n",
       "      <td>mode_Minor</td>\n",
       "      <td>0.000457</td>\n",
       "      <td>Reggae</td>\n",
       "      <td>-0.296104</td>\n",
       "    </tr>\n",
       "    <tr>\n",
       "      <th>50</th>\n",
       "      <td>time_signature_1/4</td>\n",
       "      <td>0.000124</td>\n",
       "      <td>time_signature_3/4</td>\n",
       "      <td>0.000401</td>\n",
       "      <td>key_C</td>\n",
       "      <td>-0.296984</td>\n",
       "    </tr>\n",
       "    <tr>\n",
       "      <th>51</th>\n",
       "      <td>A Capella</td>\n",
       "      <td>0.000049</td>\n",
       "      <td>tempo</td>\n",
       "      <td>0.000339</td>\n",
       "      <td>Ska</td>\n",
       "      <td>-0.313558</td>\n",
       "    </tr>\n",
       "  </tbody>\n",
       "</table>\n",
       "</div>"
      ],
      "text/plain": [
       "          RF-Attribute  RF-Importance       XGB-Attribute  XGB-Importance  \\\n",
       "0                  Pop       0.170450                 Pop        0.338478   \n",
       "1         acousticness       0.058465               Blues        0.044411   \n",
       "2             loudness       0.042098                 Ska        0.041425   \n",
       "3     instrumentalness       0.035188               Anime        0.038448   \n",
       "4               energy       0.030445          Electronic        0.035823   \n",
       "5          speechiness       0.027606               key_F        0.030206   \n",
       "6               Reggae       0.025547              Reggae        0.028680   \n",
       "7                  Ska       0.025070           Reggaeton        0.028236   \n",
       "8         danceability       0.024540               World        0.026180   \n",
       "9              valence       0.023421              Comedy        0.022677   \n",
       "10                Rock       0.023300  time_signature_4/4        0.022424   \n",
       "11         duration_ms       0.022952               key_G        0.021797   \n",
       "12               Anime       0.022609               key_D        0.021443   \n",
       "13               key_C       0.022232               key_E        0.020443   \n",
       "14          Electronic       0.022210               key_B        0.019590   \n",
       "15           Reggaeton       0.022066               Movie        0.019176   \n",
       "16               key_G       0.020926               key_C        0.019146   \n",
       "17               key_D       0.020827              key_C#        0.018567   \n",
       "18            liveness       0.020508              key_A#        0.018249   \n",
       "19               Blues       0.020394             Country        0.017618   \n",
       "20              key_C#       0.017425                Jazz        0.017153   \n",
       "21  time_signature_4/4       0.017337              key_G#        0.017010   \n",
       "22             Country       0.016717              key_F#        0.015459   \n",
       "23               World       0.016677              key_D#        0.011452   \n",
       "24               tempo       0.016582                Rock        0.011072   \n",
       "25               key_F       0.016250                Soul        0.010851   \n",
       "26               key_E       0.016020               Opera        0.008906   \n",
       "27               key_B       0.015608                Folk        0.008619   \n",
       "28                Jazz       0.014793                 Rap        0.008345   \n",
       "29                Soul       0.014269           Classical        0.007541   \n",
       "30              key_A#       0.013765                 R&B        0.006807   \n",
       "31              key_G#       0.013732          Soundtrack        0.006583   \n",
       "32                 Rap       0.013512    Children's Music        0.006214   \n",
       "33               Movie       0.012420        acousticness        0.005366   \n",
       "34              key_F#       0.012048             Hip-Hop        0.003538   \n",
       "35                Folk       0.011505           A Capella        0.003390   \n",
       "36              Comedy       0.009459               Indie        0.002931   \n",
       "37                 R&B       0.009058         Alternative        0.002512   \n",
       "38    Children's Music       0.008871    instrumentalness        0.002380   \n",
       "39  time_signature_3/4       0.008178            loudness        0.001734   \n",
       "40             Hip-Hop       0.006198               Dance        0.001682   \n",
       "41               Indie       0.006080  time_signature_1/4        0.001456   \n",
       "42              key_D#       0.006018         speechiness        0.000771   \n",
       "43         Alternative       0.005233              energy        0.000751   \n",
       "44               Dance       0.004591        danceability        0.000741   \n",
       "45          Soundtrack       0.004552         duration_ms        0.000706   \n",
       "46           Classical       0.004386            liveness        0.000661   \n",
       "47               Opera       0.004076             valence        0.000645   \n",
       "48          mode_Minor       0.003241  time_signature_5/4        0.000507   \n",
       "49  time_signature_5/4       0.000374          mode_Minor        0.000457   \n",
       "50  time_signature_1/4       0.000124  time_signature_3/4        0.000401   \n",
       "51           A Capella       0.000049               tempo        0.000339   \n",
       "\n",
       "      LogReg-Attribute  LogReg-Importance  \n",
       "0                  Pop           0.602770  \n",
       "1                 Rock           0.309627  \n",
       "2         danceability           0.117183  \n",
       "3             loudness           0.102000  \n",
       "4                  Rap           0.097957  \n",
       "5   time_signature_4/4           0.088191  \n",
       "6                Dance           0.066667  \n",
       "7          duration_ms           0.023599  \n",
       "8              Hip-Hop           0.014992  \n",
       "9          speechiness          -0.005829  \n",
       "10               tempo          -0.011091  \n",
       "11  time_signature_1/4          -0.023202  \n",
       "12               Indie          -0.023943  \n",
       "13        acousticness          -0.026369  \n",
       "14         Alternative          -0.029341  \n",
       "15  time_signature_5/4          -0.030763  \n",
       "16              energy          -0.031187  \n",
       "17           A Capella          -0.034542  \n",
       "18          mode_Minor          -0.037862  \n",
       "19            liveness          -0.040334  \n",
       "20    instrumentalness          -0.042670  \n",
       "21          Soundtrack          -0.056095  \n",
       "22              Comedy          -0.075320  \n",
       "23  time_signature_3/4          -0.082948  \n",
       "24             valence          -0.097720  \n",
       "25           Classical          -0.103312  \n",
       "26                 R&B          -0.107484  \n",
       "27               Opera          -0.140450  \n",
       "28              key_D#          -0.146706  \n",
       "29    Children's Music          -0.150627  \n",
       "30                Jazz          -0.165628  \n",
       "31                Soul          -0.177035  \n",
       "32                Folk          -0.178005  \n",
       "33              key_F#          -0.198849  \n",
       "34          Electronic          -0.203210  \n",
       "35              key_A#          -0.214184  \n",
       "36              key_G#          -0.217816  \n",
       "37               key_B          -0.232799  \n",
       "38               key_E          -0.235655  \n",
       "39               Movie          -0.240681  \n",
       "40               key_F          -0.245327  \n",
       "41              key_C#          -0.245345  \n",
       "42               World          -0.247189  \n",
       "43             Country          -0.253770  \n",
       "44               Blues          -0.259086  \n",
       "45           Reggaeton          -0.265262  \n",
       "46               key_G          -0.279556  \n",
       "47               key_D          -0.280966  \n",
       "48               Anime          -0.291580  \n",
       "49              Reggae          -0.296104  \n",
       "50               key_C          -0.296984  \n",
       "51                 Ska          -0.313558  "
      ]
     },
     "execution_count": 79,
     "metadata": {},
     "output_type": "execute_result"
    }
   ],
   "source": [
    "#Concatenating feature importances into a single dataframe\n",
    "importances_df = pd.concat([rf_importances_df, xgb_importances_df, logregcv_importances_df], axis=1)\n",
    "importances_df"
   ]
  },
  {
   "cell_type": "markdown",
   "metadata": {},
   "source": [
    "## Feature Importance Comparison"
   ]
  },
  {
   "cell_type": "code",
   "execution_count": 80,
   "metadata": {
    "ExecuteTime": {
     "end_time": "2021-05-31T00:15:51.674391Z",
     "start_time": "2021-05-31T00:15:50.692957Z"
    }
   },
   "outputs": [
    {
     "data": {
      "image/png": "[encoded data removed]",
      "text/plain": [
       "<Figure size 1080x360 with 3 Axes>"
      ]
     },
     "metadata": {
      "needs_background": "light"
     },
     "output_type": "display_data"
    }
   ],
   "source": [
    "#plotting feature importances for all models for comparison\n",
    "\n",
    "fig, ax = plt.subplots(ncols=3, figsize=(15,5))\n",
    "\n",
    "rf_importances_df = rf_importances_df.sort_values(by='RF-Importance', ascending=True).tail(10)\n",
    "ax[0].barh(rf_importances_df['RF-Attribute'], rf_importances_df['RF-Importance'])\n",
    "ax[0].set_title('Feature Importances: Random Forest')\n",
    "\n",
    "xgb_importances_df = xgb_importances_df.sort_values(by='XGB-Importance', ascending=True).tail(10)\n",
    "ax[1].barh(xgb_importances_df['XGB-Attribute'], xgb_importances_df['XGB-Importance'])\n",
    "ax[1].set_title('Feature Importances: XGBoost')\n",
    "\n",
    "logregcv_importances_df = logregcv_importances_df.sort_values(by='LogReg-Importance', ascending=True).tail(10)\n",
    "ax[2].barh(logregcv_importances_df['LogReg-Attribute'], logregcv_importances_df['LogReg-Importance'])\n",
    "ax[2].set_title('Feature Importances: LogisticRegressionCV')\n",
    "plt.tight_layout()"
   ]
  },
  {
   "cell_type": "markdown",
   "metadata": {},
   "source": [
    "Among the 3 models we built we can see that Genre of a song has the highest effect on the popularity of a song. On all 3 models, a song having Pop as its genre had the most impact on its popularity. This makes sense since Pop songs by nature are considered popular. Among the rest of the features shown above, different attribute scores such as danceability, energy, different genres and acousticness play a major role. Next, we can inspect the full gamut of the feature importances for logistic regression for reference."
   ]
  },
  {
   "cell_type": "code",
   "execution_count": 81,
   "metadata": {
    "ExecuteTime": {
     "end_time": "2021-05-31T00:15:53.046511Z",
     "start_time": "2021-05-31T00:15:51.676356Z"
    }
   },
   "outputs": [
    {
     "data": {
      "text/plain": [
       "<BarContainer object of 52 artists>"
      ]
     },
     "execution_count": 81,
     "metadata": {},
     "output_type": "execute_result"
    },
    {
     "data": {
      "image/png": "[encoded data removed]",
      "text/plain": [
       "<Figure size 720x1080 with 1 Axes>"
      ]
     },
     "metadata": {
      "needs_background": "light"
     },
     "output_type": "display_data"
    }
   ],
   "source": [
    "logregcv_importances_df = pd.Series(clf_logregcv_tuned.coef_[0], index=X_train.columns).sort_values(ascending=False)\n",
    "#parsing the series to a dataframe\n",
    "logregcv_importances_df = logregcv_importances_df.reset_index()\n",
    "logregcv_importances_df.columns = ['Attribute', 'Importance']\n",
    "\n",
    "fig, ax = plt.subplots(figsize=(10,15))\n",
    "ax.barh(logregcv_importances_df['Attribute'], logregcv_importances_df['Importance'])"
   ]
  },
  {
   "cell_type": "markdown",
   "metadata": {},
   "source": [
    "We can see here that while certain features like 'Pop', 'Rock' and 'danceability' positively affected the prediction, other features such as 'Ska', 'Anime' and 'key_G' negatively affected it. Next we can dive into our processed dataframe and explore some of these attributes for popular and unpopular songs to come to conclusions."
   ]
  },
  {
   "cell_type": "markdown",
   "metadata": {},
   "source": [
    "## Data Visualizations"
   ]
  },
  {
   "cell_type": "markdown",
   "metadata": {},
   "source": [
    "### Genre"
   ]
  },
  {
   "cell_type": "code",
   "execution_count": 82,
   "metadata": {
    "ExecuteTime": {
     "end_time": "2021-05-31T00:15:53.141448Z",
     "start_time": "2021-05-31T00:15:53.048492Z"
    }
   },
   "outputs": [],
   "source": [
    "#separating popular and unpopular songs to two dfs\n",
    "popular_songs_df = df_ohe[df_ohe['is_popular'] == 1]\n",
    "unpopular_songs_df = df_ohe[df_ohe['is_popular']==0]"
   ]
  },
  {
   "cell_type": "code",
   "execution_count": 83,
   "metadata": {
    "ExecuteTime": {
     "end_time": "2021-05-31T00:15:53.172428Z",
     "start_time": "2021-05-31T00:15:53.142432Z"
    }
   },
   "outputs": [
    {
     "data": {
      "text/html": [
       "<div>\n",
       "<style scoped>\n",
       "    .dataframe tbody tr th:only-of-type {\n",
       "        vertical-align: middle;\n",
       "    }\n",
       "\n",
       "    .dataframe tbody tr th {\n",
       "        vertical-align: top;\n",
       "    }\n",
       "\n",
       "    .dataframe thead th {\n",
       "        text-align: right;\n",
       "    }\n",
       "</style>\n",
       "<table border=\"1\" class=\"dataframe\">\n",
       "  <thead>\n",
       "    <tr style=\"text-align: right;\">\n",
       "      <th></th>\n",
       "      <th>genre</th>\n",
       "      <th>count</th>\n",
       "    </tr>\n",
       "  </thead>\n",
       "  <tbody>\n",
       "    <tr>\n",
       "      <th>0</th>\n",
       "      <td>Pop</td>\n",
       "      <td>8845</td>\n",
       "    </tr>\n",
       "    <tr>\n",
       "      <th>1</th>\n",
       "      <td>Rap</td>\n",
       "      <td>5440</td>\n",
       "    </tr>\n",
       "    <tr>\n",
       "      <th>2</th>\n",
       "      <td>Rock</td>\n",
       "      <td>5332</td>\n",
       "    </tr>\n",
       "    <tr>\n",
       "      <th>3</th>\n",
       "      <td>Hip-Hop</td>\n",
       "      <td>4483</td>\n",
       "    </tr>\n",
       "    <tr>\n",
       "      <th>4</th>\n",
       "      <td>Dance</td>\n",
       "      <td>4151</td>\n",
       "    </tr>\n",
       "    <tr>\n",
       "      <th>5</th>\n",
       "      <td>Indie</td>\n",
       "      <td>3096</td>\n",
       "    </tr>\n",
       "    <tr>\n",
       "      <th>6</th>\n",
       "      <td>Children's Music</td>\n",
       "      <td>3079</td>\n",
       "    </tr>\n",
       "    <tr>\n",
       "      <th>7</th>\n",
       "      <td>Alternative</td>\n",
       "      <td>2713</td>\n",
       "    </tr>\n",
       "    <tr>\n",
       "      <th>8</th>\n",
       "      <td>R&amp;B</td>\n",
       "      <td>2347</td>\n",
       "    </tr>\n",
       "    <tr>\n",
       "      <th>9</th>\n",
       "      <td>Folk</td>\n",
       "      <td>1658</td>\n",
       "    </tr>\n",
       "    <tr>\n",
       "      <th>10</th>\n",
       "      <td>Soul</td>\n",
       "      <td>1205</td>\n",
       "    </tr>\n",
       "    <tr>\n",
       "      <th>11</th>\n",
       "      <td>Country</td>\n",
       "      <td>1088</td>\n",
       "    </tr>\n",
       "    <tr>\n",
       "      <th>12</th>\n",
       "      <td>Reggaeton</td>\n",
       "      <td>841</td>\n",
       "    </tr>\n",
       "    <tr>\n",
       "      <th>13</th>\n",
       "      <td>Blues</td>\n",
       "      <td>398</td>\n",
       "    </tr>\n",
       "    <tr>\n",
       "      <th>14</th>\n",
       "      <td>Jazz</td>\n",
       "      <td>368</td>\n",
       "    </tr>\n",
       "    <tr>\n",
       "      <th>15</th>\n",
       "      <td>Electronic</td>\n",
       "      <td>333</td>\n",
       "    </tr>\n",
       "    <tr>\n",
       "      <th>16</th>\n",
       "      <td>Reggae</td>\n",
       "      <td>301</td>\n",
       "    </tr>\n",
       "    <tr>\n",
       "      <th>17</th>\n",
       "      <td>World</td>\n",
       "      <td>221</td>\n",
       "    </tr>\n",
       "    <tr>\n",
       "      <th>18</th>\n",
       "      <td>Ska</td>\n",
       "      <td>120</td>\n",
       "    </tr>\n",
       "    <tr>\n",
       "      <th>19</th>\n",
       "      <td>Soundtrack</td>\n",
       "      <td>102</td>\n",
       "    </tr>\n",
       "    <tr>\n",
       "      <th>20</th>\n",
       "      <td>Classical</td>\n",
       "      <td>87</td>\n",
       "    </tr>\n",
       "    <tr>\n",
       "      <th>21</th>\n",
       "      <td>Movie</td>\n",
       "      <td>69</td>\n",
       "    </tr>\n",
       "    <tr>\n",
       "      <th>22</th>\n",
       "      <td>Anime</td>\n",
       "      <td>35</td>\n",
       "    </tr>\n",
       "    <tr>\n",
       "      <th>23</th>\n",
       "      <td>Opera</td>\n",
       "      <td>3</td>\n",
       "    </tr>\n",
       "    <tr>\n",
       "      <th>24</th>\n",
       "      <td>Comedy</td>\n",
       "      <td>1</td>\n",
       "    </tr>\n",
       "    <tr>\n",
       "      <th>25</th>\n",
       "      <td>A Capella</td>\n",
       "      <td>0</td>\n",
       "    </tr>\n",
       "  </tbody>\n",
       "</table>\n",
       "</div>"
      ],
      "text/plain": [
       "               genre  count\n",
       "0                Pop   8845\n",
       "1                Rap   5440\n",
       "2               Rock   5332\n",
       "3            Hip-Hop   4483\n",
       "4              Dance   4151\n",
       "5              Indie   3096\n",
       "6   Children's Music   3079\n",
       "7        Alternative   2713\n",
       "8                R&B   2347\n",
       "9               Folk   1658\n",
       "10              Soul   1205\n",
       "11           Country   1088\n",
       "12         Reggaeton    841\n",
       "13             Blues    398\n",
       "14              Jazz    368\n",
       "15        Electronic    333\n",
       "16            Reggae    301\n",
       "17             World    221\n",
       "18               Ska    120\n",
       "19        Soundtrack    102\n",
       "20         Classical     87\n",
       "21             Movie     69\n",
       "22             Anime     35\n",
       "23             Opera      3\n",
       "24            Comedy      1\n",
       "25         A Capella      0"
      ]
     },
     "execution_count": 83,
     "metadata": {},
     "output_type": "execute_result"
    }
   ],
   "source": [
    "#checking for genre occurence counts for popular songs\n",
    "popular_genre_df = popular_songs_df.iloc[:, 10:36].agg('sum').sort_values(ascending=False).reset_index()\n",
    "popular_genre_df.columns = ['genre', 'count']\n",
    "popular_genre_df"
   ]
  },
  {
   "cell_type": "code",
   "execution_count": 84,
   "metadata": {
    "ExecuteTime": {
     "end_time": "2021-05-31T00:15:53.390293Z",
     "start_time": "2021-05-31T00:15:53.174413Z"
    }
   },
   "outputs": [
    {
     "data": {
      "image/png": "[encoded data removed]",
      "text/plain": [
       "<Figure size 720x504 with 1 Axes>"
      ]
     },
     "metadata": {
      "needs_background": "light"
     },
     "output_type": "display_data"
    }
   ],
   "source": [
    "fig, ax = plt.subplots(figsize=(10, 7))\n",
    "sns.barplot(x=popular_genre_df['genre'].head(5), y=popular_genre_df['count'].head(5), \n",
    "           palette='dark:seagreen_r')\n",
    "\n",
    "ax=plt.gca()\n",
    "ax.set_xlabel('Genre')\n",
    "ax.set_ylabel('Count')\n",
    "ax.set_title('Top 5 Most Frequent Genres Among Popular Songs')\n",
    "plt.tight_layout();\n",
    "# plt.savefig('images/genre-popular.jpg')"
   ]
  },
  {
   "cell_type": "markdown",
   "metadata": {},
   "source": [
    "Above bar graph shows us the most frequent genres among popular songs. As we discussed above, most popular songs have Pop as their genre followed by Rap, Rock, Hip-Hop and Dance. These results make sense and are in-line with a survey conducted by IFPI (https://www.statista.com/chart/15763/most-popular-music-genres-worldwide/)."
   ]
  },
  {
   "cell_type": "code",
   "execution_count": 85,
   "metadata": {
    "ExecuteTime": {
     "end_time": "2021-05-31T00:15:53.436263Z",
     "start_time": "2021-05-31T00:15:53.392277Z"
    }
   },
   "outputs": [
    {
     "data": {
      "text/html": [
       "<div>\n",
       "<style scoped>\n",
       "    .dataframe tbody tr th:only-of-type {\n",
       "        vertical-align: middle;\n",
       "    }\n",
       "\n",
       "    .dataframe tbody tr th {\n",
       "        vertical-align: top;\n",
       "    }\n",
       "\n",
       "    .dataframe thead th {\n",
       "        text-align: right;\n",
       "    }\n",
       "</style>\n",
       "<table border=\"1\" class=\"dataframe\">\n",
       "  <thead>\n",
       "    <tr style=\"text-align: right;\">\n",
       "      <th></th>\n",
       "      <th>genre</th>\n",
       "      <th>count</th>\n",
       "    </tr>\n",
       "  </thead>\n",
       "  <tbody>\n",
       "    <tr>\n",
       "      <th>0</th>\n",
       "      <td>Children's Music</td>\n",
       "      <td>11677</td>\n",
       "    </tr>\n",
       "    <tr>\n",
       "      <th>1</th>\n",
       "      <td>Comedy</td>\n",
       "      <td>9680</td>\n",
       "    </tr>\n",
       "    <tr>\n",
       "      <th>2</th>\n",
       "      <td>Soundtrack</td>\n",
       "      <td>9544</td>\n",
       "    </tr>\n",
       "    <tr>\n",
       "      <th>3</th>\n",
       "      <td>Classical</td>\n",
       "      <td>9169</td>\n",
       "    </tr>\n",
       "    <tr>\n",
       "      <th>4</th>\n",
       "      <td>Jazz</td>\n",
       "      <td>9073</td>\n",
       "    </tr>\n",
       "    <tr>\n",
       "      <th>5</th>\n",
       "      <td>Electronic</td>\n",
       "      <td>9044</td>\n",
       "    </tr>\n",
       "    <tr>\n",
       "      <th>6</th>\n",
       "      <td>Anime</td>\n",
       "      <td>8901</td>\n",
       "    </tr>\n",
       "    <tr>\n",
       "      <th>7</th>\n",
       "      <td>World</td>\n",
       "      <td>8875</td>\n",
       "    </tr>\n",
       "    <tr>\n",
       "      <th>8</th>\n",
       "      <td>Ska</td>\n",
       "      <td>8754</td>\n",
       "    </tr>\n",
       "    <tr>\n",
       "      <th>9</th>\n",
       "      <td>Blues</td>\n",
       "      <td>8625</td>\n",
       "    </tr>\n",
       "    <tr>\n",
       "      <th>10</th>\n",
       "      <td>Reggae</td>\n",
       "      <td>8470</td>\n",
       "    </tr>\n",
       "    <tr>\n",
       "      <th>11</th>\n",
       "      <td>Opera</td>\n",
       "      <td>8277</td>\n",
       "    </tr>\n",
       "    <tr>\n",
       "      <th>12</th>\n",
       "      <td>Reggaeton</td>\n",
       "      <td>8086</td>\n",
       "    </tr>\n",
       "    <tr>\n",
       "      <th>13</th>\n",
       "      <td>Soul</td>\n",
       "      <td>7884</td>\n",
       "    </tr>\n",
       "    <tr>\n",
       "      <th>14</th>\n",
       "      <td>Movie</td>\n",
       "      <td>7737</td>\n",
       "    </tr>\n",
       "    <tr>\n",
       "      <th>15</th>\n",
       "      <td>Folk</td>\n",
       "      <td>7641</td>\n",
       "    </tr>\n",
       "    <tr>\n",
       "      <th>16</th>\n",
       "      <td>Country</td>\n",
       "      <td>7576</td>\n",
       "    </tr>\n",
       "    <tr>\n",
       "      <th>17</th>\n",
       "      <td>R&amp;B</td>\n",
       "      <td>6645</td>\n",
       "    </tr>\n",
       "    <tr>\n",
       "      <th>18</th>\n",
       "      <td>Alternative</td>\n",
       "      <td>6550</td>\n",
       "    </tr>\n",
       "    <tr>\n",
       "      <th>19</th>\n",
       "      <td>Indie</td>\n",
       "      <td>6447</td>\n",
       "    </tr>\n",
       "    <tr>\n",
       "      <th>20</th>\n",
       "      <td>Hip-Hop</td>\n",
       "      <td>4812</td>\n",
       "    </tr>\n",
       "    <tr>\n",
       "      <th>21</th>\n",
       "      <td>Dance</td>\n",
       "      <td>4550</td>\n",
       "    </tr>\n",
       "    <tr>\n",
       "      <th>22</th>\n",
       "      <td>Rock</td>\n",
       "      <td>3940</td>\n",
       "    </tr>\n",
       "    <tr>\n",
       "      <th>23</th>\n",
       "      <td>Rap</td>\n",
       "      <td>3792</td>\n",
       "    </tr>\n",
       "    <tr>\n",
       "      <th>24</th>\n",
       "      <td>Pop</td>\n",
       "      <td>541</td>\n",
       "    </tr>\n",
       "    <tr>\n",
       "      <th>25</th>\n",
       "      <td>A Capella</td>\n",
       "      <td>119</td>\n",
       "    </tr>\n",
       "  </tbody>\n",
       "</table>\n",
       "</div>"
      ],
      "text/plain": [
       "               genre  count\n",
       "0   Children's Music  11677\n",
       "1             Comedy   9680\n",
       "2         Soundtrack   9544\n",
       "3          Classical   9169\n",
       "4               Jazz   9073\n",
       "5         Electronic   9044\n",
       "6              Anime   8901\n",
       "7              World   8875\n",
       "8                Ska   8754\n",
       "9              Blues   8625\n",
       "10            Reggae   8470\n",
       "11             Opera   8277\n",
       "12         Reggaeton   8086\n",
       "13              Soul   7884\n",
       "14             Movie   7737\n",
       "15              Folk   7641\n",
       "16           Country   7576\n",
       "17               R&B   6645\n",
       "18       Alternative   6550\n",
       "19             Indie   6447\n",
       "20           Hip-Hop   4812\n",
       "21             Dance   4550\n",
       "22              Rock   3940\n",
       "23               Rap   3792\n",
       "24               Pop    541\n",
       "25         A Capella    119"
      ]
     },
     "execution_count": 85,
     "metadata": {},
     "output_type": "execute_result"
    }
   ],
   "source": [
    "#checking for genre occurence counts for unpopular songs\n",
    "unpopular_genre_df = unpopular_songs_df.iloc[:, 10:36].agg('sum').sort_values(ascending=False).reset_index()\n",
    "unpopular_genre_df.columns = ['genre', 'count']\n",
    "unpopular_genre_df"
   ]
  },
  {
   "cell_type": "code",
   "execution_count": 86,
   "metadata": {
    "ExecuteTime": {
     "end_time": "2021-05-31T00:15:53.671103Z",
     "start_time": "2021-05-31T00:15:53.438250Z"
    }
   },
   "outputs": [
    {
     "data": {
      "image/png": "[encoded data removed]",
      "text/plain": [
       "<Figure size 720x504 with 1 Axes>"
      ]
     },
     "metadata": {
      "needs_background": "light"
     },
     "output_type": "display_data"
    }
   ],
   "source": [
    "fig, ax = plt.subplots(figsize=(10,7))\n",
    "sns.barplot(x=unpopular_genre_df['genre'].head(5), y=unpopular_genre_df['count'].head(5), \n",
    "           palette='dark:#5A9_r')\n",
    "\n",
    "ax=plt.gca()\n",
    "ax.set_xlabel('Genre')\n",
    "ax.set_ylabel('Count')\n",
    "ax.set_title('Top 5 Most Frequent Genres Among Unpopular Songs')\n",
    "plt.tight_layout();\n",
    "# plt.savefig('images/genre-unpopular.jpg')\n",
    "# ax.set_xticklabels(ax.get_xticklabels(), rotation=45,ha='center');"
   ]
  },
  {
   "cell_type": "markdown",
   "metadata": {},
   "source": [
    "The most frequent genres of unpopular songs can be seen above. The results make sense as these genres tend to have a more niche fanbase or as in the case of \"Children's Music\" are listened to infrequently."
   ]
  },
  {
   "cell_type": "code",
   "execution_count": 87,
   "metadata": {
    "ExecuteTime": {
     "end_time": "2021-05-31T00:15:53.686095Z",
     "start_time": "2021-05-31T00:15:53.673103Z"
    }
   },
   "outputs": [
    {
     "data": {
      "text/html": [
       "<div>\n",
       "<style scoped>\n",
       "    .dataframe tbody tr th:only-of-type {\n",
       "        vertical-align: middle;\n",
       "    }\n",
       "\n",
       "    .dataframe tbody tr th {\n",
       "        vertical-align: top;\n",
       "    }\n",
       "\n",
       "    .dataframe thead th {\n",
       "        text-align: right;\n",
       "    }\n",
       "</style>\n",
       "<table border=\"1\" class=\"dataframe\">\n",
       "  <thead>\n",
       "    <tr style=\"text-align: right;\">\n",
       "      <th></th>\n",
       "      <th>genre</th>\n",
       "      <th>count</th>\n",
       "    </tr>\n",
       "  </thead>\n",
       "  <tbody>\n",
       "    <tr>\n",
       "      <th>0</th>\n",
       "      <td>Pop</td>\n",
       "      <td>0.190971</td>\n",
       "    </tr>\n",
       "    <tr>\n",
       "      <th>1</th>\n",
       "      <td>Rap</td>\n",
       "      <td>0.117454</td>\n",
       "    </tr>\n",
       "    <tr>\n",
       "      <th>2</th>\n",
       "      <td>Rock</td>\n",
       "      <td>0.115122</td>\n",
       "    </tr>\n",
       "    <tr>\n",
       "      <th>3</th>\n",
       "      <td>Hip-Hop</td>\n",
       "      <td>0.096792</td>\n",
       "    </tr>\n",
       "    <tr>\n",
       "      <th>4</th>\n",
       "      <td>Dance</td>\n",
       "      <td>0.089623</td>\n",
       "    </tr>\n",
       "    <tr>\n",
       "      <th>5</th>\n",
       "      <td>Indie</td>\n",
       "      <td>0.066845</td>\n",
       "    </tr>\n",
       "    <tr>\n",
       "      <th>6</th>\n",
       "      <td>Children's Music</td>\n",
       "      <td>0.066478</td>\n",
       "    </tr>\n",
       "    <tr>\n",
       "      <th>7</th>\n",
       "      <td>Alternative</td>\n",
       "      <td>0.058576</td>\n",
       "    </tr>\n",
       "    <tr>\n",
       "      <th>8</th>\n",
       "      <td>R&amp;B</td>\n",
       "      <td>0.050674</td>\n",
       "    </tr>\n",
       "    <tr>\n",
       "      <th>9</th>\n",
       "      <td>Folk</td>\n",
       "      <td>0.035798</td>\n",
       "    </tr>\n",
       "    <tr>\n",
       "      <th>10</th>\n",
       "      <td>Soul</td>\n",
       "      <td>0.026017</td>\n",
       "    </tr>\n",
       "    <tr>\n",
       "      <th>11</th>\n",
       "      <td>Country</td>\n",
       "      <td>0.023491</td>\n",
       "    </tr>\n",
       "    <tr>\n",
       "      <th>12</th>\n",
       "      <td>Reggaeton</td>\n",
       "      <td>0.018158</td>\n",
       "    </tr>\n",
       "    <tr>\n",
       "      <th>13</th>\n",
       "      <td>Blues</td>\n",
       "      <td>0.008593</td>\n",
       "    </tr>\n",
       "    <tr>\n",
       "      <th>14</th>\n",
       "      <td>Jazz</td>\n",
       "      <td>0.007945</td>\n",
       "    </tr>\n",
       "    <tr>\n",
       "      <th>15</th>\n",
       "      <td>Electronic</td>\n",
       "      <td>0.007190</td>\n",
       "    </tr>\n",
       "    <tr>\n",
       "      <th>16</th>\n",
       "      <td>Reggae</td>\n",
       "      <td>0.006499</td>\n",
       "    </tr>\n",
       "    <tr>\n",
       "      <th>17</th>\n",
       "      <td>World</td>\n",
       "      <td>0.004772</td>\n",
       "    </tr>\n",
       "    <tr>\n",
       "      <th>18</th>\n",
       "      <td>Ska</td>\n",
       "      <td>0.002591</td>\n",
       "    </tr>\n",
       "    <tr>\n",
       "      <th>19</th>\n",
       "      <td>Soundtrack</td>\n",
       "      <td>0.002202</td>\n",
       "    </tr>\n",
       "    <tr>\n",
       "      <th>20</th>\n",
       "      <td>Classical</td>\n",
       "      <td>0.001878</td>\n",
       "    </tr>\n",
       "    <tr>\n",
       "      <th>21</th>\n",
       "      <td>Movie</td>\n",
       "      <td>0.001490</td>\n",
       "    </tr>\n",
       "    <tr>\n",
       "      <th>22</th>\n",
       "      <td>Anime</td>\n",
       "      <td>0.000756</td>\n",
       "    </tr>\n",
       "    <tr>\n",
       "      <th>23</th>\n",
       "      <td>Opera</td>\n",
       "      <td>0.000065</td>\n",
       "    </tr>\n",
       "    <tr>\n",
       "      <th>24</th>\n",
       "      <td>Comedy</td>\n",
       "      <td>0.000022</td>\n",
       "    </tr>\n",
       "    <tr>\n",
       "      <th>25</th>\n",
       "      <td>A Capella</td>\n",
       "      <td>0.000000</td>\n",
       "    </tr>\n",
       "  </tbody>\n",
       "</table>\n",
       "</div>"
      ],
      "text/plain": [
       "               genre     count\n",
       "0                Pop  0.190971\n",
       "1                Rap  0.117454\n",
       "2               Rock  0.115122\n",
       "3            Hip-Hop  0.096792\n",
       "4              Dance  0.089623\n",
       "5              Indie  0.066845\n",
       "6   Children's Music  0.066478\n",
       "7        Alternative  0.058576\n",
       "8                R&B  0.050674\n",
       "9               Folk  0.035798\n",
       "10              Soul  0.026017\n",
       "11           Country  0.023491\n",
       "12         Reggaeton  0.018158\n",
       "13             Blues  0.008593\n",
       "14              Jazz  0.007945\n",
       "15        Electronic  0.007190\n",
       "16            Reggae  0.006499\n",
       "17             World  0.004772\n",
       "18               Ska  0.002591\n",
       "19        Soundtrack  0.002202\n",
       "20         Classical  0.001878\n",
       "21             Movie  0.001490\n",
       "22             Anime  0.000756\n",
       "23             Opera  0.000065\n",
       "24            Comedy  0.000022\n",
       "25         A Capella  0.000000"
      ]
     },
     "execution_count": 87,
     "metadata": {},
     "output_type": "execute_result"
    }
   ],
   "source": [
    "#displaying percentages for each genre\n",
    "popular_genre_df['count']=popular_genre_df['count']/popular_genre_df['count'].sum()\n",
    "popular_genre_df"
   ]
  },
  {
   "cell_type": "code",
   "execution_count": 88,
   "metadata": {
    "ExecuteTime": {
     "end_time": "2021-05-31T00:15:53.717075Z",
     "start_time": "2021-05-31T00:15:53.688092Z"
    }
   },
   "outputs": [
    {
     "data": {
      "text/html": [
       "<div>\n",
       "<style scoped>\n",
       "    .dataframe tbody tr th:only-of-type {\n",
       "        vertical-align: middle;\n",
       "    }\n",
       "\n",
       "    .dataframe tbody tr th {\n",
       "        vertical-align: top;\n",
       "    }\n",
       "\n",
       "    .dataframe thead th {\n",
       "        text-align: right;\n",
       "    }\n",
       "</style>\n",
       "<table border=\"1\" class=\"dataframe\">\n",
       "  <thead>\n",
       "    <tr style=\"text-align: right;\">\n",
       "      <th></th>\n",
       "      <th>genre</th>\n",
       "      <th>count</th>\n",
       "    </tr>\n",
       "  </thead>\n",
       "  <tbody>\n",
       "    <tr>\n",
       "      <th>0</th>\n",
       "      <td>Children's Music</td>\n",
       "      <td>0.062642</td>\n",
       "    </tr>\n",
       "    <tr>\n",
       "      <th>1</th>\n",
       "      <td>Comedy</td>\n",
       "      <td>0.051929</td>\n",
       "    </tr>\n",
       "    <tr>\n",
       "      <th>2</th>\n",
       "      <td>Soundtrack</td>\n",
       "      <td>0.051199</td>\n",
       "    </tr>\n",
       "    <tr>\n",
       "      <th>3</th>\n",
       "      <td>Classical</td>\n",
       "      <td>0.049188</td>\n",
       "    </tr>\n",
       "    <tr>\n",
       "      <th>4</th>\n",
       "      <td>Jazz</td>\n",
       "      <td>0.048673</td>\n",
       "    </tr>\n",
       "    <tr>\n",
       "      <th>5</th>\n",
       "      <td>Electronic</td>\n",
       "      <td>0.048517</td>\n",
       "    </tr>\n",
       "    <tr>\n",
       "      <th>6</th>\n",
       "      <td>Anime</td>\n",
       "      <td>0.047750</td>\n",
       "    </tr>\n",
       "    <tr>\n",
       "      <th>7</th>\n",
       "      <td>World</td>\n",
       "      <td>0.047610</td>\n",
       "    </tr>\n",
       "    <tr>\n",
       "      <th>8</th>\n",
       "      <td>Ska</td>\n",
       "      <td>0.046961</td>\n",
       "    </tr>\n",
       "    <tr>\n",
       "      <th>9</th>\n",
       "      <td>Blues</td>\n",
       "      <td>0.046269</td>\n",
       "    </tr>\n",
       "    <tr>\n",
       "      <th>10</th>\n",
       "      <td>Reggae</td>\n",
       "      <td>0.045438</td>\n",
       "    </tr>\n",
       "    <tr>\n",
       "      <th>11</th>\n",
       "      <td>Opera</td>\n",
       "      <td>0.044402</td>\n",
       "    </tr>\n",
       "    <tr>\n",
       "      <th>12</th>\n",
       "      <td>Reggaeton</td>\n",
       "      <td>0.043378</td>\n",
       "    </tr>\n",
       "    <tr>\n",
       "      <th>13</th>\n",
       "      <td>Soul</td>\n",
       "      <td>0.042294</td>\n",
       "    </tr>\n",
       "    <tr>\n",
       "      <th>14</th>\n",
       "      <td>Movie</td>\n",
       "      <td>0.041506</td>\n",
       "    </tr>\n",
       "    <tr>\n",
       "      <th>15</th>\n",
       "      <td>Folk</td>\n",
       "      <td>0.040991</td>\n",
       "    </tr>\n",
       "    <tr>\n",
       "      <th>16</th>\n",
       "      <td>Country</td>\n",
       "      <td>0.040642</td>\n",
       "    </tr>\n",
       "    <tr>\n",
       "      <th>17</th>\n",
       "      <td>R&amp;B</td>\n",
       "      <td>0.035647</td>\n",
       "    </tr>\n",
       "    <tr>\n",
       "      <th>18</th>\n",
       "      <td>Alternative</td>\n",
       "      <td>0.035138</td>\n",
       "    </tr>\n",
       "    <tr>\n",
       "      <th>19</th>\n",
       "      <td>Indie</td>\n",
       "      <td>0.034585</td>\n",
       "    </tr>\n",
       "    <tr>\n",
       "      <th>20</th>\n",
       "      <td>Hip-Hop</td>\n",
       "      <td>0.025814</td>\n",
       "    </tr>\n",
       "    <tr>\n",
       "      <th>21</th>\n",
       "      <td>Dance</td>\n",
       "      <td>0.024409</td>\n",
       "    </tr>\n",
       "    <tr>\n",
       "      <th>22</th>\n",
       "      <td>Rock</td>\n",
       "      <td>0.021136</td>\n",
       "    </tr>\n",
       "    <tr>\n",
       "      <th>23</th>\n",
       "      <td>Rap</td>\n",
       "      <td>0.020342</td>\n",
       "    </tr>\n",
       "    <tr>\n",
       "      <th>24</th>\n",
       "      <td>Pop</td>\n",
       "      <td>0.002902</td>\n",
       "    </tr>\n",
       "    <tr>\n",
       "      <th>25</th>\n",
       "      <td>A Capella</td>\n",
       "      <td>0.000638</td>\n",
       "    </tr>\n",
       "  </tbody>\n",
       "</table>\n",
       "</div>"
      ],
      "text/plain": [
       "               genre     count\n",
       "0   Children's Music  0.062642\n",
       "1             Comedy  0.051929\n",
       "2         Soundtrack  0.051199\n",
       "3          Classical  0.049188\n",
       "4               Jazz  0.048673\n",
       "5         Electronic  0.048517\n",
       "6              Anime  0.047750\n",
       "7              World  0.047610\n",
       "8                Ska  0.046961\n",
       "9              Blues  0.046269\n",
       "10            Reggae  0.045438\n",
       "11             Opera  0.044402\n",
       "12         Reggaeton  0.043378\n",
       "13              Soul  0.042294\n",
       "14             Movie  0.041506\n",
       "15              Folk  0.040991\n",
       "16           Country  0.040642\n",
       "17               R&B  0.035647\n",
       "18       Alternative  0.035138\n",
       "19             Indie  0.034585\n",
       "20           Hip-Hop  0.025814\n",
       "21             Dance  0.024409\n",
       "22              Rock  0.021136\n",
       "23               Rap  0.020342\n",
       "24               Pop  0.002902\n",
       "25         A Capella  0.000638"
      ]
     },
     "execution_count": 88,
     "metadata": {},
     "output_type": "execute_result"
    }
   ],
   "source": [
    "#displaying percentages for each genre\n",
    "unpopular_genre_df['count']=unpopular_genre_df['count']/unpopular_genre_df['count'].sum()\n",
    "unpopular_genre_df"
   ]
  },
  {
   "cell_type": "markdown",
   "metadata": {},
   "source": [
    "### Energy"
   ]
  },
  {
   "cell_type": "code",
   "execution_count": 89,
   "metadata": {
    "ExecuteTime": {
     "end_time": "2021-05-31T00:15:53.826007Z",
     "start_time": "2021-05-31T00:15:53.719074Z"
    },
    "scrolled": true
   },
   "outputs": [
    {
     "name": "stdout",
     "output_type": "stream",
     "text": [
      "count    20040.000000\n",
      "mean         0.642509\n",
      "std          0.195809\n",
      "min          0.074000\n",
      "25%          0.511000\n",
      "50%          0.662000\n",
      "75%          0.796000\n",
      "max          0.999000\n",
      "Name: energy, dtype: float64\n",
      "count    156575.000000\n",
      "mean          0.546617\n",
      "std           0.282264\n",
      "min           0.000020\n",
      "25%           0.318000\n",
      "50%           0.578000\n",
      "75%           0.788000\n",
      "max           0.999000\n",
      "Name: energy, dtype: float64\n"
     ]
    }
   ],
   "source": [
    "#removing outliers from energy scores and separating them to Series for popular and unpopular songs\n",
    "popular_energy_clean = popular_songs_df[find_outliers_IQR(popular_songs_df['energy'])==False]\n",
    "print(popular_energy_clean['energy'].describe())\n",
    "\n",
    "unpopular_energy_clean = unpopular_songs_df[find_outliers_IQR(unpopular_songs_df['energy'])==False]\n",
    "print(unpopular_energy_clean['energy'].describe())"
   ]
  },
  {
   "cell_type": "code",
   "execution_count": 90,
   "metadata": {
    "ExecuteTime": {
     "end_time": "2021-05-31T00:15:54.220760Z",
     "start_time": "2021-05-31T00:15:53.828006Z"
    }
   },
   "outputs": [
    {
     "data": {
      "image/png": "[encoded data removed]",
      "text/plain": [
       "<Figure size 576x360 with 1 Axes>"
      ]
     },
     "metadata": {},
     "output_type": "display_data"
    }
   ],
   "source": [
    "import numpy as np\n",
    "\n",
    "#storing mean energy scores in dict\n",
    "mean_energy = {'popular': popular_energy_clean['energy'].mean(), \n",
    "                     'unpopular': unpopular_energy_clean['energy'].mean()}\n",
    "#visualizing mean scores\n",
    "with sns.axes_style(\"whitegrid\"):\n",
    "    fig, ax = plt.subplots(figsize=(8,5))\n",
    "    ax.barh(y=list(mean_energy.keys()), \n",
    "            width=list(mean_energy.values()), \n",
    "            color=[sns.color_palette('viridis')[3],sns.color_palette('viridis')[4]]) \n",
    "    ax.set_xlim(0, 1)\n",
    "    ax.set_xticks(np.arange(0,1.1,0.1))\n",
    "    ax.set_ylabel('Popularity of Songs')\n",
    "    ax.set_xlabel('Mean Energy Score')\n",
    "    ax.set_title('Mean Energy Scores for Popular and Unpopular Songs')\n",
    "    plt.tight_layout()\n",
    "    plt.savefig('images/energy.jpg')"
   ]
  },
  {
   "cell_type": "markdown",
   "metadata": {
    "ExecuteTime": {
     "end_time": "2021-05-23T23:06:44.104480Z",
     "start_time": "2021-05-23T23:06:44.090504Z"
    }
   },
   "source": [
    "As we can see above, popular songs tended to be more energetic compared to unpopular songs. This makes sense since the most frequent genres we explored tend to also be energetic genres."
   ]
  },
  {
   "cell_type": "markdown",
   "metadata": {},
   "source": [
    "### Danceability"
   ]
  },
  {
   "cell_type": "code",
   "execution_count": 91,
   "metadata": {
    "ExecuteTime": {
     "end_time": "2021-05-31T00:15:54.235771Z",
     "start_time": "2021-05-31T00:15:54.222779Z"
    }
   },
   "outputs": [
    {
     "name": "stdout",
     "output_type": "stream",
     "text": [
      "Median Danceability Scores\n",
      "-------------------\n",
      "Unpopular Songs: 0.55\n",
      "Popular Songs: 0.63\n"
     ]
    }
   ],
   "source": [
    "print('Median Danceability Scores')\n",
    "print('-------------------')\n",
    "print(f\"Unpopular Songs: {round(unpopular_songs_df['danceability'].median(),2)}\")\n",
    "print(f\"Popular Songs: {round(popular_songs_df['danceability'].median(),2)}\")"
   ]
  },
  {
   "cell_type": "code",
   "execution_count": 92,
   "metadata": {
    "ExecuteTime": {
     "end_time": "2021-05-31T00:15:54.532566Z",
     "start_time": "2021-05-31T00:15:54.237750Z"
    }
   },
   "outputs": [
    {
     "data": {
      "text/plain": [
       "<matplotlib.collections.LineCollection at 0x1ddd82e5d30>"
      ]
     },
     "execution_count": 92,
     "metadata": {},
     "output_type": "execute_result"
    },
    {
     "data": {
      "image/png": "[encoded data removed]",
      "text/plain": [
       "<Figure size 432x288 with 1 Axes>"
      ]
     },
     "metadata": {
      "needs_background": "light"
     },
     "output_type": "display_data"
    }
   ],
   "source": [
    "sns.histplot(data = popular_songs_df, x='danceability', bins='auto')\n",
    "plt.vlines(x=popular_songs_df['danceability'].median(), ymin=0, ymax=1000, color='red', ls='--')"
   ]
  },
  {
   "cell_type": "code",
   "execution_count": 93,
   "metadata": {
    "ExecuteTime": {
     "end_time": "2021-05-31T00:15:54.953349Z",
     "start_time": "2021-05-31T00:15:54.534565Z"
    }
   },
   "outputs": [
    {
     "data": {
      "text/plain": [
       "<matplotlib.collections.LineCollection at 0x1ddd6880880>"
      ]
     },
     "execution_count": 93,
     "metadata": {},
     "output_type": "execute_result"
    },
    {
     "data": {
      "image/png": "[encoded data removed]",
      "text/plain": [
       "<Figure size 432x288 with 1 Axes>"
      ]
     },
     "metadata": {
      "needs_background": "light"
     },
     "output_type": "display_data"
    }
   ],
   "source": [
    "sns.histplot(data = unpopular_songs_df, x='danceability', bins='auto')\n",
    "plt.vlines(x=unpopular_songs_df['danceability'].median(), ymin=0, ymax=4000, color='red', ls='--')"
   ]
  },
  {
   "cell_type": "code",
   "execution_count": 94,
   "metadata": {
    "ExecuteTime": {
     "end_time": "2021-05-31T00:15:55.061237Z",
     "start_time": "2021-05-31T00:15:54.955303Z"
    }
   },
   "outputs": [
    {
     "name": "stdout",
     "output_type": "stream",
     "text": [
      "count    20094.000000\n",
      "mean         0.625974\n",
      "std          0.151130\n",
      "min          0.196000\n",
      "25%          0.523000\n",
      "50%          0.636000\n",
      "75%          0.738000\n",
      "max          0.985000\n",
      "Name: danceability, dtype: float64\n",
      "count    156575.000000\n",
      "mean          0.530440\n",
      "std           0.191956\n",
      "min           0.056900\n",
      "25%           0.401000\n",
      "50%           0.547000\n",
      "75%           0.674000\n",
      "max           0.989000\n",
      "Name: danceability, dtype: float64\n"
     ]
    }
   ],
   "source": [
    "#removing outliers from danceability scores and separating them to Series for popular and unpopular songs\n",
    "popular_dance_clean = popular_songs_df[find_outliers_IQR(popular_songs_df['danceability'])==False]\n",
    "print(popular_dance_clean['danceability'].describe())\n",
    "\n",
    "unpopular_dance_clean = unpopular_songs_df[find_outliers_IQR(unpopular_songs_df['danceability'])==False]\n",
    "print(unpopular_dance_clean['danceability'].describe())"
   ]
  },
  {
   "cell_type": "code",
   "execution_count": 95,
   "metadata": {
    "ExecuteTime": {
     "end_time": "2021-05-31T00:15:55.511956Z",
     "start_time": "2021-05-31T00:15:55.063236Z"
    }
   },
   "outputs": [
    {
     "data": {
      "image/png": "[encoded data removed]",
      "text/plain": [
       "<Figure size 576x360 with 1 Axes>"
      ]
     },
     "metadata": {},
     "output_type": "display_data"
    }
   ],
   "source": [
    "#storing mean danceability scores in dict\n",
    "mean_danceability = {'popular': popular_dance_clean['danceability'].mean(), \n",
    "                     'unpopular': unpopular_dance_clean['danceability'].mean()}\n",
    "\n",
    "#visualizing mean scores\n",
    "with sns.axes_style(\"whitegrid\"):\n",
    "    fig, ax = plt.subplots(figsize=(8,5))\n",
    "    ax.barh(y=list(mean_danceability.keys()), \n",
    "            width=list(mean_danceability.values()), \n",
    "            color=[sns.color_palette('viridis')[0],sns.color_palette('viridis')[1]]) \n",
    "    ax.set_xlim(0, 1)\n",
    "    ax.set_xticks(np.arange(0,1.1,0.1))\n",
    "    ax.set_ylabel('Popularity of Songs')\n",
    "    ax.set_xlabel('Mean Danceability Score')\n",
    "    ax.set_title('Mean Danceability Scores for Popular and Unpopular Songs')\n",
    "    plt.tight_layout();\n",
    "    plt.savefig('images/danceability.jpg')"
   ]
  },
  {
   "cell_type": "markdown",
   "metadata": {},
   "source": [
    "Above, it is clear that the popular songs tended to have a higher danceability score compared to unpopular songs. This follows the same trend as the energy scores where majority of the popular songs are high energy and danceable (refer to Appendix A for definition of \"danceability\": high tempo, high beat strength etc.)"
   ]
  },
  {
   "cell_type": "markdown",
   "metadata": {},
   "source": [
    "### Acousticness"
   ]
  },
  {
   "cell_type": "code",
   "execution_count": 96,
   "metadata": {
    "ExecuteTime": {
     "end_time": "2021-05-31T00:15:55.621908Z",
     "start_time": "2021-05-31T00:15:55.513957Z"
    }
   },
   "outputs": [
    {
     "name": "stdout",
     "output_type": "stream",
     "text": [
      "count    19715.000000\n",
      "mean         0.226220\n",
      "std          0.248585\n",
      "min          0.000002\n",
      "25%          0.026400\n",
      "50%          0.125000\n",
      "75%          0.355000\n",
      "max          0.913000\n",
      "Name: acousticness, dtype: float64\n",
      "count    156575.000000\n",
      "mean          0.424829\n",
      "std           0.371949\n",
      "min           0.000000\n",
      "25%           0.049800\n",
      "50%           0.329000\n",
      "75%           0.819000\n",
      "max           0.996000\n",
      "Name: acousticness, dtype: float64\n"
     ]
    }
   ],
   "source": [
    "#removing outliers from danceability scores and separating them to Series for popular and unpopular songs\n",
    "popular_acoustic_clean = popular_songs_df[find_outliers_IQR(popular_songs_df['acousticness'])==False]\n",
    "print(popular_acoustic_clean['acousticness'].describe())\n",
    "\n",
    "unpopular_acoustic_clean = unpopular_songs_df[find_outliers_IQR(unpopular_songs_df['acousticness'])==False]\n",
    "print(unpopular_acoustic_clean['acousticness'].describe())"
   ]
  },
  {
   "cell_type": "code",
   "execution_count": 97,
   "metadata": {
    "ExecuteTime": {
     "end_time": "2021-05-31T00:15:55.871777Z",
     "start_time": "2021-05-31T00:15:55.623887Z"
    }
   },
   "outputs": [
    {
     "data": {
      "text/plain": [
       "<matplotlib.collections.LineCollection at 0x1ddd82e54c0>"
      ]
     },
     "execution_count": 97,
     "metadata": {},
     "output_type": "execute_result"
    },
    {
     "data": {
      "image/png": "[encoded data removed]",
      "text/plain": [
       "<Figure size 432x288 with 1 Axes>"
      ]
     },
     "metadata": {
      "needs_background": "light"
     },
     "output_type": "display_data"
    }
   ],
   "source": [
    "sns.histplot(data = popular_acoustic_clean, x='acousticness', bins='auto')\n",
    "plt.vlines(x=popular_acoustic_clean['acousticness'].mean(), ymin=0, ymax=5000, color='red', ls='--')"
   ]
  },
  {
   "cell_type": "code",
   "execution_count": 98,
   "metadata": {
    "ExecuteTime": {
     "end_time": "2021-05-31T00:15:56.219531Z",
     "start_time": "2021-05-31T00:15:55.873731Z"
    },
    "scrolled": true
   },
   "outputs": [
    {
     "data": {
      "text/plain": [
       "<matplotlib.collections.LineCollection at 0x1ddd82e5430>"
      ]
     },
     "execution_count": 98,
     "metadata": {},
     "output_type": "execute_result"
    },
    {
     "data": {
      "image/png": "[encoded data removed]",
      "text/plain": [
       "<Figure size 432x288 with 1 Axes>"
      ]
     },
     "metadata": {
      "needs_background": "light"
     },
     "output_type": "display_data"
    }
   ],
   "source": [
    "sns.histplot(data = unpopular_songs_df, x='acousticness', bins='auto')\n",
    "plt.vlines(x=unpopular_songs_df['acousticness'].median(), ymin=0, ymax=30000, color='red', ls='--')"
   ]
  },
  {
   "cell_type": "code",
   "execution_count": 99,
   "metadata": {
    "ExecuteTime": {
     "end_time": "2021-05-31T00:15:56.661250Z",
     "start_time": "2021-05-31T00:15:56.221517Z"
    }
   },
   "outputs": [
    {
     "data": {
      "image/png": "[encoded data removed]",
      "text/plain": [
       "<Figure size 576x360 with 1 Axes>"
      ]
     },
     "metadata": {},
     "output_type": "display_data"
    }
   ],
   "source": [
    "#storing mean acousticness scores in dict\n",
    "mean_acousticness = {'popular': popular_acoustic_clean['acousticness'].mean(), \n",
    "                     'unpopular': unpopular_acoustic_clean['acousticness'].mean()}\n",
    "\n",
    "#visualizing mean scores\n",
    "with sns.axes_style(\"whitegrid\"):\n",
    "    fig, ax = plt.subplots(figsize=(8,5))\n",
    "    ax.barh(y=list(mean_acousticness.keys()), \n",
    "            width=list(mean_acousticness.values()), \n",
    "            color=[sns.color_palette('viridis')[2],sns.color_palette('viridis')[3]]) \n",
    "    ax.set_xlim(0, 1)\n",
    "    ax.set_xticks(np.arange(0,1.1,0.1))\n",
    "    ax.set_ylabel('Popularity of Songs')\n",
    "    ax.set_xlabel('Mean Acousticness Score')\n",
    "    ax.set_title('Mean Acousticness Scores for Popular and Unpopular Songs')\n",
    "    plt.tight_layout();\n",
    "    plt.savefig('images/acousticness.jpg')"
   ]
  },
  {
   "cell_type": "markdown",
   "metadata": {},
   "source": [
    "Similar to the energy and danceability scores we see that the popular songs tended to have a lower acousticness score. Since acoustic songs are usually lower energy and rarely danceable this follows the same trend we've been observing."
   ]
  },
  {
   "cell_type": "markdown",
   "metadata": {},
   "source": [
    "# CONCLUSIONS & RECOMMENDATIONS"
   ]
  },
  {
   "cell_type": "markdown",
   "metadata": {},
   "source": [
    "## Best Model Results"
   ]
  },
  {
   "cell_type": "code",
   "execution_count": 106,
   "metadata": {
    "ExecuteTime": {
     "end_time": "2021-05-31T00:23:48.032947Z",
     "start_time": "2021-05-31T00:23:48.016957Z"
    }
   },
   "outputs": [
    {
     "data": {
      "text/html": [
       "<div>\n",
       "<style scoped>\n",
       "    .dataframe tbody tr th:only-of-type {\n",
       "        vertical-align: middle;\n",
       "    }\n",
       "\n",
       "    .dataframe tbody tr th {\n",
       "        vertical-align: top;\n",
       "    }\n",
       "\n",
       "    .dataframe thead th {\n",
       "        text-align: right;\n",
       "    }\n",
       "</style>\n",
       "<table border=\"1\" class=\"dataframe\">\n",
       "  <thead>\n",
       "    <tr style=\"text-align: right;\">\n",
       "      <th></th>\n",
       "      <th>Model Name</th>\n",
       "      <th>Recall Score</th>\n",
       "    </tr>\n",
       "  </thead>\n",
       "  <tbody>\n",
       "    <tr>\n",
       "      <th>3</th>\n",
       "      <td>Logistic Regression</td>\n",
       "      <td>0.66</td>\n",
       "    </tr>\n",
       "    <tr>\n",
       "      <th>2</th>\n",
       "      <td>XGBoost</td>\n",
       "      <td>0.65</td>\n",
       "    </tr>\n",
       "    <tr>\n",
       "      <th>1</th>\n",
       "      <td>Random Forest</td>\n",
       "      <td>0.60</td>\n",
       "    </tr>\n",
       "    <tr>\n",
       "      <th>0</th>\n",
       "      <td>Dummy Classifier</td>\n",
       "      <td>0.51</td>\n",
       "    </tr>\n",
       "  </tbody>\n",
       "</table>\n",
       "</div>"
      ],
      "text/plain": [
       "            Model Name  Recall Score\n",
       "3  Logistic Regression          0.66\n",
       "2              XGBoost          0.65\n",
       "1        Random Forest          0.60\n",
       "0     Dummy Classifier          0.51"
      ]
     },
     "execution_count": 106,
     "metadata": {},
     "output_type": "execute_result"
    }
   ],
   "source": [
    "df_results.sort_values(by='Recall Score', ascending=False)"
   ]
  },
  {
   "cell_type": "markdown",
   "metadata": {},
   "source": [
    "Out of the 3 models, the Logistic Regression model was the best one in identifying popular songs. It had a 66% recall score for identifying popular songs compared to 51% by the baseline Dummy Classifier model. The closest rival was the XGBoost model at 65%. Even though XGBoost fell short in this regard, we consider the XGBoost as the best overall model since it had 4% higher recall score in identifying unpopular songs compared to the Logistic Regression model. Since this project was focused on identifying popular songs, Logistic Regression wins. "
   ]
  },
  {
   "cell_type": "markdown",
   "metadata": {},
   "source": [
    "## Takeaways"
   ]
  },
  {
   "cell_type": "markdown",
   "metadata": {},
   "source": [
    "In a competitive environment like the music streaming market, it is vital to retain current subscribers and add new subscribers over time. By accurately predicting which song will be popular next, companies like Spotify can leverage this information to create better playlists and find and sign exclusivity deals with established and up-and-coming artists more easily.  To sum up, our analysis of approximately 176,000 songs from 2019 showed the following:\n",
    "\n",
    "- Popular songs tend to have Pop, Rap, Rock, Hip-Hop and Dance as their genres.\n",
    "- More niche genres such as Children's Music, Comedy, Soundtracks, Classical and Jazz tend to be unpopular.\n",
    "- Generally, popular songs are higher energy, danceable, and therefore less acoustic."
   ]
  },
  {
   "cell_type": "markdown",
   "metadata": {},
   "source": [
    "## Recommendations"
   ]
  },
  {
   "cell_type": "markdown",
   "metadata": {},
   "source": [
    "Our recommendations to Spotify for leveraging this information would be the following:\n",
    "\n",
    "- By identifying the next popular songs, Spotify can reach out to these artists and sign exclusivity deals with them to make their soon-to-be popular music available only on Spotify's platform. This would also help in identifying up-and-coming artists and may provide additional opportunities in the future.\n",
    "\n",
    "- Furthermore, Spotify can work with these artists on additional exclusive content such as song commentary or behind the scenes recordings.\n",
    "\n",
    "- Spotify can also curate even better playlists for their current subscribers by finding \"fresh hits\" ahead of the competition and use this to market the platform to new subscribers.\n",
    "\n",
    "We think that by utilizing our model and the insights we've highlighted, Spotify will stay competitive in the music streaming market for years to come."
   ]
  }
 ],
 "metadata": {
  "kernelspec": {
   "display_name": "learn-env",
   "language": "python",
   "name": "learn-env"
  },
  "language_info": {
   "codemirror_mode": {
    "name": "ipython",
    "version": 3
   },
   "file_extension": ".py",
   "mimetype": "text/x-python",
   "name": "python",
   "nbconvert_exporter": "python",
   "pygments_lexer": "ipython3",
   "version": "3.8.5"
  },
  "toc": {
   "base_numbering": 1,
   "nav_menu": {},
   "number_sections": false,
   "sideBar": true,
   "skip_h1_title": false,
   "title_cell": "Table of Contents",
   "title_sidebar": "Contents",
   "toc_cell": false,
   "toc_position": {
    "height": "calc(100% - 180px)",
    "left": "10px",
    "top": "150px",
    "width": "384px"
   },
   "toc_section_display": true,
   "toc_window_display": true
  },
  "varInspector": {
   "cols": {
    "lenName": 16,
    "lenType": 16,
    "lenVar": 40
   },
   "kernels_config": {
    "python": {
     "delete_cmd_postfix": "",
     "delete_cmd_prefix": "del ",
     "library": "var_list.py",
     "varRefreshCmd": "print(var_dic_list())"
    },
    "r": {
     "delete_cmd_postfix": ") ",
     "delete_cmd_prefix": "rm(",
     "library": "var_list.r",
     "varRefreshCmd": "cat(var_dic_list()) "
    }
   },
   "types_to_exclude": [
    "module",
    "function",
    "builtin_function_or_method",
    "instance",
    "_Feature"
   ],
   "window_display": false
  }
 },
 "nbformat": 4,
 "nbformat_minor": 2
}
